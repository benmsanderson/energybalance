{
  "nbformat": 4,
  "nbformat_minor": 0,
  "metadata": {
    "colab": {
      "name": "read cmip5.ipynb",
      "provenance": [],
      "collapsed_sections": [],
      "toc_visible": true,
      "machine_shape": "hm",
      "include_colab_link": true
    },
    "kernelspec": {
      "display_name": "Python 3",
      "language": "python",
      "name": "python3"
    },
    "language_info": {
      "codemirror_mode": {
        "name": "ipython",
        "version": 3
      },
      "file_extension": ".py",
      "mimetype": "text/x-python",
      "name": "python",
      "nbconvert_exporter": "python",
      "pygments_lexer": "ipython3",
      "version": "3.7.3"
    }
  },
  "cells": [
    {
      "cell_type": "markdown",
      "metadata": {
        "id": "view-in-github",
        "colab_type": "text"
      },
      "source": [
        "<a href=\"https://colab.research.google.com/github/benmsanderson/energybalance/blob/main/read_cmip5.ipynb\" target=\"_parent\"><img src=\"https://colab.research.google.com/assets/colab-badge.svg\" alt=\"Open In Colab\"/></a>"
      ]
    },
    {
      "cell_type": "markdown",
      "metadata": {
        "id": "ibGzDNElOzhq"
      },
      "source": [
        "# 4xCO2 read data\n",
        "\n",
        "\n",
        "CMIP6"
      ]
    },
    {
      "cell_type": "code",
      "metadata": {
        "id": "W4fTIkDuBj-I"
      },
      "source": [
        "readdata=1\n",
        "authdrive=1"
      ],
      "execution_count": null,
      "outputs": []
    },
    {
      "cell_type": "markdown",
      "metadata": {
        "id": "EGi7G5EmzrcG"
      },
      "source": [
        "Desired interpolation grid"
      ]
    },
    {
      "cell_type": "markdown",
      "metadata": {
        "id": "r-32Yp_fz4Gz"
      },
      "source": [
        "Desired experiments"
      ]
    },
    {
      "cell_type": "code",
      "metadata": {
        "id": "bcDSbcN5kp-o"
      },
      "source": [
        "flds=['rsut','rlut','tas','rsdt']\n",
        "expts=['abrupt-4xCO2','piControl']\n",
        "calstrt=[True,True,True]\n",
        "dbe=['CMIP5','CMIP5','CMIP5']"
      ],
      "execution_count": null,
      "outputs": []
    },
    {
      "cell_type": "markdown",
      "metadata": {
        "id": "CUXOIoRvfbXn"
      },
      "source": [
        "Install some stuff"
      ]
    },
    {
      "cell_type": "code",
      "metadata": {
        "id": "UyVE585SCRmq",
        "colab": {
          "base_uri": "https://localhost:8080/"
        },
        "outputId": "3877a58d-eef4-44cc-8ada-347ef7a1a436"
      },
      "source": [
        "!pip uninstall -y albumentations >/dev/null\n",
        "!pip install --upgrade xarray zarr gcsfs cftime pydsm nc-time-axis imgaug matplotlib==3.1.3 progress eofs cartopy netcdf4 >/dev/null"
      ],
      "execution_count": null,
      "outputs": [
        {
          "output_type": "stream",
          "name": "stdout",
          "text": [
            "\u001b[33mWARNING: Skipping albumentations as it is not installed.\u001b[0m\n",
            "\u001b[33mWARNING: Discarding https://files.pythonhosted.org/packages/f6/55/1e1c737dc9436b320deead73d1c455ddbb74b8b6992081863492f6f6378a/Cartopy-0.20.2.tar.gz#sha256=4d08c198ecaa50a6a6b109d0f14c070e813defc046a83ac5d7ab494f85599e35 (from https://pypi.org/simple/cartopy/) (requires-python:>=3.7). Command errored out with exit status 1: /usr/bin/python3 /usr/local/lib/python3.7/dist-packages/pip/_vendor/pep517/in_process/_in_process.py get_requires_for_build_wheel /tmp/tmphq4hme8q Check the logs for full command output.\u001b[0m\n",
            "\u001b[33mWARNING: Discarding https://files.pythonhosted.org/packages/fc/59/aa52698e3838f4cd0e7eaa75bd86837e9e0b05041dbdaee3cda2fffced06/Cartopy-0.20.1.tar.gz#sha256=91f87b130e2574547a20cd634498df97d797abd12dcfd0235bc0cdbcec8b05e3 (from https://pypi.org/simple/cartopy/) (requires-python:>=3.7). Command errored out with exit status 1: /usr/bin/python3 /usr/local/lib/python3.7/dist-packages/pip/_vendor/pep517/in_process/_in_process.py get_requires_for_build_wheel /tmp/tmp3p07lot5 Check the logs for full command output.\u001b[0m\n",
            "\u001b[33mWARNING: Discarding https://files.pythonhosted.org/packages/0f/c0/58453b036e79046d211f083880d58dcce787e7e07647ac25dc46c6555099/Cartopy-0.20.0.tar.gz#sha256=eae58aff26806e63cf115b2bce9477cedc4aa9f578c5e477b2c25cfa404f2b7a (from https://pypi.org/simple/cartopy/) (requires-python:>=3.7). Command errored out with exit status 1: /usr/bin/python3 /usr/local/lib/python3.7/dist-packages/pip/_vendor/pep517/in_process/_in_process.py get_requires_for_build_wheel /tmp/tmpyg5wfj9s Check the logs for full command output.\u001b[0m\n"
          ]
        }
      ]
    },
    {
      "cell_type": "markdown",
      "metadata": {
        "id": "Qg99d58j0JjT"
      },
      "source": [
        "Import stuff"
      ]
    },
    {
      "cell_type": "code",
      "metadata": {
        "id": "aH3VEYX-Ozht",
        "colab": {
          "base_uri": "https://localhost:8080/"
        },
        "outputId": "8a23f0d8-2f67-4b0c-9b8d-f1b9d291b1a3"
      },
      "source": [
        "from matplotlib import pyplot as plt\n",
        "from netCDF4 import num2date\n",
        "import numpy as np\n",
        "import pydsm.relab as relab\n",
        "import numpy.matlib\n",
        "import pandas as pd\n",
        "import xarray as xr\n",
        "import zarr\n",
        "import gcsfs\n",
        "import pickle\n",
        "import cftime\n",
        "import cartopy.crs as ccrs\n",
        "import dask as da\n",
        "from eofs.xarray import Eof\n",
        "from sys import getsizeof\n",
        "from IPython.display import HTML, display\n",
        "import time\n",
        "import glob\n",
        "\n",
        "xr.set_options(display_style='html')\n",
        "%matplotlib inline\n",
        "%config InlineBackend.figure_format = 'retina' \n",
        "from psutil import virtual_memory\n",
        "ram_gb = virtual_memory().total / 1e9\n",
        "print('runtime has {:.1f} gigabytes of available RAM\\n'.format(ram_gb))\n",
        "\n",
        "#code for pretty progress bars\n",
        "def progress(value, max=100):\n",
        "    return HTML(\"\"\"\n",
        "        <progress\n",
        "            value='{value}'\n",
        "            max='{max}',\n",
        "            style='width: 100%'\n",
        "        >\n",
        "            {value}\n",
        "        </progress>\n",
        "    \"\"\".format(value=value, max=max))\n"
      ],
      "execution_count": null,
      "outputs": [
        {
          "output_type": "stream",
          "name": "stdout",
          "text": [
            "runtime has 27.3 gigabytes of available RAM\n",
            "\n"
          ]
        }
      ]
    },
    {
      "cell_type": "code",
      "metadata": {
        "id": "wJe1cbeujNAt"
      },
      "source": [
        "lon_out=np.arange(1,359,2)\n",
        "lat_out=np.arange(-89,89,2)\n",
        "lons_sub, lats_sub = np.meshgrid(lon_out,lat_out)"
      ],
      "execution_count": null,
      "outputs": []
    },
    {
      "cell_type": "markdown",
      "metadata": {
        "id": "Gllex63_1fRS"
      },
      "source": [
        "Activate Google Drive to store arrays"
      ]
    },
    {
      "cell_type": "code",
      "metadata": {
        "id": "meCWM0nwR3JG",
        "colab": {
          "base_uri": "https://localhost:8080/"
        },
        "outputId": "897cf67c-ed92-4b37-e979-4fb5617adf4f"
      },
      "source": [
        "if authdrive:\n",
        "  from google.colab import drive\n",
        "  drive.mount('/content/drive')"
      ],
      "execution_count": null,
      "outputs": [
        {
          "output_type": "stream",
          "name": "stdout",
          "text": [
            "Drive already mounted at /content/drive; to attempt to forcibly remount, call drive.mount(\"/content/drive\", force_remount=True).\n"
          ]
        }
      ]
    },
    {
      "cell_type": "code",
      "metadata": {
        "id": "F-G_m3ncOzhx"
      },
      "source": [
        "plt.rcParams['figure.figsize'] = 12, 6"
      ],
      "execution_count": null,
      "outputs": []
    },
    {
      "cell_type": "markdown",
      "metadata": {
        "id": "ss9_lR75Ozhz"
      },
      "source": [
        "## Browse Catalog\n",
        "\n",
        "The data catatalog is stored as a CSV file. Here we read it with Pandas."
      ]
    },
    {
      "cell_type": "code",
      "metadata": {
        "id": "PCXMl4MxOzh0"
      },
      "source": [
        "df = pd.read_csv('https://storage.googleapis.com/cmip6/pangeo-cmip5.csv', low_memory=False)"
      ],
      "execution_count": null,
      "outputs": []
    },
    {
      "cell_type": "markdown",
      "metadata": {
        "id": "ZBx9e0yoOzh4"
      },
      "source": [
        "Variables and experiments in database"
      ]
    },
    {
      "cell_type": "code",
      "metadata": {
        "id": "NLF-3NGNJ0Lg",
        "colab": {
          "base_uri": "https://localhost:8080/"
        },
        "outputId": "b7423031-fe33-4f9b-a98e-7ad13f0f1bdc"
      },
      "source": [
        "df.activity_id.unique()"
      ],
      "execution_count": null,
      "outputs": [
        {
          "output_type": "execute_result",
          "data": {
            "text/plain": [
              "array(['CMIP5'], dtype=object)"
            ]
          },
          "metadata": {},
          "execution_count": 25
        }
      ]
    },
    {
      "cell_type": "code",
      "metadata": {
        "id": "63MbtACruzl0",
        "colab": {
          "base_uri": "https://localhost:8080/"
        },
        "outputId": "d301e72f-a593-4e69-845e-1183c5bfc40f"
      },
      "source": [
        "vars=df.variable_id.unique()\n",
        "vars.sort()\n",
        "expts_full=df.experiment_id.unique()\n",
        "expts_full.sort()\n",
        "expts_full"
      ],
      "execution_count": null,
      "outputs": [
        {
          "output_type": "execute_result",
          "data": {
            "text/plain": [
              "array(['1pctCO2', 'abrupt-4xCO2', 'historical', 'piControl', 'rcp26',\n",
              "       'rcp85'], dtype=object)"
            ]
          },
          "metadata": {},
          "execution_count": 26
        }
      ]
    },
    {
      "cell_type": "markdown",
      "metadata": {
        "id": "T0VMdjW1iDci"
      },
      "source": [
        "Make dataframe for each experiment type and each field"
      ]
    },
    {
      "cell_type": "code",
      "metadata": {
        "id": "7CtTfLX4l55-"
      },
      "source": [
        "df_all1=[]\n",
        "for i, row in enumerate(expts):\n",
        "  df_ta1=[]\n",
        "  for j,fld in enumerate(flds):\n",
        "    tmp = df.query(\"activity_id=='\"+dbe[i]+\"' & table_id == 'Amon' & variable_id == '\"+fld+\"' & experiment_id == '\"+expts[i]+\"'\")\n",
        "    df_ta1.append(tmp)\n",
        "  df_all1.append(df_ta1)"
      ],
      "execution_count": null,
      "outputs": []
    },
    {
      "cell_type": "markdown",
      "metadata": {
        "id": "DHjMWI1vncVA"
      },
      "source": [
        "Isolate unique models which have completed 4xco2"
      ]
    },
    {
      "cell_type": "code",
      "metadata": {
        "id": "Us6_WU0unYZ9",
        "colab": {
          "base_uri": "https://localhost:8080/"
        },
        "outputId": "01a64806-6283-4fe7-d5ac-4f3a2a212c4b"
      },
      "source": [
        "mdls1=df_all1[0][0].source_id.unique()\n",
        "mdls1.sort()\n",
        "mdls1"
      ],
      "execution_count": null,
      "outputs": [
        {
          "output_type": "execute_result",
          "data": {
            "text/plain": [
              "array(['ACCESS1-0', 'ACCESS1-3', 'BNU-ESM', 'CCSM4', 'CESM1-CAM5-1-FV2',\n",
              "       'CNRM-CM5', 'CNRM-CM5-2', 'CSIRO-Mk3-6-0', 'CanESM2', 'FGOALS-g2',\n",
              "       'FGOALS-s2', 'GFDL-CM3', 'GFDL-ESM2G', 'GFDL-ESM2M', 'GISS-E2-H',\n",
              "       'GISS-E2-R', 'HadGEM2-ES', 'IPSL-CM5A-LR', 'IPSL-CM5A-MR',\n",
              "       'IPSL-CM5B-LR', 'MIROC-ESM', 'MIROC5', 'MPI-ESM-LR', 'MPI-ESM-MR',\n",
              "       'MPI-ESM-P', 'MRI-CGCM3', 'NorESM1-M', 'bcc-csm1-1',\n",
              "       'bcc-csm1-1-m', 'inmcm4'], dtype=object)"
            ]
          },
          "metadata": {},
          "execution_count": 28
        }
      ]
    },
    {
      "cell_type": "markdown",
      "metadata": {
        "id": "3icBRk1HoVBy"
      },
      "source": [
        "Make some empty dataframes to store concise list"
      ]
    },
    {
      "cell_type": "code",
      "metadata": {
        "id": "ioN3qmZGoSCF"
      },
      "source": [
        "cnames=df_all1[0][0].columns\n",
        "df_all=[]\n",
        "for i, exp in enumerate(expts):\n",
        "  tmp=[]\n",
        "  for j,fld  in enumerate(flds):\n",
        "    tmp.append(pd.DataFrame(columns=cnames))\n",
        "  df_all.append(tmp)"
      ],
      "execution_count": null,
      "outputs": []
    },
    {
      "cell_type": "markdown",
      "metadata": {
        "id": "quwfwHOnnz0O"
      },
      "source": [
        "Now get 1 ensemble member for each model, if it exists, for each experiment.  Only add to dataframe df_ta if we have a full set of experiments"
      ]
    },
    {
      "cell_type": "code",
      "metadata": {
        "id": "dSGZ2KhdSjAK"
      },
      "source": [
        "mdls=[]\n",
        "n=0\n",
        "for j, mdl in enumerate(mdls1):\n",
        "    tmpdf=[]\n",
        "    nruns=[]\n",
        "    for i, ext in enumerate(expts):\n",
        "        #find first variable for expt/model\n",
        "        for j, fld in enumerate(flds):\n",
        "          tmp=df_all1[i][j].query(\"source_id=='\"+mdl+\"'\")\n",
        "          nruns.append(tmp.shape[0])\n",
        "    #is there at least 1 run per experiment,with all fields?\n",
        "    if min(nruns)>=1:\n",
        "      #point to the entry for 1st run, first variable for each expt\n",
        "      for i, ext in enumerate(expts):\n",
        "        mmb=df_all1[i][0]['member_id'].values[0]\n",
        "        for j, fld in enumerate(flds):\n",
        "            #tt = df_all1[i][j].query(\"source_id=='\"+mdl+\"' & table_id == 'Amon' & member_id == '\"+mmb+\"'\")\n",
        "            tt = df_all1[i][j].query(\"source_id=='\"+mdl+\"' & table_id == 'Amon'\")\n",
        "            df_all[i][j].loc[n]=tt.values[0]\n",
        "\n",
        "      #add model to final list\n",
        "      mdls.append(mdl)\n",
        "      n=n+1\n",
        "    \n",
        "    "
      ],
      "execution_count": null,
      "outputs": []
    },
    {
      "cell_type": "code",
      "source": [
        "df_all1[i][j].query(\"source_id=='\"+mdl+\"'\")"
      ],
      "metadata": {
        "colab": {
          "base_uri": "https://localhost:8080/",
          "height": 145
        },
        "id": "7dS-Wo714SQ1",
        "outputId": "c899bbbf-6d79-405f-862b-4ff7beebc06e"
      },
      "execution_count": null,
      "outputs": [
        {
          "output_type": "execute_result",
          "data": {
            "text/html": [
              "\n",
              "  <div id=\"df-c5a052f2-c6a6-4642-97fc-ec15eac230ef\">\n",
              "    <div class=\"colab-df-container\">\n",
              "      <div>\n",
              "<style scoped>\n",
              "    .dataframe tbody tr th:only-of-type {\n",
              "        vertical-align: middle;\n",
              "    }\n",
              "\n",
              "    .dataframe tbody tr th {\n",
              "        vertical-align: top;\n",
              "    }\n",
              "\n",
              "    .dataframe thead th {\n",
              "        text-align: right;\n",
              "    }\n",
              "</style>\n",
              "<table border=\"1\" class=\"dataframe\">\n",
              "  <thead>\n",
              "    <tr style=\"text-align: right;\">\n",
              "      <th></th>\n",
              "      <th>activity_id</th>\n",
              "      <th>institution_id</th>\n",
              "      <th>source_id</th>\n",
              "      <th>experiment_id</th>\n",
              "      <th>member_id</th>\n",
              "      <th>table_id</th>\n",
              "      <th>variable_id</th>\n",
              "      <th>grid_label</th>\n",
              "      <th>zstore</th>\n",
              "      <th>dcpp_init_year</th>\n",
              "    </tr>\n",
              "  </thead>\n",
              "  <tbody>\n",
              "    <tr>\n",
              "      <th>861</th>\n",
              "      <td>CMIP5</td>\n",
              "      <td>INM</td>\n",
              "      <td>inmcm4</td>\n",
              "      <td>piControl</td>\n",
              "      <td>r1i1p1f1</td>\n",
              "      <td>Amon</td>\n",
              "      <td>rsdt</td>\n",
              "      <td>gn</td>\n",
              "      <td>gs://cmip6/CMIP5/INM/inmcm4/piControl/r1i1p1f1...</td>\n",
              "      <td>NaN</td>\n",
              "    </tr>\n",
              "  </tbody>\n",
              "</table>\n",
              "</div>\n",
              "      <button class=\"colab-df-convert\" onclick=\"convertToInteractive('df-c5a052f2-c6a6-4642-97fc-ec15eac230ef')\"\n",
              "              title=\"Convert this dataframe to an interactive table.\"\n",
              "              style=\"display:none;\">\n",
              "        \n",
              "  <svg xmlns=\"http://www.w3.org/2000/svg\" height=\"24px\"viewBox=\"0 0 24 24\"\n",
              "       width=\"24px\">\n",
              "    <path d=\"M0 0h24v24H0V0z\" fill=\"none\"/>\n",
              "    <path d=\"M18.56 5.44l.94 2.06.94-2.06 2.06-.94-2.06-.94-.94-2.06-.94 2.06-2.06.94zm-11 1L8.5 8.5l.94-2.06 2.06-.94-2.06-.94L8.5 2.5l-.94 2.06-2.06.94zm10 10l.94 2.06.94-2.06 2.06-.94-2.06-.94-.94-2.06-.94 2.06-2.06.94z\"/><path d=\"M17.41 7.96l-1.37-1.37c-.4-.4-.92-.59-1.43-.59-.52 0-1.04.2-1.43.59L10.3 9.45l-7.72 7.72c-.78.78-.78 2.05 0 2.83L4 21.41c.39.39.9.59 1.41.59.51 0 1.02-.2 1.41-.59l7.78-7.78 2.81-2.81c.8-.78.8-2.07 0-2.86zM5.41 20L4 18.59l7.72-7.72 1.47 1.35L5.41 20z\"/>\n",
              "  </svg>\n",
              "      </button>\n",
              "      \n",
              "  <style>\n",
              "    .colab-df-container {\n",
              "      display:flex;\n",
              "      flex-wrap:wrap;\n",
              "      gap: 12px;\n",
              "    }\n",
              "\n",
              "    .colab-df-convert {\n",
              "      background-color: #E8F0FE;\n",
              "      border: none;\n",
              "      border-radius: 50%;\n",
              "      cursor: pointer;\n",
              "      display: none;\n",
              "      fill: #1967D2;\n",
              "      height: 32px;\n",
              "      padding: 0 0 0 0;\n",
              "      width: 32px;\n",
              "    }\n",
              "\n",
              "    .colab-df-convert:hover {\n",
              "      background-color: #E2EBFA;\n",
              "      box-shadow: 0px 1px 2px rgba(60, 64, 67, 0.3), 0px 1px 3px 1px rgba(60, 64, 67, 0.15);\n",
              "      fill: #174EA6;\n",
              "    }\n",
              "\n",
              "    [theme=dark] .colab-df-convert {\n",
              "      background-color: #3B4455;\n",
              "      fill: #D2E3FC;\n",
              "    }\n",
              "\n",
              "    [theme=dark] .colab-df-convert:hover {\n",
              "      background-color: #434B5C;\n",
              "      box-shadow: 0px 1px 3px 1px rgba(0, 0, 0, 0.15);\n",
              "      filter: drop-shadow(0px 1px 2px rgba(0, 0, 0, 0.3));\n",
              "      fill: #FFFFFF;\n",
              "    }\n",
              "  </style>\n",
              "\n",
              "      <script>\n",
              "        const buttonEl =\n",
              "          document.querySelector('#df-c5a052f2-c6a6-4642-97fc-ec15eac230ef button.colab-df-convert');\n",
              "        buttonEl.style.display =\n",
              "          google.colab.kernel.accessAllowed ? 'block' : 'none';\n",
              "\n",
              "        async function convertToInteractive(key) {\n",
              "          const element = document.querySelector('#df-c5a052f2-c6a6-4642-97fc-ec15eac230ef');\n",
              "          const dataTable =\n",
              "            await google.colab.kernel.invokeFunction('convertToInteractive',\n",
              "                                                     [key], {});\n",
              "          if (!dataTable) return;\n",
              "\n",
              "          const docLinkHtml = 'Like what you see? Visit the ' +\n",
              "            '<a target=\"_blank\" href=https://colab.research.google.com/notebooks/data_table.ipynb>data table notebook</a>'\n",
              "            + ' to learn more about interactive tables.';\n",
              "          element.innerHTML = '';\n",
              "          dataTable['output_type'] = 'display_data';\n",
              "          await google.colab.output.renderOutput(dataTable, element);\n",
              "          const docLink = document.createElement('div');\n",
              "          docLink.innerHTML = docLinkHtml;\n",
              "          element.appendChild(docLink);\n",
              "        }\n",
              "      </script>\n",
              "    </div>\n",
              "  </div>\n",
              "  "
            ],
            "text/plain": [
              "    activity_id  ... dcpp_init_year\n",
              "861       CMIP5  ...            NaN\n",
              "\n",
              "[1 rows x 10 columns]"
            ]
          },
          "metadata": {},
          "execution_count": 31
        }
      ]
    },
    {
      "cell_type": "code",
      "metadata": {
        "id": "t38GkquCLrcz",
        "colab": {
          "base_uri": "https://localhost:8080/"
        },
        "outputId": "ef1a73a4-8d7f-4933-f476-d65c58e72747"
      },
      "source": [
        "mdls"
      ],
      "execution_count": null,
      "outputs": [
        {
          "output_type": "execute_result",
          "data": {
            "text/plain": [
              "['ACCESS1-0',\n",
              " 'ACCESS1-3',\n",
              " 'CCSM4',\n",
              " 'CNRM-CM5',\n",
              " 'CSIRO-Mk3-6-0',\n",
              " 'CanESM2',\n",
              " 'FGOALS-g2',\n",
              " 'FGOALS-s2',\n",
              " 'GFDL-CM3',\n",
              " 'GFDL-ESM2G',\n",
              " 'GFDL-ESM2M',\n",
              " 'GISS-E2-H',\n",
              " 'GISS-E2-R',\n",
              " 'HadGEM2-ES',\n",
              " 'IPSL-CM5A-LR',\n",
              " 'IPSL-CM5A-MR',\n",
              " 'IPSL-CM5B-LR',\n",
              " 'MIROC-ESM',\n",
              " 'MIROC5',\n",
              " 'MPI-ESM-LR',\n",
              " 'MPI-ESM-P',\n",
              " 'NorESM1-M',\n",
              " 'bcc-csm1-1',\n",
              " 'bcc-csm1-1-m',\n",
              " 'inmcm4']"
            ]
          },
          "metadata": {},
          "execution_count": 32
        }
      ]
    },
    {
      "cell_type": "code",
      "metadata": {
        "id": "BKNquVyb0t_5"
      },
      "source": [
        "pickle.dump(mdls, open( \"/content/drive/MyDrive/colab_4xco2/mdls_cmip5.pkl\", \"wb\" ) )\n"
      ],
      "execution_count": null,
      "outputs": []
    },
    {
      "cell_type": "code",
      "metadata": {
        "id": "0JF0kmnB9Oky",
        "colab": {
          "base_uri": "https://localhost:8080/",
          "height": 1000
        },
        "outputId": "7a18b70a-2973-4bdf-b293-98e4abaddd36"
      },
      "source": [
        "df_all[0][2]"
      ],
      "execution_count": null,
      "outputs": [
        {
          "output_type": "execute_result",
          "data": {
            "text/html": [
              "\n",
              "  <div id=\"df-e4835b1b-696c-4ac6-bd00-989823621ffc\">\n",
              "    <div class=\"colab-df-container\">\n",
              "      <div>\n",
              "<style scoped>\n",
              "    .dataframe tbody tr th:only-of-type {\n",
              "        vertical-align: middle;\n",
              "    }\n",
              "\n",
              "    .dataframe tbody tr th {\n",
              "        vertical-align: top;\n",
              "    }\n",
              "\n",
              "    .dataframe thead th {\n",
              "        text-align: right;\n",
              "    }\n",
              "</style>\n",
              "<table border=\"1\" class=\"dataframe\">\n",
              "  <thead>\n",
              "    <tr style=\"text-align: right;\">\n",
              "      <th></th>\n",
              "      <th>activity_id</th>\n",
              "      <th>institution_id</th>\n",
              "      <th>source_id</th>\n",
              "      <th>experiment_id</th>\n",
              "      <th>member_id</th>\n",
              "      <th>table_id</th>\n",
              "      <th>variable_id</th>\n",
              "      <th>grid_label</th>\n",
              "      <th>zstore</th>\n",
              "      <th>dcpp_init_year</th>\n",
              "    </tr>\n",
              "  </thead>\n",
              "  <tbody>\n",
              "    <tr>\n",
              "      <th>0</th>\n",
              "      <td>CMIP5</td>\n",
              "      <td>CSIRO-BOM</td>\n",
              "      <td>ACCESS1-0</td>\n",
              "      <td>abrupt-4xCO2</td>\n",
              "      <td>r1i1p1f1</td>\n",
              "      <td>Amon</td>\n",
              "      <td>tas</td>\n",
              "      <td>gn</td>\n",
              "      <td>gs://cmip6/CMIP5/CSIRO-BOM/ACCESS1-0/abrupt-4x...</td>\n",
              "      <td>NaN</td>\n",
              "    </tr>\n",
              "    <tr>\n",
              "      <th>1</th>\n",
              "      <td>CMIP5</td>\n",
              "      <td>CSIRO-BOM</td>\n",
              "      <td>ACCESS1-3</td>\n",
              "      <td>abrupt-4xCO2</td>\n",
              "      <td>r1i1p1f1</td>\n",
              "      <td>Amon</td>\n",
              "      <td>tas</td>\n",
              "      <td>gn</td>\n",
              "      <td>gs://cmip6/CMIP5/CSIRO-BOM/ACCESS1-3/abrupt-4x...</td>\n",
              "      <td>NaN</td>\n",
              "    </tr>\n",
              "    <tr>\n",
              "      <th>2</th>\n",
              "      <td>CMIP5</td>\n",
              "      <td>NCAR</td>\n",
              "      <td>CCSM4</td>\n",
              "      <td>abrupt-4xCO2</td>\n",
              "      <td>r2i1p1f1</td>\n",
              "      <td>Amon</td>\n",
              "      <td>tas</td>\n",
              "      <td>gn</td>\n",
              "      <td>gs://cmip6/CMIP5/NCAR/CCSM4/abrupt-4xCO2/r2i1p...</td>\n",
              "      <td>NaN</td>\n",
              "    </tr>\n",
              "    <tr>\n",
              "      <th>3</th>\n",
              "      <td>CMIP5</td>\n",
              "      <td>CNRM-CERFACS</td>\n",
              "      <td>CNRM-CM5</td>\n",
              "      <td>abrupt-4xCO2</td>\n",
              "      <td>r1i1p1f1</td>\n",
              "      <td>Amon</td>\n",
              "      <td>tas</td>\n",
              "      <td>gn</td>\n",
              "      <td>gs://cmip6/CMIP5/CNRM-CERFACS/CNRM-CM5/abrupt-...</td>\n",
              "      <td>NaN</td>\n",
              "    </tr>\n",
              "    <tr>\n",
              "      <th>4</th>\n",
              "      <td>CMIP5</td>\n",
              "      <td>CSIRO-QCCCE</td>\n",
              "      <td>CSIRO-Mk3-6-0</td>\n",
              "      <td>abrupt-4xCO2</td>\n",
              "      <td>r1i1p1f1</td>\n",
              "      <td>Amon</td>\n",
              "      <td>tas</td>\n",
              "      <td>gn</td>\n",
              "      <td>gs://cmip6/CMIP5/CSIRO-QCCCE/CSIRO-Mk3-6-0/abr...</td>\n",
              "      <td>NaN</td>\n",
              "    </tr>\n",
              "    <tr>\n",
              "      <th>5</th>\n",
              "      <td>CMIP5</td>\n",
              "      <td>CCCMA</td>\n",
              "      <td>CanESM2</td>\n",
              "      <td>abrupt-4xCO2</td>\n",
              "      <td>r1i1p1f1</td>\n",
              "      <td>Amon</td>\n",
              "      <td>tas</td>\n",
              "      <td>gn</td>\n",
              "      <td>gs://cmip6/CMIP5/CCCMA/CanESM2/abrupt-4xCO2/r1...</td>\n",
              "      <td>NaN</td>\n",
              "    </tr>\n",
              "    <tr>\n",
              "      <th>6</th>\n",
              "      <td>CMIP5</td>\n",
              "      <td>LASG-CESS</td>\n",
              "      <td>FGOALS-g2</td>\n",
              "      <td>abrupt-4xCO2</td>\n",
              "      <td>r2i1p1f1</td>\n",
              "      <td>Amon</td>\n",
              "      <td>tas</td>\n",
              "      <td>gn</td>\n",
              "      <td>gs://cmip6/CMIP5/LASG-CESS/FGOALS-g2/abrupt-4x...</td>\n",
              "      <td>NaN</td>\n",
              "    </tr>\n",
              "    <tr>\n",
              "      <th>7</th>\n",
              "      <td>CMIP5</td>\n",
              "      <td>LASG-IAP</td>\n",
              "      <td>FGOALS-s2</td>\n",
              "      <td>abrupt-4xCO2</td>\n",
              "      <td>r1i1p1f1</td>\n",
              "      <td>Amon</td>\n",
              "      <td>tas</td>\n",
              "      <td>gn</td>\n",
              "      <td>gs://cmip6/CMIP5/LASG-IAP/FGOALS-s2/abrupt-4xC...</td>\n",
              "      <td>NaN</td>\n",
              "    </tr>\n",
              "    <tr>\n",
              "      <th>8</th>\n",
              "      <td>CMIP5</td>\n",
              "      <td>NOAA-GFDL</td>\n",
              "      <td>GFDL-CM3</td>\n",
              "      <td>abrupt-4xCO2</td>\n",
              "      <td>r1i1p1f1</td>\n",
              "      <td>Amon</td>\n",
              "      <td>tas</td>\n",
              "      <td>gn</td>\n",
              "      <td>gs://cmip6/CMIP5/NOAA-GFDL/GFDL-CM3/abrupt-4xC...</td>\n",
              "      <td>NaN</td>\n",
              "    </tr>\n",
              "    <tr>\n",
              "      <th>9</th>\n",
              "      <td>CMIP5</td>\n",
              "      <td>NOAA-GFDL</td>\n",
              "      <td>GFDL-ESM2G</td>\n",
              "      <td>abrupt-4xCO2</td>\n",
              "      <td>r1i1p1f1</td>\n",
              "      <td>Amon</td>\n",
              "      <td>tas</td>\n",
              "      <td>gn</td>\n",
              "      <td>gs://cmip6/CMIP5/NOAA-GFDL/GFDL-ESM2G/abrupt-4...</td>\n",
              "      <td>NaN</td>\n",
              "    </tr>\n",
              "    <tr>\n",
              "      <th>10</th>\n",
              "      <td>CMIP5</td>\n",
              "      <td>NOAA-GFDL</td>\n",
              "      <td>GFDL-ESM2M</td>\n",
              "      <td>abrupt-4xCO2</td>\n",
              "      <td>r1i1p1f1</td>\n",
              "      <td>Amon</td>\n",
              "      <td>tas</td>\n",
              "      <td>gn</td>\n",
              "      <td>gs://cmip6/CMIP5/NOAA-GFDL/GFDL-ESM2M/abrupt-4...</td>\n",
              "      <td>NaN</td>\n",
              "    </tr>\n",
              "    <tr>\n",
              "      <th>11</th>\n",
              "      <td>CMIP5</td>\n",
              "      <td>NASA-GISS</td>\n",
              "      <td>GISS-E2-H</td>\n",
              "      <td>abrupt-4xCO2</td>\n",
              "      <td>r1i1p3f1</td>\n",
              "      <td>Amon</td>\n",
              "      <td>tas</td>\n",
              "      <td>gn</td>\n",
              "      <td>gs://cmip6/CMIP5/NASA-GISS/GISS-E2-H/abrupt-4x...</td>\n",
              "      <td>NaN</td>\n",
              "    </tr>\n",
              "    <tr>\n",
              "      <th>12</th>\n",
              "      <td>CMIP5</td>\n",
              "      <td>NASA-GISS</td>\n",
              "      <td>GISS-E2-R</td>\n",
              "      <td>abrupt-4xCO2</td>\n",
              "      <td>r1i1p3f1</td>\n",
              "      <td>Amon</td>\n",
              "      <td>tas</td>\n",
              "      <td>gn</td>\n",
              "      <td>gs://cmip6/CMIP5/NASA-GISS/GISS-E2-R/abrupt-4x...</td>\n",
              "      <td>NaN</td>\n",
              "    </tr>\n",
              "    <tr>\n",
              "      <th>13</th>\n",
              "      <td>CMIP5</td>\n",
              "      <td>MOHC</td>\n",
              "      <td>HadGEM2-ES</td>\n",
              "      <td>abrupt-4xCO2</td>\n",
              "      <td>r1i1p1f1</td>\n",
              "      <td>Amon</td>\n",
              "      <td>tas</td>\n",
              "      <td>gn</td>\n",
              "      <td>gs://cmip6/CMIP5/MOHC/HadGEM2-ES/abrupt-4xCO2/...</td>\n",
              "      <td>NaN</td>\n",
              "    </tr>\n",
              "    <tr>\n",
              "      <th>14</th>\n",
              "      <td>CMIP5</td>\n",
              "      <td>IPSL</td>\n",
              "      <td>IPSL-CM5A-LR</td>\n",
              "      <td>abrupt-4xCO2</td>\n",
              "      <td>r1i1p1f1</td>\n",
              "      <td>Amon</td>\n",
              "      <td>tas</td>\n",
              "      <td>gn</td>\n",
              "      <td>gs://cmip6/CMIP5/IPSL/IPSL-CM5A-LR/abrupt-4xCO...</td>\n",
              "      <td>NaN</td>\n",
              "    </tr>\n",
              "    <tr>\n",
              "      <th>15</th>\n",
              "      <td>CMIP5</td>\n",
              "      <td>IPSL</td>\n",
              "      <td>IPSL-CM5A-MR</td>\n",
              "      <td>abrupt-4xCO2</td>\n",
              "      <td>r1i1p1f1</td>\n",
              "      <td>Amon</td>\n",
              "      <td>tas</td>\n",
              "      <td>gn</td>\n",
              "      <td>gs://cmip6/CMIP5/IPSL/IPSL-CM5A-MR/abrupt-4xCO...</td>\n",
              "      <td>NaN</td>\n",
              "    </tr>\n",
              "    <tr>\n",
              "      <th>16</th>\n",
              "      <td>CMIP5</td>\n",
              "      <td>IPSL</td>\n",
              "      <td>IPSL-CM5B-LR</td>\n",
              "      <td>abrupt-4xCO2</td>\n",
              "      <td>r1i1p1f1</td>\n",
              "      <td>Amon</td>\n",
              "      <td>tas</td>\n",
              "      <td>gn</td>\n",
              "      <td>gs://cmip6/CMIP5/IPSL/IPSL-CM5B-LR/abrupt-4xCO...</td>\n",
              "      <td>NaN</td>\n",
              "    </tr>\n",
              "    <tr>\n",
              "      <th>17</th>\n",
              "      <td>CMIP5</td>\n",
              "      <td>MIROC</td>\n",
              "      <td>MIROC-ESM</td>\n",
              "      <td>abrupt-4xCO2</td>\n",
              "      <td>r1i1p1f1</td>\n",
              "      <td>Amon</td>\n",
              "      <td>tas</td>\n",
              "      <td>gn</td>\n",
              "      <td>gs://cmip6/CMIP5/MIROC/MIROC-ESM/abrupt-4xCO2/...</td>\n",
              "      <td>NaN</td>\n",
              "    </tr>\n",
              "    <tr>\n",
              "      <th>18</th>\n",
              "      <td>CMIP5</td>\n",
              "      <td>MIROC</td>\n",
              "      <td>MIROC5</td>\n",
              "      <td>abrupt-4xCO2</td>\n",
              "      <td>r1i1p1f1</td>\n",
              "      <td>Amon</td>\n",
              "      <td>tas</td>\n",
              "      <td>gn</td>\n",
              "      <td>gs://cmip6/CMIP5/MIROC/MIROC5/abrupt-4xCO2/r1i...</td>\n",
              "      <td>NaN</td>\n",
              "    </tr>\n",
              "    <tr>\n",
              "      <th>19</th>\n",
              "      <td>CMIP5</td>\n",
              "      <td>MPI-M</td>\n",
              "      <td>MPI-ESM-LR</td>\n",
              "      <td>abrupt-4xCO2</td>\n",
              "      <td>r1i1p1f1</td>\n",
              "      <td>Amon</td>\n",
              "      <td>tas</td>\n",
              "      <td>gn</td>\n",
              "      <td>gs://cmip6/CMIP5/MPI-M/MPI-ESM-LR/abrupt-4xCO2...</td>\n",
              "      <td>NaN</td>\n",
              "    </tr>\n",
              "    <tr>\n",
              "      <th>20</th>\n",
              "      <td>CMIP5</td>\n",
              "      <td>MPI-M</td>\n",
              "      <td>MPI-ESM-P</td>\n",
              "      <td>abrupt-4xCO2</td>\n",
              "      <td>r1i1p1f1</td>\n",
              "      <td>Amon</td>\n",
              "      <td>tas</td>\n",
              "      <td>gn</td>\n",
              "      <td>gs://cmip6/CMIP5/MPI-M/MPI-ESM-P/abrupt-4xCO2/...</td>\n",
              "      <td>NaN</td>\n",
              "    </tr>\n",
              "    <tr>\n",
              "      <th>21</th>\n",
              "      <td>CMIP5</td>\n",
              "      <td>NCC</td>\n",
              "      <td>NorESM1-M</td>\n",
              "      <td>abrupt-4xCO2</td>\n",
              "      <td>r1i1p1f1</td>\n",
              "      <td>Amon</td>\n",
              "      <td>tas</td>\n",
              "      <td>gn</td>\n",
              "      <td>gs://cmip6/CMIP5/NCC/NorESM1-M/abrupt-4xCO2/r1...</td>\n",
              "      <td>NaN</td>\n",
              "    </tr>\n",
              "    <tr>\n",
              "      <th>22</th>\n",
              "      <td>CMIP5</td>\n",
              "      <td>BCC</td>\n",
              "      <td>bcc-csm1-1</td>\n",
              "      <td>abrupt-4xCO2</td>\n",
              "      <td>r2i1p1f1</td>\n",
              "      <td>Amon</td>\n",
              "      <td>tas</td>\n",
              "      <td>gn</td>\n",
              "      <td>gs://cmip6/CMIP5/BCC/bcc-csm1-1/abrupt-4xCO2/r...</td>\n",
              "      <td>NaN</td>\n",
              "    </tr>\n",
              "    <tr>\n",
              "      <th>23</th>\n",
              "      <td>CMIP5</td>\n",
              "      <td>BCC</td>\n",
              "      <td>bcc-csm1-1-m</td>\n",
              "      <td>abrupt-4xCO2</td>\n",
              "      <td>r1i1p1f1</td>\n",
              "      <td>Amon</td>\n",
              "      <td>tas</td>\n",
              "      <td>gn</td>\n",
              "      <td>gs://cmip6/CMIP5/BCC/bcc-csm1-1-m/abrupt-4xCO2...</td>\n",
              "      <td>NaN</td>\n",
              "    </tr>\n",
              "    <tr>\n",
              "      <th>24</th>\n",
              "      <td>CMIP5</td>\n",
              "      <td>INM</td>\n",
              "      <td>inmcm4</td>\n",
              "      <td>abrupt-4xCO2</td>\n",
              "      <td>r1i1p1f1</td>\n",
              "      <td>Amon</td>\n",
              "      <td>tas</td>\n",
              "      <td>gn</td>\n",
              "      <td>gs://cmip6/CMIP5/INM/inmcm4/abrupt-4xCO2/r1i1p...</td>\n",
              "      <td>NaN</td>\n",
              "    </tr>\n",
              "  </tbody>\n",
              "</table>\n",
              "</div>\n",
              "      <button class=\"colab-df-convert\" onclick=\"convertToInteractive('df-e4835b1b-696c-4ac6-bd00-989823621ffc')\"\n",
              "              title=\"Convert this dataframe to an interactive table.\"\n",
              "              style=\"display:none;\">\n",
              "        \n",
              "  <svg xmlns=\"http://www.w3.org/2000/svg\" height=\"24px\"viewBox=\"0 0 24 24\"\n",
              "       width=\"24px\">\n",
              "    <path d=\"M0 0h24v24H0V0z\" fill=\"none\"/>\n",
              "    <path d=\"M18.56 5.44l.94 2.06.94-2.06 2.06-.94-2.06-.94-.94-2.06-.94 2.06-2.06.94zm-11 1L8.5 8.5l.94-2.06 2.06-.94-2.06-.94L8.5 2.5l-.94 2.06-2.06.94zm10 10l.94 2.06.94-2.06 2.06-.94-2.06-.94-.94-2.06-.94 2.06-2.06.94z\"/><path d=\"M17.41 7.96l-1.37-1.37c-.4-.4-.92-.59-1.43-.59-.52 0-1.04.2-1.43.59L10.3 9.45l-7.72 7.72c-.78.78-.78 2.05 0 2.83L4 21.41c.39.39.9.59 1.41.59.51 0 1.02-.2 1.41-.59l7.78-7.78 2.81-2.81c.8-.78.8-2.07 0-2.86zM5.41 20L4 18.59l7.72-7.72 1.47 1.35L5.41 20z\"/>\n",
              "  </svg>\n",
              "      </button>\n",
              "      \n",
              "  <style>\n",
              "    .colab-df-container {\n",
              "      display:flex;\n",
              "      flex-wrap:wrap;\n",
              "      gap: 12px;\n",
              "    }\n",
              "\n",
              "    .colab-df-convert {\n",
              "      background-color: #E8F0FE;\n",
              "      border: none;\n",
              "      border-radius: 50%;\n",
              "      cursor: pointer;\n",
              "      display: none;\n",
              "      fill: #1967D2;\n",
              "      height: 32px;\n",
              "      padding: 0 0 0 0;\n",
              "      width: 32px;\n",
              "    }\n",
              "\n",
              "    .colab-df-convert:hover {\n",
              "      background-color: #E2EBFA;\n",
              "      box-shadow: 0px 1px 2px rgba(60, 64, 67, 0.3), 0px 1px 3px 1px rgba(60, 64, 67, 0.15);\n",
              "      fill: #174EA6;\n",
              "    }\n",
              "\n",
              "    [theme=dark] .colab-df-convert {\n",
              "      background-color: #3B4455;\n",
              "      fill: #D2E3FC;\n",
              "    }\n",
              "\n",
              "    [theme=dark] .colab-df-convert:hover {\n",
              "      background-color: #434B5C;\n",
              "      box-shadow: 0px 1px 3px 1px rgba(0, 0, 0, 0.15);\n",
              "      filter: drop-shadow(0px 1px 2px rgba(0, 0, 0, 0.3));\n",
              "      fill: #FFFFFF;\n",
              "    }\n",
              "  </style>\n",
              "\n",
              "      <script>\n",
              "        const buttonEl =\n",
              "          document.querySelector('#df-e4835b1b-696c-4ac6-bd00-989823621ffc button.colab-df-convert');\n",
              "        buttonEl.style.display =\n",
              "          google.colab.kernel.accessAllowed ? 'block' : 'none';\n",
              "\n",
              "        async function convertToInteractive(key) {\n",
              "          const element = document.querySelector('#df-e4835b1b-696c-4ac6-bd00-989823621ffc');\n",
              "          const dataTable =\n",
              "            await google.colab.kernel.invokeFunction('convertToInteractive',\n",
              "                                                     [key], {});\n",
              "          if (!dataTable) return;\n",
              "\n",
              "          const docLinkHtml = 'Like what you see? Visit the ' +\n",
              "            '<a target=\"_blank\" href=https://colab.research.google.com/notebooks/data_table.ipynb>data table notebook</a>'\n",
              "            + ' to learn more about interactive tables.';\n",
              "          element.innerHTML = '';\n",
              "          dataTable['output_type'] = 'display_data';\n",
              "          await google.colab.output.renderOutput(dataTable, element);\n",
              "          const docLink = document.createElement('div');\n",
              "          docLink.innerHTML = docLinkHtml;\n",
              "          element.appendChild(docLink);\n",
              "        }\n",
              "      </script>\n",
              "    </div>\n",
              "  </div>\n",
              "  "
            ],
            "text/plain": [
              "   activity_id  ... dcpp_init_year\n",
              "0        CMIP5  ...            NaN\n",
              "1        CMIP5  ...            NaN\n",
              "2        CMIP5  ...            NaN\n",
              "3        CMIP5  ...            NaN\n",
              "4        CMIP5  ...            NaN\n",
              "5        CMIP5  ...            NaN\n",
              "6        CMIP5  ...            NaN\n",
              "7        CMIP5  ...            NaN\n",
              "8        CMIP5  ...            NaN\n",
              "9        CMIP5  ...            NaN\n",
              "10       CMIP5  ...            NaN\n",
              "11       CMIP5  ...            NaN\n",
              "12       CMIP5  ...            NaN\n",
              "13       CMIP5  ...            NaN\n",
              "14       CMIP5  ...            NaN\n",
              "15       CMIP5  ...            NaN\n",
              "16       CMIP5  ...            NaN\n",
              "17       CMIP5  ...            NaN\n",
              "18       CMIP5  ...            NaN\n",
              "19       CMIP5  ...            NaN\n",
              "20       CMIP5  ...            NaN\n",
              "21       CMIP5  ...            NaN\n",
              "22       CMIP5  ...            NaN\n",
              "23       CMIP5  ...            NaN\n",
              "24       CMIP5  ...            NaN\n",
              "\n",
              "[25 rows x 10 columns]"
            ]
          },
          "metadata": {},
          "execution_count": 34
        }
      ]
    },
    {
      "cell_type": "markdown",
      "metadata": {
        "id": "ba_I8sSUOzh_"
      },
      "source": [
        "## Load Data\n",
        "\n",
        "Load Google file system\n"
      ]
    },
    {
      "cell_type": "code",
      "metadata": {
        "id": "Pgaz1EanjJ9Z"
      },
      "source": [
        "# load Google cloud storage\n",
        "gcs = gcsfs.GCSFileSystem(token='anon')"
      ],
      "execution_count": null,
      "outputs": []
    },
    {
      "cell_type": "markdown",
      "metadata": {
        "id": "t4wZnv7uLSin"
      },
      "source": [
        "Loop through zstore links, use zarr to open\n"
      ]
    },
    {
      "cell_type": "code",
      "metadata": {
        "id": "MkCBd3z2-mCX"
      },
      "source": [
        "nm=len(mdls)\n",
        "nf=len(flds)\n",
        "ne=len(expts)"
      ],
      "execution_count": null,
      "outputs": []
    },
    {
      "cell_type": "code",
      "source": [
        "flds"
      ],
      "metadata": {
        "colab": {
          "base_uri": "https://localhost:8080/"
        },
        "id": "Xuj1tiFk7E3L",
        "outputId": "370e6749-8a10-4469-ee9f-914b171c4415"
      },
      "execution_count": null,
      "outputs": [
        {
          "output_type": "execute_result",
          "data": {
            "text/plain": [
              "['rsut', 'rlut', 'tas', 'rsdt']"
            ]
          },
          "metadata": {},
          "execution_count": 37
        }
      ]
    },
    {
      "cell_type": "code",
      "metadata": {
        "id": "zGB4t5rGLmqf",
        "colab": {
          "base_uri": "https://localhost:8080/",
          "height": 173
        },
        "outputId": "a5309a86-7650-4f9a-e70a-16af72e5023e"
      },
      "source": [
        "\n",
        "if readdata:\n",
        "  out = display(progress(0, 1), display_id=True)\n",
        "  dsall=[]\n",
        "  for i,df_ta in enumerate(df_all):\n",
        "    dsm=[]\n",
        "    for j,df in enumerate(df_ta):\n",
        "      ds=[]\n",
        "      print(expts[i]+','+flds[j])\n",
        "      for index, item in enumerate(df.zstore.values, start=0):\n",
        "        mapper=gcs.get_mapper(item)\n",
        "        ds.append(xr.open_zarr(mapper, decode_times=False))\n",
        "        out.update(progress(index+j*nm+i*nm*nf, ne*nm*nf))\n",
        "      dsm.append(ds)\n",
        "    dsall.append(dsm)  "
      ],
      "execution_count": null,
      "outputs": [
        {
          "output_type": "display_data",
          "data": {
            "text/html": [
              "\n",
              "        <progress\n",
              "            value='199'\n",
              "            max='200',\n",
              "            style='width: 100%'\n",
              "        >\n",
              "            199\n",
              "        </progress>\n",
              "    "
            ],
            "text/plain": [
              "<IPython.core.display.HTML object>"
            ]
          },
          "metadata": {}
        },
        {
          "output_type": "stream",
          "name": "stdout",
          "text": [
            "abrupt-4xCO2,rsut\n",
            "abrupt-4xCO2,rlut\n",
            "abrupt-4xCO2,tas\n",
            "abrupt-4xCO2,rsdt\n",
            "piControl,rsut\n",
            "piControl,rlut\n",
            "piControl,tas\n",
            "piControl,rsdt\n"
          ]
        }
      ]
    },
    {
      "cell_type": "markdown",
      "metadata": {
        "id": "FJa7zj5MHbDX"
      },
      "source": [
        "concatenated dataarrays for ts, global mean\n"
      ]
    },
    {
      "cell_type": "code",
      "metadata": {
        "id": "nWZFFT8fNoVB",
        "colab": {
          "base_uri": "https://localhost:8080/",
          "height": 173
        },
        "outputId": "924fd2ac-d990-48f8-8347-cdf35718905d"
      },
      "source": [
        "\n",
        "if readdata:\n",
        "  dall=[]\n",
        "  out = display(progress(0, 1), display_id=True)\n",
        "  for i,ds in enumerate(dsall,start=0):\n",
        "    dexp=[]\n",
        "    for j,dm in enumerate(ds):\n",
        "      print(expts[i]+','+flds[j])\n",
        "      for index, dd in enumerate(dm, start=0):\n",
        "          if 'longitude' in dd.keys():\n",
        "            dd=dd.rename({'longitude': 'lon','latitude': 'lat'})\n",
        "          if 'latitude' in dd.coords:\n",
        "            dd=dd.drop('latitude')  \n",
        "            dd=dd.drop_dims('latitude')\n",
        "       \n",
        "          tmp=dd[flds[j]][:4800,:,:].interp(lon=lon_out,lat=lat_out, kwargs={\"fill_value\": \"extrapolate\"})\n",
        "          if calstrt[i]:\n",
        "            tmp.coords['time']=pd.date_range('1850-01-01', periods=tmp['time'].values.shape[0],freq='M')\n",
        "          if tmp['time'].dtype=='float64' or  tmp['time'].dtype=='int64':\n",
        "            tmp.coords['time']=num2date(tmp['time'].values,tmp['time'].units)\n",
        "          if 'historical' in expts[i]:\n",
        "            tmpf=dsall[expts.index('ssp585')][j][index][flds[j]].interp(lon=lon_out,lat=lat_out, kwargs={\"fill_value\": \"extrapolate\"})\n",
        "            if tmpf['time'].dtype=='float64' or  tmpf['time'].dtype=='int64':\n",
        "              tmpf.coords['time']=num2date(tmpf['time'].values,tmpf['time'].units)\n",
        "            tmp=xr.concat([tmp,tmpf],'time')\n",
        "            tmp=tmp.where(tmp['time.year'] < 2021, drop=True)\n",
        "          if 'ssp' in expts[i]:\n",
        "            tmp=tmp.where(tmp['time.year'] > 2014, drop=True)        \n",
        "          srm=tmp.groupby('time.year').mean('time')\n",
        "          if index==0:\n",
        "            dac=srm\n",
        "          else:\n",
        "            dac=xr.concat([dac,srm],'ens',coords='minimal',compat='override')\n",
        "          out.update(progress(index+j*nm+i*nm*nf, ne*nm*nf))\n",
        "      dexp.append(dac)\n",
        "    dall.append(dexp)\n"
      ],
      "execution_count": null,
      "outputs": [
        {
          "output_type": "display_data",
          "data": {
            "text/html": [
              "\n",
              "        <progress\n",
              "            value='199'\n",
              "            max='200',\n",
              "            style='width: 100%'\n",
              "        >\n",
              "            199\n",
              "        </progress>\n",
              "    "
            ],
            "text/plain": [
              "<IPython.core.display.HTML object>"
            ]
          },
          "metadata": {}
        },
        {
          "output_type": "stream",
          "name": "stdout",
          "text": [
            "abrupt-4xCO2,rsut\n",
            "abrupt-4xCO2,rlut\n",
            "abrupt-4xCO2,tas\n",
            "abrupt-4xCO2,rsdt\n",
            "piControl,rsut\n",
            "piControl,rlut\n",
            "piControl,tas\n",
            "piControl,rsdt\n"
          ]
        }
      ]
    },
    {
      "cell_type": "code",
      "metadata": {
        "id": "fvcA3WItlVSj",
        "colab": {
          "base_uri": "https://localhost:8080/",
          "height": 308
        },
        "outputId": "d8f3c7a8-195e-4e3f-fcaf-d4c96ce69e1b"
      },
      "source": [
        "dd"
      ],
      "execution_count": null,
      "outputs": [
        {
          "output_type": "execute_result",
          "data": {
            "text/html": [
              "<div><svg style=\"position: absolute; width: 0; height: 0; overflow: hidden\">\n",
              "<defs>\n",
              "<symbol id=\"icon-database\" viewBox=\"0 0 32 32\">\n",
              "<path d=\"M16 0c-8.837 0-16 2.239-16 5v4c0 2.761 7.163 5 16 5s16-2.239 16-5v-4c0-2.761-7.163-5-16-5z\"></path>\n",
              "<path d=\"M16 17c-8.837 0-16-2.239-16-5v6c0 2.761 7.163 5 16 5s16-2.239 16-5v-6c0 2.761-7.163 5-16 5z\"></path>\n",
              "<path d=\"M16 26c-8.837 0-16-2.239-16-5v6c0 2.761 7.163 5 16 5s16-2.239 16-5v-6c0 2.761-7.163 5-16 5z\"></path>\n",
              "</symbol>\n",
              "<symbol id=\"icon-file-text2\" viewBox=\"0 0 32 32\">\n",
              "<path d=\"M28.681 7.159c-0.694-0.947-1.662-2.053-2.724-3.116s-2.169-2.030-3.116-2.724c-1.612-1.182-2.393-1.319-2.841-1.319h-15.5c-1.378 0-2.5 1.121-2.5 2.5v27c0 1.378 1.122 2.5 2.5 2.5h23c1.378 0 2.5-1.122 2.5-2.5v-19.5c0-0.448-0.137-1.23-1.319-2.841zM24.543 5.457c0.959 0.959 1.712 1.825 2.268 2.543h-4.811v-4.811c0.718 0.556 1.584 1.309 2.543 2.268zM28 29.5c0 0.271-0.229 0.5-0.5 0.5h-23c-0.271 0-0.5-0.229-0.5-0.5v-27c0-0.271 0.229-0.5 0.5-0.5 0 0 15.499-0 15.5 0v7c0 0.552 0.448 1 1 1h7v19.5z\"></path>\n",
              "<path d=\"M23 26h-14c-0.552 0-1-0.448-1-1s0.448-1 1-1h14c0.552 0 1 0.448 1 1s-0.448 1-1 1z\"></path>\n",
              "<path d=\"M23 22h-14c-0.552 0-1-0.448-1-1s0.448-1 1-1h14c0.552 0 1 0.448 1 1s-0.448 1-1 1z\"></path>\n",
              "<path d=\"M23 18h-14c-0.552 0-1-0.448-1-1s0.448-1 1-1h14c0.552 0 1 0.448 1 1s-0.448 1-1 1z\"></path>\n",
              "</symbol>\n",
              "</defs>\n",
              "</svg>\n",
              "<style>/* CSS stylesheet for displaying xarray objects in jupyterlab.\n",
              " *\n",
              " */\n",
              "\n",
              ":root {\n",
              "  --xr-font-color0: var(--jp-content-font-color0, rgba(0, 0, 0, 1));\n",
              "  --xr-font-color2: var(--jp-content-font-color2, rgba(0, 0, 0, 0.54));\n",
              "  --xr-font-color3: var(--jp-content-font-color3, rgba(0, 0, 0, 0.38));\n",
              "  --xr-border-color: var(--jp-border-color2, #e0e0e0);\n",
              "  --xr-disabled-color: var(--jp-layout-color3, #bdbdbd);\n",
              "  --xr-background-color: var(--jp-layout-color0, white);\n",
              "  --xr-background-color-row-even: var(--jp-layout-color1, white);\n",
              "  --xr-background-color-row-odd: var(--jp-layout-color2, #eeeeee);\n",
              "}\n",
              "\n",
              "html[theme=dark],\n",
              "body.vscode-dark {\n",
              "  --xr-font-color0: rgba(255, 255, 255, 1);\n",
              "  --xr-font-color2: rgba(255, 255, 255, 0.54);\n",
              "  --xr-font-color3: rgba(255, 255, 255, 0.38);\n",
              "  --xr-border-color: #1F1F1F;\n",
              "  --xr-disabled-color: #515151;\n",
              "  --xr-background-color: #111111;\n",
              "  --xr-background-color-row-even: #111111;\n",
              "  --xr-background-color-row-odd: #313131;\n",
              "}\n",
              "\n",
              ".xr-wrap {\n",
              "  display: block !important;\n",
              "  min-width: 300px;\n",
              "  max-width: 700px;\n",
              "}\n",
              "\n",
              ".xr-text-repr-fallback {\n",
              "  /* fallback to plain text repr when CSS is not injected (untrusted notebook) */\n",
              "  display: none;\n",
              "}\n",
              "\n",
              ".xr-header {\n",
              "  padding-top: 6px;\n",
              "  padding-bottom: 6px;\n",
              "  margin-bottom: 4px;\n",
              "  border-bottom: solid 1px var(--xr-border-color);\n",
              "}\n",
              "\n",
              ".xr-header > div,\n",
              ".xr-header > ul {\n",
              "  display: inline;\n",
              "  margin-top: 0;\n",
              "  margin-bottom: 0;\n",
              "}\n",
              "\n",
              ".xr-obj-type,\n",
              ".xr-array-name {\n",
              "  margin-left: 2px;\n",
              "  margin-right: 10px;\n",
              "}\n",
              "\n",
              ".xr-obj-type {\n",
              "  color: var(--xr-font-color2);\n",
              "}\n",
              "\n",
              ".xr-sections {\n",
              "  padding-left: 0 !important;\n",
              "  display: grid;\n",
              "  grid-template-columns: 150px auto auto 1fr 20px 20px;\n",
              "}\n",
              "\n",
              ".xr-section-item {\n",
              "  display: contents;\n",
              "}\n",
              "\n",
              ".xr-section-item input {\n",
              "  display: none;\n",
              "}\n",
              "\n",
              ".xr-section-item input + label {\n",
              "  color: var(--xr-disabled-color);\n",
              "}\n",
              "\n",
              ".xr-section-item input:enabled + label {\n",
              "  cursor: pointer;\n",
              "  color: var(--xr-font-color2);\n",
              "}\n",
              "\n",
              ".xr-section-item input:enabled + label:hover {\n",
              "  color: var(--xr-font-color0);\n",
              "}\n",
              "\n",
              ".xr-section-summary {\n",
              "  grid-column: 1;\n",
              "  color: var(--xr-font-color2);\n",
              "  font-weight: 500;\n",
              "}\n",
              "\n",
              ".xr-section-summary > span {\n",
              "  display: inline-block;\n",
              "  padding-left: 0.5em;\n",
              "}\n",
              "\n",
              ".xr-section-summary-in:disabled + label {\n",
              "  color: var(--xr-font-color2);\n",
              "}\n",
              "\n",
              ".xr-section-summary-in + label:before {\n",
              "  display: inline-block;\n",
              "  content: '►';\n",
              "  font-size: 11px;\n",
              "  width: 15px;\n",
              "  text-align: center;\n",
              "}\n",
              "\n",
              ".xr-section-summary-in:disabled + label:before {\n",
              "  color: var(--xr-disabled-color);\n",
              "}\n",
              "\n",
              ".xr-section-summary-in:checked + label:before {\n",
              "  content: '▼';\n",
              "}\n",
              "\n",
              ".xr-section-summary-in:checked + label > span {\n",
              "  display: none;\n",
              "}\n",
              "\n",
              ".xr-section-summary,\n",
              ".xr-section-inline-details {\n",
              "  padding-top: 4px;\n",
              "  padding-bottom: 4px;\n",
              "}\n",
              "\n",
              ".xr-section-inline-details {\n",
              "  grid-column: 2 / -1;\n",
              "}\n",
              "\n",
              ".xr-section-details {\n",
              "  display: none;\n",
              "  grid-column: 1 / -1;\n",
              "  margin-bottom: 5px;\n",
              "}\n",
              "\n",
              ".xr-section-summary-in:checked ~ .xr-section-details {\n",
              "  display: contents;\n",
              "}\n",
              "\n",
              ".xr-array-wrap {\n",
              "  grid-column: 1 / -1;\n",
              "  display: grid;\n",
              "  grid-template-columns: 20px auto;\n",
              "}\n",
              "\n",
              ".xr-array-wrap > label {\n",
              "  grid-column: 1;\n",
              "  vertical-align: top;\n",
              "}\n",
              "\n",
              ".xr-preview {\n",
              "  color: var(--xr-font-color3);\n",
              "}\n",
              "\n",
              ".xr-array-preview,\n",
              ".xr-array-data {\n",
              "  padding: 0 5px !important;\n",
              "  grid-column: 2;\n",
              "}\n",
              "\n",
              ".xr-array-data,\n",
              ".xr-array-in:checked ~ .xr-array-preview {\n",
              "  display: none;\n",
              "}\n",
              "\n",
              ".xr-array-in:checked ~ .xr-array-data,\n",
              ".xr-array-preview {\n",
              "  display: inline-block;\n",
              "}\n",
              "\n",
              ".xr-dim-list {\n",
              "  display: inline-block !important;\n",
              "  list-style: none;\n",
              "  padding: 0 !important;\n",
              "  margin: 0;\n",
              "}\n",
              "\n",
              ".xr-dim-list li {\n",
              "  display: inline-block;\n",
              "  padding: 0;\n",
              "  margin: 0;\n",
              "}\n",
              "\n",
              ".xr-dim-list:before {\n",
              "  content: '(';\n",
              "}\n",
              "\n",
              ".xr-dim-list:after {\n",
              "  content: ')';\n",
              "}\n",
              "\n",
              ".xr-dim-list li:not(:last-child):after {\n",
              "  content: ',';\n",
              "  padding-right: 5px;\n",
              "}\n",
              "\n",
              ".xr-has-index {\n",
              "  font-weight: bold;\n",
              "}\n",
              "\n",
              ".xr-var-list,\n",
              ".xr-var-item {\n",
              "  display: contents;\n",
              "}\n",
              "\n",
              ".xr-var-item > div,\n",
              ".xr-var-item label,\n",
              ".xr-var-item > .xr-var-name span {\n",
              "  background-color: var(--xr-background-color-row-even);\n",
              "  margin-bottom: 0;\n",
              "}\n",
              "\n",
              ".xr-var-item > .xr-var-name:hover span {\n",
              "  padding-right: 5px;\n",
              "}\n",
              "\n",
              ".xr-var-list > li:nth-child(odd) > div,\n",
              ".xr-var-list > li:nth-child(odd) > label,\n",
              ".xr-var-list > li:nth-child(odd) > .xr-var-name span {\n",
              "  background-color: var(--xr-background-color-row-odd);\n",
              "}\n",
              "\n",
              ".xr-var-name {\n",
              "  grid-column: 1;\n",
              "}\n",
              "\n",
              ".xr-var-dims {\n",
              "  grid-column: 2;\n",
              "}\n",
              "\n",
              ".xr-var-dtype {\n",
              "  grid-column: 3;\n",
              "  text-align: right;\n",
              "  color: var(--xr-font-color2);\n",
              "}\n",
              "\n",
              ".xr-var-preview {\n",
              "  grid-column: 4;\n",
              "}\n",
              "\n",
              ".xr-var-name,\n",
              ".xr-var-dims,\n",
              ".xr-var-dtype,\n",
              ".xr-preview,\n",
              ".xr-attrs dt {\n",
              "  white-space: nowrap;\n",
              "  overflow: hidden;\n",
              "  text-overflow: ellipsis;\n",
              "  padding-right: 10px;\n",
              "}\n",
              "\n",
              ".xr-var-name:hover,\n",
              ".xr-var-dims:hover,\n",
              ".xr-var-dtype:hover,\n",
              ".xr-attrs dt:hover {\n",
              "  overflow: visible;\n",
              "  width: auto;\n",
              "  z-index: 1;\n",
              "}\n",
              "\n",
              ".xr-var-attrs,\n",
              ".xr-var-data {\n",
              "  display: none;\n",
              "  background-color: var(--xr-background-color) !important;\n",
              "  padding-bottom: 5px !important;\n",
              "}\n",
              "\n",
              ".xr-var-attrs-in:checked ~ .xr-var-attrs,\n",
              ".xr-var-data-in:checked ~ .xr-var-data {\n",
              "  display: block;\n",
              "}\n",
              "\n",
              ".xr-var-data > table {\n",
              "  float: right;\n",
              "}\n",
              "\n",
              ".xr-var-name span,\n",
              ".xr-var-data,\n",
              ".xr-attrs {\n",
              "  padding-left: 25px !important;\n",
              "}\n",
              "\n",
              ".xr-attrs,\n",
              ".xr-var-attrs,\n",
              ".xr-var-data {\n",
              "  grid-column: 1 / -1;\n",
              "}\n",
              "\n",
              "dl.xr-attrs {\n",
              "  padding: 0;\n",
              "  margin: 0;\n",
              "  display: grid;\n",
              "  grid-template-columns: 125px auto;\n",
              "}\n",
              "\n",
              ".xr-attrs dt,\n",
              ".xr-attrs dd {\n",
              "  padding: 0;\n",
              "  margin: 0;\n",
              "  float: left;\n",
              "  padding-right: 10px;\n",
              "  width: auto;\n",
              "}\n",
              "\n",
              ".xr-attrs dt {\n",
              "  font-weight: normal;\n",
              "  grid-column: 1;\n",
              "}\n",
              "\n",
              ".xr-attrs dt:hover span {\n",
              "  display: inline-block;\n",
              "  background: var(--xr-background-color);\n",
              "  padding-right: 10px;\n",
              "}\n",
              "\n",
              ".xr-attrs dd {\n",
              "  grid-column: 2;\n",
              "  white-space: pre-wrap;\n",
              "  word-break: break-all;\n",
              "}\n",
              "\n",
              ".xr-icon-database,\n",
              ".xr-icon-file-text2 {\n",
              "  display: inline-block;\n",
              "  vertical-align: middle;\n",
              "  width: 1em;\n",
              "  height: 1.5em !important;\n",
              "  stroke-width: 0;\n",
              "  stroke: currentColor;\n",
              "  fill: currentColor;\n",
              "}\n",
              "</style><pre class='xr-text-repr-fallback'>&lt;xarray.Dataset&gt;\n",
              "Dimensions:    (lat: 120, bnds: 2, lon: 180, time: 6000)\n",
              "Coordinates:\n",
              "  * lat        (lat) float64 -89.25 -87.75 -86.25 -84.75 ... 86.25 87.75 89.25\n",
              "    lat_bnds   (lat, bnds) float64 dask.array&lt;chunksize=(120, 2), meta=np.ndarray&gt;\n",
              "  * lon        (lon) float64 0.0 2.0 4.0 6.0 8.0 ... 352.0 354.0 356.0 358.0\n",
              "    lon_bnds   (lon, bnds) float64 dask.array&lt;chunksize=(180, 2), meta=np.ndarray&gt;\n",
              "  * time       (time) int64 0 708 1416 2148 ... 4377060 4377792 4378524 4379256\n",
              "    time_bnds  (time, bnds) float64 dask.array&lt;chunksize=(6000, 2), meta=np.ndarray&gt;\n",
              "Dimensions without coordinates: bnds\n",
              "Data variables:\n",
              "    rsdt       (time, lat, lon) float32 dask.array&lt;chunksize=(578, 120, 180), meta=np.ndarray&gt;\n",
              "Attributes: (12/27)\n",
              "    Conventions:            CF-1.4\n",
              "    branch_time:            0.0\n",
              "    cmor_version:           2.0.0\n",
              "    comment:                no comments\n",
              "    contact:                Evgeny Volodin, volodin@inm.ras.ru,INM RAS, Gubki...\n",
              "    creation_date:          2010-06-01T14:17:47Z\n",
              "    ...                     ...\n",
              "    realization:            1\n",
              "    references:             Volodin, Diansky, Gusev 2010. Climate model INMCM...\n",
              "    source:                 inmcm4 (2009)\n",
              "    table_id:               Table Amon (12 May 2010) 12e195f2fdc87c907b38b38e...\n",
              "    title:                  inmcm4 model output prepared for CMIP5 pre-indust...\n",
              "    tracking_id:            47d7cee5-e0ce-4ee1-8346-ba7c78da9d58</pre><div class='xr-wrap' style='display:none'><div class='xr-header'><div class='xr-obj-type'>xarray.Dataset</div></div><ul class='xr-sections'><li class='xr-section-item'><input id='section-bb15f93d-c28c-4afb-85bc-16c4cc5eb3b1' class='xr-section-summary-in' type='checkbox' disabled ><label for='section-bb15f93d-c28c-4afb-85bc-16c4cc5eb3b1' class='xr-section-summary'  title='Expand/collapse section'>Dimensions:</label><div class='xr-section-inline-details'><ul class='xr-dim-list'><li><span class='xr-has-index'>lat</span>: 120</li><li><span>bnds</span>: 2</li><li><span class='xr-has-index'>lon</span>: 180</li><li><span class='xr-has-index'>time</span>: 6000</li></ul></div><div class='xr-section-details'></div></li><li class='xr-section-item'><input id='section-4bd7cdf5-6103-4a1d-9b89-886b11c1d822' class='xr-section-summary-in' type='checkbox'  checked><label for='section-4bd7cdf5-6103-4a1d-9b89-886b11c1d822' class='xr-section-summary' >Coordinates: <span>(6)</span></label><div class='xr-section-inline-details'></div><div class='xr-section-details'><ul class='xr-var-list'><li class='xr-var-item'><div class='xr-var-name'><span class='xr-has-index'>lat</span></div><div class='xr-var-dims'>(lat)</div><div class='xr-var-dtype'>float64</div><div class='xr-var-preview xr-preview'>-89.25 -87.75 ... 87.75 89.25</div><input id='attrs-eed7db8c-a834-4692-ae01-4655f5399b25' class='xr-var-attrs-in' type='checkbox' ><label for='attrs-eed7db8c-a834-4692-ae01-4655f5399b25' title='Show/Hide attributes'><svg class='icon xr-icon-file-text2'><use xlink:href='#icon-file-text2'></use></svg></label><input id='data-ac3967f9-85e2-4146-b34a-b4b43cc85dc9' class='xr-var-data-in' type='checkbox'><label for='data-ac3967f9-85e2-4146-b34a-b4b43cc85dc9' title='Show/Hide data repr'><svg class='icon xr-icon-database'><use xlink:href='#icon-database'></use></svg></label><div class='xr-var-attrs'><dl class='xr-attrs'><dt><span>axis :</span></dt><dd>Y</dd><dt><span>bounds :</span></dt><dd>lat_bnds</dd><dt><span>long_name :</span></dt><dd>latitude</dd><dt><span>standard_name :</span></dt><dd>latitude</dd><dt><span>units :</span></dt><dd>degrees_north</dd></dl></div><div class='xr-var-data'><pre>array([-89.25, -87.75, -86.25, -84.75, -83.25, -81.75, -80.25, -78.75, -77.25,\n",
              "       -75.75, -74.25, -72.75, -71.25, -69.75, -68.25, -66.75, -65.25, -63.75,\n",
              "       -62.25, -60.75, -59.25, -57.75, -56.25, -54.75, -53.25, -51.75, -50.25,\n",
              "       -48.75, -47.25, -45.75, -44.25, -42.75, -41.25, -39.75, -38.25, -36.75,\n",
              "       -35.25, -33.75, -32.25, -30.75, -29.25, -27.75, -26.25, -24.75, -23.25,\n",
              "       -21.75, -20.25, -18.75, -17.25, -15.75, -14.25, -12.75, -11.25,  -9.75,\n",
              "        -8.25,  -6.75,  -5.25,  -3.75,  -2.25,  -0.75,   0.75,   2.25,   3.75,\n",
              "         5.25,   6.75,   8.25,   9.75,  11.25,  12.75,  14.25,  15.75,  17.25,\n",
              "        18.75,  20.25,  21.75,  23.25,  24.75,  26.25,  27.75,  29.25,  30.75,\n",
              "        32.25,  33.75,  35.25,  36.75,  38.25,  39.75,  41.25,  42.75,  44.25,\n",
              "        45.75,  47.25,  48.75,  50.25,  51.75,  53.25,  54.75,  56.25,  57.75,\n",
              "        59.25,  60.75,  62.25,  63.75,  65.25,  66.75,  68.25,  69.75,  71.25,\n",
              "        72.75,  74.25,  75.75,  77.25,  78.75,  80.25,  81.75,  83.25,  84.75,\n",
              "        86.25,  87.75,  89.25])</pre></div></li><li class='xr-var-item'><div class='xr-var-name'><span>lat_bnds</span></div><div class='xr-var-dims'>(lat, bnds)</div><div class='xr-var-dtype'>float64</div><div class='xr-var-preview xr-preview'>dask.array&lt;chunksize=(120, 2), meta=np.ndarray&gt;</div><input id='attrs-2fb8a9a3-2d5b-4b4e-8173-45c02706e70b' class='xr-var-attrs-in' type='checkbox' disabled><label for='attrs-2fb8a9a3-2d5b-4b4e-8173-45c02706e70b' title='Show/Hide attributes'><svg class='icon xr-icon-file-text2'><use xlink:href='#icon-file-text2'></use></svg></label><input id='data-4edab825-6f8e-4a6b-ae9f-0c1df1ff6e90' class='xr-var-data-in' type='checkbox'><label for='data-4edab825-6f8e-4a6b-ae9f-0c1df1ff6e90' title='Show/Hide data repr'><svg class='icon xr-icon-database'><use xlink:href='#icon-database'></use></svg></label><div class='xr-var-attrs'><dl class='xr-attrs'></dl></div><div class='xr-var-data'><table>\n",
              "<tr>\n",
              "<td>\n",
              "<table>\n",
              "  <thead>\n",
              "    <tr><td> </td><th> Array </th><th> Chunk </th></tr>\n",
              "  </thead>\n",
              "  <tbody>\n",
              "    <tr><th> Bytes </th><td> 1.92 kB </td> <td> 1.92 kB </td></tr>\n",
              "    <tr><th> Shape </th><td> (120, 2) </td> <td> (120, 2) </td></tr>\n",
              "    <tr><th> Count </th><td> 2 Tasks </td><td> 1 Chunks </td></tr>\n",
              "    <tr><th> Type </th><td> float64 </td><td> numpy.ndarray </td></tr>\n",
              "  </tbody>\n",
              "</table>\n",
              "</td>\n",
              "<td>\n",
              "<svg width=\"78\" height=\"170\" style=\"stroke:rgb(0,0,0);stroke-width:1\" >\n",
              "\n",
              "  <!-- Horizontal lines -->\n",
              "  <line x1=\"0\" y1=\"0\" x2=\"28\" y2=\"0\" style=\"stroke-width:2\" />\n",
              "  <line x1=\"0\" y1=\"120\" x2=\"28\" y2=\"120\" style=\"stroke-width:2\" />\n",
              "\n",
              "  <!-- Vertical lines -->\n",
              "  <line x1=\"0\" y1=\"0\" x2=\"0\" y2=\"120\" style=\"stroke-width:2\" />\n",
              "  <line x1=\"28\" y1=\"0\" x2=\"28\" y2=\"120\" style=\"stroke-width:2\" />\n",
              "\n",
              "  <!-- Colored Rectangle -->\n",
              "  <polygon points=\"0.000000,0.000000 28.022938,0.000000 28.022938,120.000000 0.000000,120.000000\" style=\"fill:#ECB172A0;stroke-width:0\"/>\n",
              "\n",
              "  <!-- Text -->\n",
              "  <text x=\"14.011469\" y=\"140.000000\" font-size=\"1.0rem\" font-weight=\"100\" text-anchor=\"middle\" >2</text>\n",
              "  <text x=\"48.022938\" y=\"60.000000\" font-size=\"1.0rem\" font-weight=\"100\" text-anchor=\"middle\" transform=\"rotate(-90,48.022938,60.000000)\">120</text>\n",
              "</svg>\n",
              "</td>\n",
              "</tr>\n",
              "</table></div></li><li class='xr-var-item'><div class='xr-var-name'><span class='xr-has-index'>lon</span></div><div class='xr-var-dims'>(lon)</div><div class='xr-var-dtype'>float64</div><div class='xr-var-preview xr-preview'>0.0 2.0 4.0 ... 354.0 356.0 358.0</div><input id='attrs-a37d44c6-9917-45a7-a3b6-23de0e6d626d' class='xr-var-attrs-in' type='checkbox' ><label for='attrs-a37d44c6-9917-45a7-a3b6-23de0e6d626d' title='Show/Hide attributes'><svg class='icon xr-icon-file-text2'><use xlink:href='#icon-file-text2'></use></svg></label><input id='data-00a8d663-744c-4595-829c-fb5bb391f151' class='xr-var-data-in' type='checkbox'><label for='data-00a8d663-744c-4595-829c-fb5bb391f151' title='Show/Hide data repr'><svg class='icon xr-icon-database'><use xlink:href='#icon-database'></use></svg></label><div class='xr-var-attrs'><dl class='xr-attrs'><dt><span>axis :</span></dt><dd>X</dd><dt><span>bounds :</span></dt><dd>lon_bnds</dd><dt><span>long_name :</span></dt><dd>longitude</dd><dt><span>standard_name :</span></dt><dd>longitude</dd><dt><span>units :</span></dt><dd>degrees_east</dd></dl></div><div class='xr-var-data'><pre>array([  0.,   2.,   4.,   6.,   8.,  10.,  12.,  14.,  16.,  18.,  20.,  22.,\n",
              "        24.,  26.,  28.,  30.,  32.,  34.,  36.,  38.,  40.,  42.,  44.,  46.,\n",
              "        48.,  50.,  52.,  54.,  56.,  58.,  60.,  62.,  64.,  66.,  68.,  70.,\n",
              "        72.,  74.,  76.,  78.,  80.,  82.,  84.,  86.,  88.,  90.,  92.,  94.,\n",
              "        96.,  98., 100., 102., 104., 106., 108., 110., 112., 114., 116., 118.,\n",
              "       120., 122., 124., 126., 128., 130., 132., 134., 136., 138., 140., 142.,\n",
              "       144., 146., 148., 150., 152., 154., 156., 158., 160., 162., 164., 166.,\n",
              "       168., 170., 172., 174., 176., 178., 180., 182., 184., 186., 188., 190.,\n",
              "       192., 194., 196., 198., 200., 202., 204., 206., 208., 210., 212., 214.,\n",
              "       216., 218., 220., 222., 224., 226., 228., 230., 232., 234., 236., 238.,\n",
              "       240., 242., 244., 246., 248., 250., 252., 254., 256., 258., 260., 262.,\n",
              "       264., 266., 268., 270., 272., 274., 276., 278., 280., 282., 284., 286.,\n",
              "       288., 290., 292., 294., 296., 298., 300., 302., 304., 306., 308., 310.,\n",
              "       312., 314., 316., 318., 320., 322., 324., 326., 328., 330., 332., 334.,\n",
              "       336., 338., 340., 342., 344., 346., 348., 350., 352., 354., 356., 358.])</pre></div></li><li class='xr-var-item'><div class='xr-var-name'><span>lon_bnds</span></div><div class='xr-var-dims'>(lon, bnds)</div><div class='xr-var-dtype'>float64</div><div class='xr-var-preview xr-preview'>dask.array&lt;chunksize=(180, 2), meta=np.ndarray&gt;</div><input id='attrs-84a335f0-bb09-4886-a1eb-39b7634d7477' class='xr-var-attrs-in' type='checkbox' disabled><label for='attrs-84a335f0-bb09-4886-a1eb-39b7634d7477' title='Show/Hide attributes'><svg class='icon xr-icon-file-text2'><use xlink:href='#icon-file-text2'></use></svg></label><input id='data-470da38b-d03f-4a26-bd7c-14594bafc88f' class='xr-var-data-in' type='checkbox'><label for='data-470da38b-d03f-4a26-bd7c-14594bafc88f' title='Show/Hide data repr'><svg class='icon xr-icon-database'><use xlink:href='#icon-database'></use></svg></label><div class='xr-var-attrs'><dl class='xr-attrs'></dl></div><div class='xr-var-data'><table>\n",
              "<tr>\n",
              "<td>\n",
              "<table>\n",
              "  <thead>\n",
              "    <tr><td> </td><th> Array </th><th> Chunk </th></tr>\n",
              "  </thead>\n",
              "  <tbody>\n",
              "    <tr><th> Bytes </th><td> 2.88 kB </td> <td> 2.88 kB </td></tr>\n",
              "    <tr><th> Shape </th><td> (180, 2) </td> <td> (180, 2) </td></tr>\n",
              "    <tr><th> Count </th><td> 2 Tasks </td><td> 1 Chunks </td></tr>\n",
              "    <tr><th> Type </th><td> float64 </td><td> numpy.ndarray </td></tr>\n",
              "  </tbody>\n",
              "</table>\n",
              "</td>\n",
              "<td>\n",
              "<svg width=\"75\" height=\"170\" style=\"stroke:rgb(0,0,0);stroke-width:1\" >\n",
              "\n",
              "  <!-- Horizontal lines -->\n",
              "  <line x1=\"0\" y1=\"0\" x2=\"25\" y2=\"0\" style=\"stroke-width:2\" />\n",
              "  <line x1=\"0\" y1=\"120\" x2=\"25\" y2=\"120\" style=\"stroke-width:2\" />\n",
              "\n",
              "  <!-- Vertical lines -->\n",
              "  <line x1=\"0\" y1=\"0\" x2=\"0\" y2=\"120\" style=\"stroke-width:2\" />\n",
              "  <line x1=\"25\" y1=\"0\" x2=\"25\" y2=\"120\" style=\"stroke-width:2\" />\n",
              "\n",
              "  <!-- Colored Rectangle -->\n",
              "  <polygon points=\"0.000000,0.000000 25.924160,0.000000 25.924160,120.000000 0.000000,120.000000\" style=\"fill:#ECB172A0;stroke-width:0\"/>\n",
              "\n",
              "  <!-- Text -->\n",
              "  <text x=\"12.962080\" y=\"140.000000\" font-size=\"1.0rem\" font-weight=\"100\" text-anchor=\"middle\" >2</text>\n",
              "  <text x=\"45.924160\" y=\"60.000000\" font-size=\"1.0rem\" font-weight=\"100\" text-anchor=\"middle\" transform=\"rotate(-90,45.924160,60.000000)\">180</text>\n",
              "</svg>\n",
              "</td>\n",
              "</tr>\n",
              "</table></div></li><li class='xr-var-item'><div class='xr-var-name'><span class='xr-has-index'>time</span></div><div class='xr-var-dims'>(time)</div><div class='xr-var-dtype'>int64</div><div class='xr-var-preview xr-preview'>0 708 1416 ... 4378524 4379256</div><input id='attrs-23e562ec-41f5-4db5-b312-33ead05b385a' class='xr-var-attrs-in' type='checkbox' ><label for='attrs-23e562ec-41f5-4db5-b312-33ead05b385a' title='Show/Hide attributes'><svg class='icon xr-icon-file-text2'><use xlink:href='#icon-file-text2'></use></svg></label><input id='data-ec4be3f5-0a92-4b99-9123-852eeb07520d' class='xr-var-data-in' type='checkbox'><label for='data-ec4be3f5-0a92-4b99-9123-852eeb07520d' title='Show/Hide data repr'><svg class='icon xr-icon-database'><use xlink:href='#icon-database'></use></svg></label><div class='xr-var-attrs'><dl class='xr-attrs'><dt><span>axis :</span></dt><dd>T</dd><dt><span>bounds :</span></dt><dd>time_bnds</dd><dt><span>calendar :</span></dt><dd>noleap</dd><dt><span>long_name :</span></dt><dd>time</dd><dt><span>standard_name :</span></dt><dd>time</dd><dt><span>units :</span></dt><dd>hours since 1850-01-16 12:00:00.000000</dd></dl></div><div class='xr-var-data'><pre>array([      0,     708,    1416, ..., 4377792, 4378524, 4379256])</pre></div></li><li class='xr-var-item'><div class='xr-var-name'><span>time_bnds</span></div><div class='xr-var-dims'>(time, bnds)</div><div class='xr-var-dtype'>float64</div><div class='xr-var-preview xr-preview'>dask.array&lt;chunksize=(6000, 2), meta=np.ndarray&gt;</div><input id='attrs-2e65db09-07a6-420c-938c-02a278d050cc' class='xr-var-attrs-in' type='checkbox' ><label for='attrs-2e65db09-07a6-420c-938c-02a278d050cc' title='Show/Hide attributes'><svg class='icon xr-icon-file-text2'><use xlink:href='#icon-file-text2'></use></svg></label><input id='data-cb59b9c0-3bb2-453c-a720-1eb3d3a05177' class='xr-var-data-in' type='checkbox'><label for='data-cb59b9c0-3bb2-453c-a720-1eb3d3a05177' title='Show/Hide data repr'><svg class='icon xr-icon-database'><use xlink:href='#icon-database'></use></svg></label><div class='xr-var-attrs'><dl class='xr-attrs'><dt><span>calendar :</span></dt><dd>365_day</dd><dt><span>units :</span></dt><dd>days since 1850-01-01</dd></dl></div><div class='xr-var-data'><table>\n",
              "<tr>\n",
              "<td>\n",
              "<table>\n",
              "  <thead>\n",
              "    <tr><td> </td><th> Array </th><th> Chunk </th></tr>\n",
              "  </thead>\n",
              "  <tbody>\n",
              "    <tr><th> Bytes </th><td> 96.00 kB </td> <td> 96.00 kB </td></tr>\n",
              "    <tr><th> Shape </th><td> (6000, 2) </td> <td> (6000, 2) </td></tr>\n",
              "    <tr><th> Count </th><td> 2 Tasks </td><td> 1 Chunks </td></tr>\n",
              "    <tr><th> Type </th><td> float64 </td><td> numpy.ndarray </td></tr>\n",
              "  </tbody>\n",
              "</table>\n",
              "</td>\n",
              "<td>\n",
              "<svg width=\"75\" height=\"170\" style=\"stroke:rgb(0,0,0);stroke-width:1\" >\n",
              "\n",
              "  <!-- Horizontal lines -->\n",
              "  <line x1=\"0\" y1=\"0\" x2=\"25\" y2=\"0\" style=\"stroke-width:2\" />\n",
              "  <line x1=\"0\" y1=\"120\" x2=\"25\" y2=\"120\" style=\"stroke-width:2\" />\n",
              "\n",
              "  <!-- Vertical lines -->\n",
              "  <line x1=\"0\" y1=\"0\" x2=\"0\" y2=\"120\" style=\"stroke-width:2\" />\n",
              "  <line x1=\"25\" y1=\"0\" x2=\"25\" y2=\"120\" style=\"stroke-width:2\" />\n",
              "\n",
              "  <!-- Colored Rectangle -->\n",
              "  <polygon points=\"0.000000,0.000000 25.412617,0.000000 25.412617,120.000000 0.000000,120.000000\" style=\"fill:#ECB172A0;stroke-width:0\"/>\n",
              "\n",
              "  <!-- Text -->\n",
              "  <text x=\"12.706308\" y=\"140.000000\" font-size=\"1.0rem\" font-weight=\"100\" text-anchor=\"middle\" >2</text>\n",
              "  <text x=\"45.412617\" y=\"60.000000\" font-size=\"1.0rem\" font-weight=\"100\" text-anchor=\"middle\" transform=\"rotate(-90,45.412617,60.000000)\">6000</text>\n",
              "</svg>\n",
              "</td>\n",
              "</tr>\n",
              "</table></div></li></ul></div></li><li class='xr-section-item'><input id='section-e852355f-d2ec-4fab-94c6-071abf840b91' class='xr-section-summary-in' type='checkbox'  checked><label for='section-e852355f-d2ec-4fab-94c6-071abf840b91' class='xr-section-summary' >Data variables: <span>(1)</span></label><div class='xr-section-inline-details'></div><div class='xr-section-details'><ul class='xr-var-list'><li class='xr-var-item'><div class='xr-var-name'><span>rsdt</span></div><div class='xr-var-dims'>(time, lat, lon)</div><div class='xr-var-dtype'>float32</div><div class='xr-var-preview xr-preview'>dask.array&lt;chunksize=(578, 120, 180), meta=np.ndarray&gt;</div><input id='attrs-d4bec759-4bc6-465b-b87d-bc48dc9e8d7b' class='xr-var-attrs-in' type='checkbox' ><label for='attrs-d4bec759-4bc6-465b-b87d-bc48dc9e8d7b' title='Show/Hide attributes'><svg class='icon xr-icon-file-text2'><use xlink:href='#icon-file-text2'></use></svg></label><input id='data-86533607-cb00-45f7-a125-40be53b463db' class='xr-var-data-in' type='checkbox'><label for='data-86533607-cb00-45f7-a125-40be53b463db' title='Show/Hide data repr'><svg class='icon xr-icon-database'><use xlink:href='#icon-database'></use></svg></label><div class='xr-var-attrs'><dl class='xr-attrs'><dt><span>associated_files :</span></dt><dd>baseURL: http://cmip-pcmdi.llnl.gov/CMIP5/dataLocation gridspecFile: gridspec_fx_inmcm4_piControl_r0i0p0.nc</dd><dt><span>cell_methods :</span></dt><dd>time: mean (interval: 1 month)</dd><dt><span>comment :</span></dt><dd>incident shortwave at the top of the atmosphere</dd><dt><span>history :</span></dt><dd>2010-06-01T14:01:52Z altered by CMOR: Changed sign. 2010-06-01T14:01:52Z altered by CMOR: Reordered dimensions, original order: time lon lat.</dd><dt><span>long_name :</span></dt><dd>TOA Incident Shortwave Radiation</dd><dt><span>original_name :</span></dt><dd>rsdt</dd><dt><span>standard_name :</span></dt><dd>toa_incoming_shortwave_flux</dd><dt><span>units :</span></dt><dd>W m-2</dd></dl></div><div class='xr-var-data'><table>\n",
              "<tr>\n",
              "<td>\n",
              "<table>\n",
              "  <thead>\n",
              "    <tr><td> </td><th> Array </th><th> Chunk </th></tr>\n",
              "  </thead>\n",
              "  <tbody>\n",
              "    <tr><th> Bytes </th><td> 518.40 MB </td> <td> 49.94 MB </td></tr>\n",
              "    <tr><th> Shape </th><td> (6000, 120, 180) </td> <td> (578, 120, 180) </td></tr>\n",
              "    <tr><th> Count </th><td> 12 Tasks </td><td> 11 Chunks </td></tr>\n",
              "    <tr><th> Type </th><td> float32 </td><td> numpy.ndarray </td></tr>\n",
              "  </tbody>\n",
              "</table>\n",
              "</td>\n",
              "<td>\n",
              "<svg width=\"161\" height=\"149\" style=\"stroke:rgb(0,0,0);stroke-width:1\" >\n",
              "\n",
              "  <!-- Horizontal lines -->\n",
              "  <line x1=\"10\" y1=\"0\" x2=\"80\" y2=\"70\" style=\"stroke-width:2\" />\n",
              "  <line x1=\"10\" y1=\"29\" x2=\"80\" y2=\"99\" style=\"stroke-width:2\" />\n",
              "\n",
              "  <!-- Vertical lines -->\n",
              "  <line x1=\"10\" y1=\"0\" x2=\"10\" y2=\"29\" style=\"stroke-width:2\" />\n",
              "  <line x1=\"16\" y1=\"6\" x2=\"16\" y2=\"35\" />\n",
              "  <line x1=\"23\" y1=\"13\" x2=\"23\" y2=\"42\" />\n",
              "  <line x1=\"30\" y1=\"20\" x2=\"30\" y2=\"49\" />\n",
              "  <line x1=\"37\" y1=\"27\" x2=\"37\" y2=\"56\" />\n",
              "  <line x1=\"44\" y1=\"34\" x2=\"44\" y2=\"63\" />\n",
              "  <line x1=\"50\" y1=\"40\" x2=\"50\" y2=\"69\" />\n",
              "  <line x1=\"57\" y1=\"47\" x2=\"57\" y2=\"76\" />\n",
              "  <line x1=\"64\" y1=\"54\" x2=\"64\" y2=\"83\" />\n",
              "  <line x1=\"71\" y1=\"61\" x2=\"71\" y2=\"90\" />\n",
              "  <line x1=\"78\" y1=\"68\" x2=\"78\" y2=\"97\" />\n",
              "  <line x1=\"80\" y1=\"70\" x2=\"80\" y2=\"99\" style=\"stroke-width:2\" />\n",
              "\n",
              "  <!-- Colored Rectangle -->\n",
              "  <polygon points=\"10.000000,0.000000 80.588235,70.588235 80.588235,99.618864 10.000000,29.030629\" style=\"fill:#ECB172A0;stroke-width:0\"/>\n",
              "\n",
              "  <!-- Horizontal lines -->\n",
              "  <line x1=\"10\" y1=\"0\" x2=\"41\" y2=\"0\" style=\"stroke-width:2\" />\n",
              "  <line x1=\"16\" y1=\"6\" x2=\"48\" y2=\"6\" />\n",
              "  <line x1=\"23\" y1=\"13\" x2=\"54\" y2=\"13\" />\n",
              "  <line x1=\"30\" y1=\"20\" x2=\"61\" y2=\"20\" />\n",
              "  <line x1=\"37\" y1=\"27\" x2=\"68\" y2=\"27\" />\n",
              "  <line x1=\"44\" y1=\"34\" x2=\"75\" y2=\"34\" />\n",
              "  <line x1=\"50\" y1=\"40\" x2=\"82\" y2=\"40\" />\n",
              "  <line x1=\"57\" y1=\"47\" x2=\"88\" y2=\"47\" />\n",
              "  <line x1=\"64\" y1=\"54\" x2=\"95\" y2=\"54\" />\n",
              "  <line x1=\"71\" y1=\"61\" x2=\"102\" y2=\"61\" />\n",
              "  <line x1=\"78\" y1=\"68\" x2=\"109\" y2=\"68\" />\n",
              "  <line x1=\"80\" y1=\"70\" x2=\"111\" y2=\"70\" style=\"stroke-width:2\" />\n",
              "\n",
              "  <!-- Vertical lines -->\n",
              "  <line x1=\"10\" y1=\"0\" x2=\"80\" y2=\"70\" style=\"stroke-width:2\" />\n",
              "  <line x1=\"41\" y1=\"0\" x2=\"111\" y2=\"70\" style=\"stroke-width:2\" />\n",
              "\n",
              "  <!-- Colored Rectangle -->\n",
              "  <polygon points=\"10.000000,0.000000 41.390379,0.000000 111.978614,70.588235 80.588235,70.588235\" style=\"fill:#ECB172A0;stroke-width:0\"/>\n",
              "\n",
              "  <!-- Horizontal lines -->\n",
              "  <line x1=\"80\" y1=\"70\" x2=\"111\" y2=\"70\" style=\"stroke-width:2\" />\n",
              "  <line x1=\"80\" y1=\"99\" x2=\"111\" y2=\"99\" style=\"stroke-width:2\" />\n",
              "\n",
              "  <!-- Vertical lines -->\n",
              "  <line x1=\"80\" y1=\"70\" x2=\"80\" y2=\"99\" style=\"stroke-width:2\" />\n",
              "  <line x1=\"111\" y1=\"70\" x2=\"111\" y2=\"99\" style=\"stroke-width:2\" />\n",
              "\n",
              "  <!-- Colored Rectangle -->\n",
              "  <polygon points=\"80.588235,70.588235 111.978614,70.588235 111.978614,99.618864 80.588235,99.618864\" style=\"fill:#ECB172A0;stroke-width:0\"/>\n",
              "\n",
              "  <!-- Text -->\n",
              "  <text x=\"96.283425\" y=\"119.618864\" font-size=\"1.0rem\" font-weight=\"100\" text-anchor=\"middle\" >180</text>\n",
              "  <text x=\"131.978614\" y=\"85.103550\" font-size=\"1.0rem\" font-weight=\"100\" text-anchor=\"middle\" transform=\"rotate(-90,131.978614,85.103550)\">120</text>\n",
              "  <text x=\"35.294118\" y=\"84.324747\" font-size=\"1.0rem\" font-weight=\"100\" text-anchor=\"middle\" transform=\"rotate(45,35.294118,84.324747)\">6000</text>\n",
              "</svg>\n",
              "</td>\n",
              "</tr>\n",
              "</table></div></li></ul></div></li><li class='xr-section-item'><input id='section-d7fa3640-0e07-4346-9ee7-6a5076acad28' class='xr-section-summary-in' type='checkbox'  ><label for='section-d7fa3640-0e07-4346-9ee7-6a5076acad28' class='xr-section-summary' >Attributes: <span>(27)</span></label><div class='xr-section-inline-details'></div><div class='xr-section-details'><dl class='xr-attrs'><dt><span>Conventions :</span></dt><dd>CF-1.4</dd><dt><span>branch_time :</span></dt><dd>0.0</dd><dt><span>cmor_version :</span></dt><dd>2.0.0</dd><dt><span>comment :</span></dt><dd>no comments</dd><dt><span>contact :</span></dt><dd>Evgeny Volodin, volodin@inm.ras.ru,INM RAS, Gubkina 8, Moscow, 119333 Russia,+7-495-9383904</dd><dt><span>creation_date :</span></dt><dd>2010-06-01T14:17:47Z</dd><dt><span>experiment :</span></dt><dd>pre-industrial control</dd><dt><span>experiment_id :</span></dt><dd>piControl</dd><dt><span>forcing :</span></dt><dd>N/A</dd><dt><span>frequency :</span></dt><dd>mon</dd><dt><span>history :</span></dt><dd>Output from /data5/volodin/PICNTL 2010-06-01T14:01:53Z CMOR rewrote data to comply with CF standards and CMIP5 requirements.</dd><dt><span>initialization_method :</span></dt><dd>1</dd><dt><span>institute_id :</span></dt><dd>INM</dd><dt><span>institution :</span></dt><dd>INM (Institute for Numerical Mathematics,  Moscow, Russia)</dd><dt><span>model_id :</span></dt><dd>inmcm4</dd><dt><span>modeling_realm :</span></dt><dd>atmos</dd><dt><span>parent_experiment :</span></dt><dd>N/A</dd><dt><span>parent_experiment_id :</span></dt><dd>N/A</dd><dt><span>physics_version :</span></dt><dd>1</dd><dt><span>product :</span></dt><dd>output</dd><dt><span>project_id :</span></dt><dd>CMIP5</dd><dt><span>realization :</span></dt><dd>1</dd><dt><span>references :</span></dt><dd>Volodin, Diansky, Gusev 2010. Climate model INMCM4.0. Izvestia RAS. Atmospheric and oceanic physics, V.46, N4, in print.</dd><dt><span>source :</span></dt><dd>inmcm4 (2009)</dd><dt><span>table_id :</span></dt><dd>Table Amon (12 May 2010) 12e195f2fdc87c907b38b38e15851337</dd><dt><span>title :</span></dt><dd>inmcm4 model output prepared for CMIP5 pre-industrial control</dd><dt><span>tracking_id :</span></dt><dd>47d7cee5-e0ce-4ee1-8346-ba7c78da9d58</dd></dl></div></li></ul></div></div>"
            ],
            "text/plain": [
              "<xarray.Dataset>\n",
              "Dimensions:    (lat: 120, bnds: 2, lon: 180, time: 6000)\n",
              "Coordinates:\n",
              "  * lat        (lat) float64 -89.25 -87.75 -86.25 -84.75 ... 86.25 87.75 89.25\n",
              "    lat_bnds   (lat, bnds) float64 dask.array<chunksize=(120, 2), meta=np.ndarray>\n",
              "  * lon        (lon) float64 0.0 2.0 4.0 6.0 8.0 ... 352.0 354.0 356.0 358.0\n",
              "    lon_bnds   (lon, bnds) float64 dask.array<chunksize=(180, 2), meta=np.ndarray>\n",
              "  * time       (time) int64 0 708 1416 2148 ... 4377060 4377792 4378524 4379256\n",
              "    time_bnds  (time, bnds) float64 dask.array<chunksize=(6000, 2), meta=np.ndarray>\n",
              "Dimensions without coordinates: bnds\n",
              "Data variables:\n",
              "    rsdt       (time, lat, lon) float32 dask.array<chunksize=(578, 120, 180), meta=np.ndarray>\n",
              "Attributes: (12/27)\n",
              "    Conventions:            CF-1.4\n",
              "    branch_time:            0.0\n",
              "    cmor_version:           2.0.0\n",
              "    comment:                no comments\n",
              "    contact:                Evgeny Volodin, volodin@inm.ras.ru,INM RAS, Gubki...\n",
              "    creation_date:          2010-06-01T14:17:47Z\n",
              "    ...                     ...\n",
              "    realization:            1\n",
              "    references:             Volodin, Diansky, Gusev 2010. Climate model INMCM...\n",
              "    source:                 inmcm4 (2009)\n",
              "    table_id:               Table Amon (12 May 2010) 12e195f2fdc87c907b38b38e...\n",
              "    title:                  inmcm4 model output prepared for CMIP5 pre-indust...\n",
              "    tracking_id:            47d7cee5-e0ce-4ee1-8346-ba7c78da9d58"
            ]
          },
          "metadata": {},
          "execution_count": 40
        }
      ]
    },
    {
      "cell_type": "markdown",
      "metadata": {
        "id": "QdGXa2hCp6tD"
      },
      "source": [
        "Find complete runs\n",
        "\n",
        "\n"
      ]
    },
    {
      "cell_type": "code",
      "metadata": {
        "id": "Q2AYLtYelCCY",
        "colab": {
          "base_uri": "https://localhost:8080/",
          "height": 124
        },
        "outputId": "b7482e1f-ae1e-48b0-fff3-3ad260d41ba1"
      },
      "source": [
        "\n",
        "if readdata:\n",
        "  out = display(progress(0, 1), display_id=True)\n",
        "  for i,d in enumerate(dall,start=0):\n",
        "    tmp=xr.merge(d[:])\n",
        "    tmp.to_netcdf('/content/drive/MyDrive/colab_4xco2/cmip5/'+expts[i]+'.nc')\n",
        "    lat=tmp.tas.lat\n",
        "    weights = np.cos(np.deg2rad(lat))\n",
        "    weights.name = \"weights\"\n",
        "    tmp_gm=tmp.mean(dim='year').weighted(weights).mean(dim='lat').mean(dim='lon')\n",
        "    tmp_gm.to_netcdf('/content/drive/MyDrive/colab_4xco2/cmip5/'+expts[i]+'_gm.nc')\n",
        "    out.update(progress(i,ne))\n"
      ],
      "execution_count": null,
      "outputs": [
        {
          "output_type": "display_data",
          "data": {
            "text/html": [
              "\n",
              "        <progress\n",
              "            value='1'\n",
              "            max='2',\n",
              "            style='width: 100%'\n",
              "        >\n",
              "            1\n",
              "        </progress>\n",
              "    "
            ],
            "text/plain": [
              "<IPython.core.display.HTML object>"
            ]
          },
          "metadata": {}
        },
        {
          "output_type": "stream",
          "name": "stderr",
          "text": [
            "/usr/local/lib/python3.7/dist-packages/dask/array/numpy_compat.py:40: RuntimeWarning: invalid value encountered in true_divide\n",
            "  x = np.divide(x1, x2, out)\n",
            "/usr/local/lib/python3.7/dist-packages/dask/array/numpy_compat.py:40: RuntimeWarning: invalid value encountered in true_divide\n",
            "  x = np.divide(x1, x2, out)\n"
          ]
        }
      ]
    },
    {
      "cell_type": "code",
      "metadata": {
        "id": "CusvMJPceGcE",
        "colab": {
          "base_uri": "https://localhost:8080/"
        },
        "outputId": "80dbf039-8300-429c-c168-3ad66555753f"
      },
      "source": [
        "mdls"
      ],
      "execution_count": null,
      "outputs": [
        {
          "output_type": "execute_result",
          "data": {
            "text/plain": [
              "['ACCESS1-0',\n",
              " 'ACCESS1-3',\n",
              " 'CCSM4',\n",
              " 'CNRM-CM5',\n",
              " 'CSIRO-Mk3-6-0',\n",
              " 'CanESM2',\n",
              " 'FGOALS-g2',\n",
              " 'FGOALS-s2',\n",
              " 'GFDL-CM3',\n",
              " 'GFDL-ESM2G',\n",
              " 'GFDL-ESM2M',\n",
              " 'GISS-E2-H',\n",
              " 'GISS-E2-R',\n",
              " 'HadGEM2-ES',\n",
              " 'IPSL-CM5A-LR',\n",
              " 'IPSL-CM5A-MR',\n",
              " 'IPSL-CM5B-LR',\n",
              " 'MIROC-ESM',\n",
              " 'MIROC5',\n",
              " 'MPI-ESM-LR',\n",
              " 'MPI-ESM-P',\n",
              " 'NorESM1-M',\n",
              " 'bcc-csm1-1',\n",
              " 'bcc-csm1-1-m',\n",
              " 'inmcm4']"
            ]
          },
          "metadata": {},
          "execution_count": 42
        }
      ]
    }
  ]
}