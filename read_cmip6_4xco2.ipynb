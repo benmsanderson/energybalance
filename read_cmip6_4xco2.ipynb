{
  "nbformat": 4,
  "nbformat_minor": 0,
  "metadata": {
    "colab": {
      "name": "read cmip6 4xco2.ipynb",
      "provenance": [],
      "collapsed_sections": [],
      "machine_shape": "hm",
      "include_colab_link": true
    },
    "kernelspec": {
      "display_name": "Python 3",
      "language": "python",
      "name": "python3"
    },
    "language_info": {
      "codemirror_mode": {
        "name": "ipython",
        "version": 3
      },
      "file_extension": ".py",
      "mimetype": "text/x-python",
      "name": "python",
      "nbconvert_exporter": "python",
      "pygments_lexer": "ipython3",
      "version": "3.7.3"
    }
  },
  "cells": [
    {
      "cell_type": "markdown",
      "metadata": {
        "id": "view-in-github",
        "colab_type": "text"
      },
      "source": [
        "<a href=\"https://colab.research.google.com/github/benmsanderson/energybalance/blob/main/read_cmip6_4xco2.ipynb\" target=\"_parent\"><img src=\"https://colab.research.google.com/assets/colab-badge.svg\" alt=\"Open In Colab\"/></a>"
      ]
    },
    {
      "cell_type": "markdown",
      "metadata": {
        "id": "ibGzDNElOzhq"
      },
      "source": [
        "# 4xCO2 read data\n",
        "\n",
        "\n",
        "CMIP6"
      ]
    },
    {
      "cell_type": "code",
      "metadata": {
        "id": "W4fTIkDuBj-I"
      },
      "source": [
        "readdata=1\n",
        "authdrive=1"
      ],
      "execution_count": null,
      "outputs": []
    },
    {
      "cell_type": "markdown",
      "metadata": {
        "id": "EGi7G5EmzrcG"
      },
      "source": [
        "Desired interpolation grid"
      ]
    },
    {
      "cell_type": "markdown",
      "metadata": {
        "id": "r-32Yp_fz4Gz"
      },
      "source": [
        "Desired experiments"
      ]
    },
    {
      "cell_type": "code",
      "metadata": {
        "id": "bcDSbcN5kp-o"
      },
      "source": [
        "flds=['tas','rsut','rlut','rsdt']\n",
        "expts=['1pctCO2','abrupt-4xCO2','piControl','historical','ssp126','ssp585']\n",
        "calstrt=[True,True,True,False,False,False]\n",
        "dbe=['CMIP','CMIP','CMIP','CMIP','ScenarioMIP','ScenarioMIP']"
      ],
      "execution_count": null,
      "outputs": []
    },
    {
      "cell_type": "markdown",
      "metadata": {
        "id": "CUXOIoRvfbXn"
      },
      "source": [
        "Install some stuff"
      ]
    },
    {
      "cell_type": "code",
      "metadata": {
        "id": "UyVE585SCRmq",
        "colab": {
          "base_uri": "https://localhost:8080/"
        },
        "outputId": "eaeaaa72-c02f-43f1-cc10-f89ead1036c3"
      },
      "source": [
        "!pip uninstall -y albumentations >/dev/null\n",
        "!pip install --upgrade xarray zarr gcsfs cftime pydsm nc-time-axis imgaug matplotlib==3.1.3 progress eofs cartopy netcdf4 >/dev/null"
      ],
      "execution_count": null,
      "outputs": [
        {
          "output_type": "stream",
          "name": "stdout",
          "text": [
            "\u001b[33mWARNING: Discarding https://files.pythonhosted.org/packages/f6/55/1e1c737dc9436b320deead73d1c455ddbb74b8b6992081863492f6f6378a/Cartopy-0.20.2.tar.gz#sha256=4d08c198ecaa50a6a6b109d0f14c070e813defc046a83ac5d7ab494f85599e35 (from https://pypi.org/simple/cartopy/) (requires-python:>=3.7). Command errored out with exit status 1: /usr/bin/python3 /usr/local/lib/python3.7/dist-packages/pip/_vendor/pep517/in_process/_in_process.py get_requires_for_build_wheel /tmp/tmpwhpb5zt4 Check the logs for full command output.\u001b[0m\n",
            "\u001b[33mWARNING: Discarding https://files.pythonhosted.org/packages/fc/59/aa52698e3838f4cd0e7eaa75bd86837e9e0b05041dbdaee3cda2fffced06/Cartopy-0.20.1.tar.gz#sha256=91f87b130e2574547a20cd634498df97d797abd12dcfd0235bc0cdbcec8b05e3 (from https://pypi.org/simple/cartopy/) (requires-python:>=3.7). Command errored out with exit status 1: /usr/bin/python3 /usr/local/lib/python3.7/dist-packages/pip/_vendor/pep517/in_process/_in_process.py get_requires_for_build_wheel /tmp/tmpr5h1xsy2 Check the logs for full command output.\u001b[0m\n",
            "\u001b[33mWARNING: Discarding https://files.pythonhosted.org/packages/0f/c0/58453b036e79046d211f083880d58dcce787e7e07647ac25dc46c6555099/Cartopy-0.20.0.tar.gz#sha256=eae58aff26806e63cf115b2bce9477cedc4aa9f578c5e477b2c25cfa404f2b7a (from https://pypi.org/simple/cartopy/) (requires-python:>=3.7). Command errored out with exit status 1: /usr/bin/python3 /usr/local/lib/python3.7/dist-packages/pip/_vendor/pep517/in_process/_in_process.py get_requires_for_build_wheel /tmp/tmpullc49wq Check the logs for full command output.\u001b[0m\n"
          ]
        }
      ]
    },
    {
      "cell_type": "markdown",
      "metadata": {
        "id": "Qg99d58j0JjT"
      },
      "source": [
        "Import stuff"
      ]
    },
    {
      "cell_type": "code",
      "metadata": {
        "colab": {
          "base_uri": "https://localhost:8080/"
        },
        "id": "aH3VEYX-Ozht",
        "outputId": "58a142ab-7e47-40e6-c651-87c7945956dc"
      },
      "source": [
        "from matplotlib import pyplot as plt\n",
        "from netCDF4 import num2date\n",
        "import numpy as np\n",
        "import pydsm.relab as relab\n",
        "import numpy.matlib\n",
        "import pandas as pd\n",
        "import xarray as xr\n",
        "import zarr\n",
        "import gcsfs\n",
        "import pickle\n",
        "import cftime\n",
        "import cartopy.crs as ccrs\n",
        "import dask as da\n",
        "from eofs.xarray import Eof\n",
        "from sys import getsizeof\n",
        "from IPython.display import HTML, display\n",
        "import time\n",
        "\n",
        "xr.set_options(display_style='html')\n",
        "%matplotlib inline\n",
        "%config InlineBackend.figure_format = 'retina' \n",
        "from psutil import virtual_memory\n",
        "ram_gb = virtual_memory().total / 1e9\n",
        "print('runtime has {:.1f} gigabytes of available RAM\\n'.format(ram_gb))\n",
        "\n",
        "#code for pretty progress bars\n",
        "def progress(value, max=100):\n",
        "    return HTML(\"\"\"\n",
        "        <progress\n",
        "            value='{value}'\n",
        "            max='{max}',\n",
        "            style='width: 100%'\n",
        "        >\n",
        "            {value}\n",
        "        </progress>\n",
        "    \"\"\".format(value=value, max=max))\n"
      ],
      "execution_count": null,
      "outputs": [
        {
          "output_type": "stream",
          "name": "stdout",
          "text": [
            "runtime has 27.3 gigabytes of available RAM\n",
            "\n"
          ]
        }
      ]
    },
    {
      "cell_type": "code",
      "metadata": {
        "id": "wJe1cbeujNAt"
      },
      "source": [
        "lon_out=np.arange(1,359,2)\n",
        "lat_out=np.arange(-89,89,2)\n",
        "lons_sub, lats_sub = np.meshgrid(lon_out,lat_out)"
      ],
      "execution_count": null,
      "outputs": []
    },
    {
      "cell_type": "markdown",
      "metadata": {
        "id": "Gllex63_1fRS"
      },
      "source": [
        "Activate Google Drive to store arrays"
      ]
    },
    {
      "cell_type": "code",
      "metadata": {
        "colab": {
          "base_uri": "https://localhost:8080/"
        },
        "id": "meCWM0nwR3JG",
        "outputId": "8e931e91-acc2-47a8-b21c-43c663f8d74a"
      },
      "source": [
        "if authdrive:\n",
        "  from google.colab import drive\n",
        "  drive.mount('/content/drive')"
      ],
      "execution_count": null,
      "outputs": [
        {
          "output_type": "stream",
          "name": "stdout",
          "text": [
            "Mounted at /content/drive\n"
          ]
        }
      ]
    },
    {
      "cell_type": "code",
      "metadata": {
        "id": "F-G_m3ncOzhx"
      },
      "source": [
        "plt.rcParams['figure.figsize'] = 12, 6"
      ],
      "execution_count": null,
      "outputs": []
    },
    {
      "cell_type": "markdown",
      "metadata": {
        "id": "ss9_lR75Ozhz"
      },
      "source": [
        "## Browse Catalog\n",
        "\n",
        "The data catatalog is stored as a CSV file. Here we read it with Pandas."
      ]
    },
    {
      "cell_type": "code",
      "metadata": {
        "id": "PCXMl4MxOzh0"
      },
      "source": [
        "df = pd.read_csv('https://storage.googleapis.com/cmip6/cmip6-zarr-consolidated-stores.csv', low_memory=False)"
      ],
      "execution_count": null,
      "outputs": []
    },
    {
      "cell_type": "markdown",
      "metadata": {
        "id": "ZBx9e0yoOzh4"
      },
      "source": [
        "Variables and experiments in database"
      ]
    },
    {
      "cell_type": "code",
      "metadata": {
        "id": "63MbtACruzl0"
      },
      "source": [
        "vars=df.variable_id.unique()\n",
        "vars.sort()\n",
        "expts_full=df.experiment_id.unique()\n",
        "expts_full.sort()\n",
        "\n",
        "flds_full=df.variable_id.unique()\n",
        "flds_full.sort()"
      ],
      "execution_count": null,
      "outputs": []
    },
    {
      "cell_type": "code",
      "source": [
        "df[(df[\"experiment_id\"] == 'ssp585-bgc') & (df[\"variable_id\"]=='fgco2')]"
      ],
      "metadata": {
        "colab": {
          "base_uri": "https://localhost:8080/",
          "height": 175
        },
        "id": "KycTNEOHDE48",
        "outputId": "0bd24f5d-840e-4c8c-9c63-ddf0fe756c53"
      },
      "execution_count": null,
      "outputs": [
        {
          "output_type": "execute_result",
          "data": {
            "text/plain": [
              "       activity_id institution_id      source_id experiment_id member_id  \\\n",
              "241987       C4MIP   CNRM-CERFACS    CNRM-ESM2-1    ssp585-bgc  r1i1p1f2   \n",
              "409547       C4MIP          MIROC     MIROC-ES2L    ssp585-bgc  r1i1p1f2   \n",
              "464151       C4MIP          MIROC     MIROC-ES2L    ssp585-bgc  r1i1p1f2   \n",
              "497096       C4MIP          CSIRO  ACCESS-ESM1-5    ssp585-bgc  r1i1p1f1   \n",
              "\n",
              "       table_id variable_id grid_label  \\\n",
              "241987     Omon       fgco2         gn   \n",
              "409547     Omon       fgco2         gn   \n",
              "464151     Omon       fgco2        gr1   \n",
              "497096     Omon       fgco2         gn   \n",
              "\n",
              "                                                   zstore  dcpp_init_year  \\\n",
              "241987  gs://cmip6/CMIP6/C4MIP/CNRM-CERFACS/CNRM-ESM2-...             NaN   \n",
              "409547  gs://cmip6/CMIP6/C4MIP/MIROC/MIROC-ES2L/ssp585...             NaN   \n",
              "464151  gs://cmip6/CMIP6/C4MIP/MIROC/MIROC-ES2L/ssp585...             NaN   \n",
              "497096  gs://cmip6/CMIP6/C4MIP/CSIRO/ACCESS-ESM1-5/ssp...             NaN   \n",
              "\n",
              "         version  \n",
              "241987  20190711  \n",
              "409547  20200124  \n",
              "464151  20200731  \n",
              "497096  20201016  "
            ],
            "text/html": [
              "\n",
              "  <div id=\"df-64b8c933-af99-4133-86e0-41e898be25a4\">\n",
              "    <div class=\"colab-df-container\">\n",
              "      <div>\n",
              "<style scoped>\n",
              "    .dataframe tbody tr th:only-of-type {\n",
              "        vertical-align: middle;\n",
              "    }\n",
              "\n",
              "    .dataframe tbody tr th {\n",
              "        vertical-align: top;\n",
              "    }\n",
              "\n",
              "    .dataframe thead th {\n",
              "        text-align: right;\n",
              "    }\n",
              "</style>\n",
              "<table border=\"1\" class=\"dataframe\">\n",
              "  <thead>\n",
              "    <tr style=\"text-align: right;\">\n",
              "      <th></th>\n",
              "      <th>activity_id</th>\n",
              "      <th>institution_id</th>\n",
              "      <th>source_id</th>\n",
              "      <th>experiment_id</th>\n",
              "      <th>member_id</th>\n",
              "      <th>table_id</th>\n",
              "      <th>variable_id</th>\n",
              "      <th>grid_label</th>\n",
              "      <th>zstore</th>\n",
              "      <th>dcpp_init_year</th>\n",
              "      <th>version</th>\n",
              "    </tr>\n",
              "  </thead>\n",
              "  <tbody>\n",
              "    <tr>\n",
              "      <th>241987</th>\n",
              "      <td>C4MIP</td>\n",
              "      <td>CNRM-CERFACS</td>\n",
              "      <td>CNRM-ESM2-1</td>\n",
              "      <td>ssp585-bgc</td>\n",
              "      <td>r1i1p1f2</td>\n",
              "      <td>Omon</td>\n",
              "      <td>fgco2</td>\n",
              "      <td>gn</td>\n",
              "      <td>gs://cmip6/CMIP6/C4MIP/CNRM-CERFACS/CNRM-ESM2-...</td>\n",
              "      <td>NaN</td>\n",
              "      <td>20190711</td>\n",
              "    </tr>\n",
              "    <tr>\n",
              "      <th>409547</th>\n",
              "      <td>C4MIP</td>\n",
              "      <td>MIROC</td>\n",
              "      <td>MIROC-ES2L</td>\n",
              "      <td>ssp585-bgc</td>\n",
              "      <td>r1i1p1f2</td>\n",
              "      <td>Omon</td>\n",
              "      <td>fgco2</td>\n",
              "      <td>gn</td>\n",
              "      <td>gs://cmip6/CMIP6/C4MIP/MIROC/MIROC-ES2L/ssp585...</td>\n",
              "      <td>NaN</td>\n",
              "      <td>20200124</td>\n",
              "    </tr>\n",
              "    <tr>\n",
              "      <th>464151</th>\n",
              "      <td>C4MIP</td>\n",
              "      <td>MIROC</td>\n",
              "      <td>MIROC-ES2L</td>\n",
              "      <td>ssp585-bgc</td>\n",
              "      <td>r1i1p1f2</td>\n",
              "      <td>Omon</td>\n",
              "      <td>fgco2</td>\n",
              "      <td>gr1</td>\n",
              "      <td>gs://cmip6/CMIP6/C4MIP/MIROC/MIROC-ES2L/ssp585...</td>\n",
              "      <td>NaN</td>\n",
              "      <td>20200731</td>\n",
              "    </tr>\n",
              "    <tr>\n",
              "      <th>497096</th>\n",
              "      <td>C4MIP</td>\n",
              "      <td>CSIRO</td>\n",
              "      <td>ACCESS-ESM1-5</td>\n",
              "      <td>ssp585-bgc</td>\n",
              "      <td>r1i1p1f1</td>\n",
              "      <td>Omon</td>\n",
              "      <td>fgco2</td>\n",
              "      <td>gn</td>\n",
              "      <td>gs://cmip6/CMIP6/C4MIP/CSIRO/ACCESS-ESM1-5/ssp...</td>\n",
              "      <td>NaN</td>\n",
              "      <td>20201016</td>\n",
              "    </tr>\n",
              "  </tbody>\n",
              "</table>\n",
              "</div>\n",
              "      <button class=\"colab-df-convert\" onclick=\"convertToInteractive('df-64b8c933-af99-4133-86e0-41e898be25a4')\"\n",
              "              title=\"Convert this dataframe to an interactive table.\"\n",
              "              style=\"display:none;\">\n",
              "        \n",
              "  <svg xmlns=\"http://www.w3.org/2000/svg\" height=\"24px\"viewBox=\"0 0 24 24\"\n",
              "       width=\"24px\">\n",
              "    <path d=\"M0 0h24v24H0V0z\" fill=\"none\"/>\n",
              "    <path d=\"M18.56 5.44l.94 2.06.94-2.06 2.06-.94-2.06-.94-.94-2.06-.94 2.06-2.06.94zm-11 1L8.5 8.5l.94-2.06 2.06-.94-2.06-.94L8.5 2.5l-.94 2.06-2.06.94zm10 10l.94 2.06.94-2.06 2.06-.94-2.06-.94-.94-2.06-.94 2.06-2.06.94z\"/><path d=\"M17.41 7.96l-1.37-1.37c-.4-.4-.92-.59-1.43-.59-.52 0-1.04.2-1.43.59L10.3 9.45l-7.72 7.72c-.78.78-.78 2.05 0 2.83L4 21.41c.39.39.9.59 1.41.59.51 0 1.02-.2 1.41-.59l7.78-7.78 2.81-2.81c.8-.78.8-2.07 0-2.86zM5.41 20L4 18.59l7.72-7.72 1.47 1.35L5.41 20z\"/>\n",
              "  </svg>\n",
              "      </button>\n",
              "      \n",
              "  <style>\n",
              "    .colab-df-container {\n",
              "      display:flex;\n",
              "      flex-wrap:wrap;\n",
              "      gap: 12px;\n",
              "    }\n",
              "\n",
              "    .colab-df-convert {\n",
              "      background-color: #E8F0FE;\n",
              "      border: none;\n",
              "      border-radius: 50%;\n",
              "      cursor: pointer;\n",
              "      display: none;\n",
              "      fill: #1967D2;\n",
              "      height: 32px;\n",
              "      padding: 0 0 0 0;\n",
              "      width: 32px;\n",
              "    }\n",
              "\n",
              "    .colab-df-convert:hover {\n",
              "      background-color: #E2EBFA;\n",
              "      box-shadow: 0px 1px 2px rgba(60, 64, 67, 0.3), 0px 1px 3px 1px rgba(60, 64, 67, 0.15);\n",
              "      fill: #174EA6;\n",
              "    }\n",
              "\n",
              "    [theme=dark] .colab-df-convert {\n",
              "      background-color: #3B4455;\n",
              "      fill: #D2E3FC;\n",
              "    }\n",
              "\n",
              "    [theme=dark] .colab-df-convert:hover {\n",
              "      background-color: #434B5C;\n",
              "      box-shadow: 0px 1px 3px 1px rgba(0, 0, 0, 0.15);\n",
              "      filter: drop-shadow(0px 1px 2px rgba(0, 0, 0, 0.3));\n",
              "      fill: #FFFFFF;\n",
              "    }\n",
              "  </style>\n",
              "\n",
              "      <script>\n",
              "        const buttonEl =\n",
              "          document.querySelector('#df-64b8c933-af99-4133-86e0-41e898be25a4 button.colab-df-convert');\n",
              "        buttonEl.style.display =\n",
              "          google.colab.kernel.accessAllowed ? 'block' : 'none';\n",
              "\n",
              "        async function convertToInteractive(key) {\n",
              "          const element = document.querySelector('#df-64b8c933-af99-4133-86e0-41e898be25a4');\n",
              "          const dataTable =\n",
              "            await google.colab.kernel.invokeFunction('convertToInteractive',\n",
              "                                                     [key], {});\n",
              "          if (!dataTable) return;\n",
              "\n",
              "          const docLinkHtml = 'Like what you see? Visit the ' +\n",
              "            '<a target=\"_blank\" href=https://colab.research.google.com/notebooks/data_table.ipynb>data table notebook</a>'\n",
              "            + ' to learn more about interactive tables.';\n",
              "          element.innerHTML = '';\n",
              "          dataTable['output_type'] = 'display_data';\n",
              "          await google.colab.output.renderOutput(dataTable, element);\n",
              "          const docLink = document.createElement('div');\n",
              "          docLink.innerHTML = docLinkHtml;\n",
              "          element.appendChild(docLink);\n",
              "        }\n",
              "      </script>\n",
              "    </div>\n",
              "  </div>\n",
              "  "
            ]
          },
          "metadata": {},
          "execution_count": 28
        }
      ]
    },
    {
      "cell_type": "code",
      "source": [
        "expts_full.filter"
      ],
      "metadata": {
        "colab": {
          "base_uri": "https://localhost:8080/"
        },
        "id": "OI1SjkQ8Bm71",
        "outputId": "bc8fe9c8-f23a-405a-f193-47e0b065ae5d"
      },
      "execution_count": null,
      "outputs": [
        {
          "output_type": "execute_result",
          "data": {
            "text/plain": [
              "array(['1pctCO2', '1pctCO2-4xext', '1pctCO2-bgc', '1pctCO2-cdr',\n",
              "       '1pctCO2-rad', '1pctCO2to4x-withism', 'abrupt-0p5xCO2',\n",
              "       'abrupt-2xCO2', 'abrupt-4xCO2', 'abrupt-solm4p', 'abrupt-solp4p',\n",
              "       'amip', 'amip-4xCO2', 'amip-future4K', 'amip-hist', 'amip-lwoff',\n",
              "       'amip-m4K', 'amip-p4K', 'amip-p4K-lwoff', 'aqua-4xCO2',\n",
              "       'aqua-control', 'aqua-control-lwoff', 'aqua-p4K', 'aqua-p4K-lwoff',\n",
              "       'control-1950', 'dcppA-assim', 'dcppA-hindcast',\n",
              "       'dcppC-amv-ExTrop-neg', 'dcppC-amv-ExTrop-pos',\n",
              "       'dcppC-amv-Trop-neg', 'dcppC-amv-Trop-pos', 'dcppC-amv-neg',\n",
              "       'dcppC-amv-pos', 'dcppC-atl-control', 'dcppC-atl-pacemaker',\n",
              "       'dcppC-hindcast-noAgung', 'dcppC-hindcast-noElChichon',\n",
              "       'dcppC-hindcast-noPinatubo', 'dcppC-ipv-NexTrop-neg',\n",
              "       'dcppC-ipv-NexTrop-pos', 'dcppC-ipv-neg', 'dcppC-ipv-pos',\n",
              "       'dcppC-pac-control', 'dcppC-pac-pacemaker', 'deforest-globe',\n",
              "       'esm-hist', 'esm-pi-CO2pulse', 'esm-pi-cdr-pulse', 'esm-piControl',\n",
              "       'esm-piControl-spinup', 'esm-ssp585', 'esm-ssp585-ssp126Lu',\n",
              "       'faf-all', 'faf-heat', 'faf-heat-NA0pct', 'faf-heat-NA50pct',\n",
              "       'faf-passiveheat', 'faf-stress', 'faf-water', 'futSST-pdSIC',\n",
              "       'highresSST-future', 'highresSST-present', 'hist-1950',\n",
              "       'hist-1950HC', 'hist-CO2', 'hist-GHG', 'hist-GHG-cmip5',\n",
              "       'hist-aer', 'hist-aer-cmip5', 'hist-bgc', 'hist-nat',\n",
              "       'hist-nat-cmip5', 'hist-noLu', 'hist-piAer', 'hist-piNTCF',\n",
              "       'hist-resIPO', 'hist-sol', 'hist-stratO3', 'hist-totalO3',\n",
              "       'hist-volc', 'histSST', 'histSST-1950HC', 'histSST-piAer',\n",
              "       'histSST-piCH4', 'histSST-piNTCF', 'histSST-piO3', 'historical',\n",
              "       'historical-cmip5', 'historical-ext', 'land-hist',\n",
              "       'land-hist-altStartYear', 'land-noLu', 'lgm', 'lig127k',\n",
              "       'midHolocene', 'omip1', 'pa-futAntSIC', 'pa-futArcSIC', 'pa-pdSIC',\n",
              "       'pa-piAntSIC', 'pa-piArcSIC', 'past1000', 'pdSST-futAntSIC',\n",
              "       'pdSST-futArcSIC', 'pdSST-futArcSICSIT', 'pdSST-futBKSeasSIC',\n",
              "       'pdSST-futOkhotskSIC', 'pdSST-pdSIC', 'pdSST-pdSICSIT',\n",
              "       'pdSST-piAntSIC', 'pdSST-piArcSIC', 'piClim-2xDMS', 'piClim-2xNOx',\n",
              "       'piClim-2xVOC', 'piClim-2xdust', 'piClim-2xfire', 'piClim-2xss',\n",
              "       'piClim-4xCO2', 'piClim-BC', 'piClim-CH4', 'piClim-HC',\n",
              "       'piClim-N2O', 'piClim-NOx', 'piClim-NTCF', 'piClim-O3',\n",
              "       'piClim-OC', 'piClim-SO2', 'piClim-VOC', 'piClim-aer',\n",
              "       'piClim-anthro', 'piClim-control', 'piClim-ghg', 'piClim-histaer',\n",
              "       'piClim-histall', 'piClim-histghg', 'piClim-histnat', 'piClim-lu',\n",
              "       'piControl', 'piControl-cmip5', 'piControl-spinup', 'piSST-pdSIC',\n",
              "       'piSST-piSIC', 'rcp26-cmip5', 'rcp45-cmip5', 'rcp85-cmip5',\n",
              "       'ssp119', 'ssp126', 'ssp126-ssp370Lu', 'ssp245', 'ssp245-GHG',\n",
              "       'ssp245-aer', 'ssp245-cov-fossil', 'ssp245-cov-modgreen',\n",
              "       'ssp245-cov-strgreen', 'ssp245-covid', 'ssp245-nat',\n",
              "       'ssp245-stratO3', 'ssp370', 'ssp370-lowNTCF', 'ssp370-ssp126Lu',\n",
              "       'ssp370SST', 'ssp370SST-lowCH4', 'ssp370SST-lowNTCF',\n",
              "       'ssp370SST-ssp126Lu', 'ssp370pdSST', 'ssp434', 'ssp460',\n",
              "       'ssp534-over', 'ssp585', 'ssp585-bgc'], dtype=object)"
            ]
          },
          "metadata": {},
          "execution_count": 11
        }
      ]
    },
    {
      "cell_type": "markdown",
      "metadata": {
        "id": "T0VMdjW1iDci"
      },
      "source": [
        "Make dataframe for each experiment type and each field"
      ]
    },
    {
      "cell_type": "code",
      "metadata": {
        "id": "7CtTfLX4l55-"
      },
      "source": [
        "df_all1=[]\n",
        "for i, row in enumerate(expts):\n",
        "  df_ta1=[]\n",
        "  for j,fld in enumerate(flds):\n",
        "    tmp = df.query(\"activity_id=='\"+dbe[i]+\"' & table_id == 'Amon' & variable_id == '\"+fld+\"' & experiment_id == '\"+expts[i]+\"'\")\n",
        "    df_ta1.append(tmp)\n",
        "  df_all1.append(df_ta1)"
      ],
      "execution_count": null,
      "outputs": []
    },
    {
      "cell_type": "markdown",
      "metadata": {
        "id": "DHjMWI1vncVA"
      },
      "source": [
        "Isolate unique models which have completed 4xco2"
      ]
    },
    {
      "cell_type": "code",
      "metadata": {
        "colab": {
          "base_uri": "https://localhost:8080/"
        },
        "id": "Us6_WU0unYZ9",
        "outputId": "bf897ae4-51fe-4265-d3bb-2c4eba2039a6"
      },
      "source": [
        "mdls1=df_all1[0][0].source_id.unique()\n",
        "mdls1.sort()\n",
        "mdls1"
      ],
      "execution_count": null,
      "outputs": [
        {
          "output_type": "execute_result",
          "data": {
            "text/plain": [
              "array(['ACCESS-CM2', 'ACCESS-ESM1-5', 'AWI-CM-1-1-MR', 'BCC-CSM2-MR',\n",
              "       'BCC-ESM1', 'CAMS-CSM1-0', 'CAS-ESM2-0', 'CESM2', 'CESM2-FV2',\n",
              "       'CESM2-WACCM', 'CESM2-WACCM-FV2', 'CIESM', 'CMCC-CM2-SR5',\n",
              "       'CMCC-ESM2', 'CNRM-CM6-1', 'CNRM-CM6-1-HR', 'CNRM-ESM2-1',\n",
              "       'CanESM5', 'CanESM5-CanOE', 'E3SM-1-0', 'EC-Earth3',\n",
              "       'EC-Earth3-AerChem', 'EC-Earth3-Veg', 'FGOALS-f3-L', 'FGOALS-g3',\n",
              "       'FIO-ESM-2-0', 'GFDL-CM4', 'GFDL-ESM4', 'GISS-E2-1-G',\n",
              "       'GISS-E2-1-H', 'GISS-E2-2-G', 'HadGEM3-GC31-LL', 'HadGEM3-GC31-MM',\n",
              "       'IITM-ESM', 'INM-CM4-8', 'INM-CM5-0', 'IPSL-CM6A-LR', 'KACE-1-0-G',\n",
              "       'KIOST-ESM', 'MCM-UA-1-0', 'MIROC-ES2L', 'MIROC6',\n",
              "       'MPI-ESM-1-2-HAM', 'MPI-ESM1-2-HR', 'MPI-ESM1-2-LR', 'MRI-ESM2-0',\n",
              "       'NESM3', 'NorCPM1', 'NorESM2-LM', 'NorESM2-MM', 'SAM0-UNICON',\n",
              "       'TaiESM1', 'UKESM1-0-LL'], dtype=object)"
            ]
          },
          "metadata": {
            "tags": []
          },
          "execution_count": 13
        }
      ]
    },
    {
      "cell_type": "markdown",
      "metadata": {
        "id": "3icBRk1HoVBy"
      },
      "source": [
        "Make some empty dataframes to store concise list"
      ]
    },
    {
      "cell_type": "code",
      "metadata": {
        "id": "ioN3qmZGoSCF"
      },
      "source": [
        "cnames=df_all1[0][0].columns\n",
        "df_all=[]\n",
        "for i, exp in enumerate(expts):\n",
        "  tmp=[]\n",
        "  for j,fld  in enumerate(flds):\n",
        "    tmp.append(pd.DataFrame(columns=cnames))\n",
        "  df_all.append(tmp)"
      ],
      "execution_count": null,
      "outputs": []
    },
    {
      "cell_type": "markdown",
      "metadata": {
        "id": "quwfwHOnnz0O"
      },
      "source": [
        "Now get 1 ensemble member for each model, if it exists, for each experiment.  Only add to dataframe df_ta if we have a full set of experiments"
      ]
    },
    {
      "cell_type": "code",
      "metadata": {
        "id": "dSGZ2KhdSjAK"
      },
      "source": [
        "mdls=[]\n",
        "n=0\n",
        "for j, mdl in enumerate(mdls1):\n",
        "    tmpdf=[]\n",
        "    nruns=[]\n",
        "    for i, ext in enumerate(expts):\n",
        "        #find first variable for expt/model\n",
        "        for j, fld in enumerate(flds):\n",
        "          tmp=df_all1[i][j].query(\"source_id=='\"+mdl+\"'\")\n",
        "          nruns.append(tmp.shape[0])\n",
        "    #is there at least 1 run per experiment,with all fields?\n",
        "    if min(nruns)>=1:\n",
        "      #point to the entry for 1st run, first variable for each expt\n",
        "      for i, ext in enumerate(expts):\n",
        "        mmb=df_all1[i][0]['member_id'].values[0]\n",
        "        for j, fld in enumerate(flds):\n",
        "          tt = df_all1[i][j].query(\"source_id=='\"+mdl+\"' & table_id == 'Amon'\")\n",
        "          df_all[i][j].loc[n]=tt.values[0]\n",
        "      #add model to final list\n",
        "      mdls.append(mdl)\n",
        "      n=n+1\n",
        "    \n",
        "    "
      ],
      "execution_count": null,
      "outputs": []
    },
    {
      "cell_type": "code",
      "metadata": {
        "id": "BKNquVyb0t_5"
      },
      "source": [
        "pickle.dump(mdls, open( \"/content/drive/MyDrive/colab_4xco2/mdls.pkl\", \"wb\" ) )\n"
      ],
      "execution_count": null,
      "outputs": []
    },
    {
      "cell_type": "code",
      "metadata": {
        "colab": {
          "base_uri": "https://localhost:8080/"
        },
        "id": "0JF0kmnB9Oky",
        "outputId": "769e7289-6b63-4417-bc0f-c9d0b3a46fbe"
      },
      "source": [
        "df_all[1][2].loc(1)"
      ],
      "execution_count": null,
      "outputs": [
        {
          "output_type": "execute_result",
          "data": {
            "text/plain": [
              "<pandas.core.indexing._LocIndexer at 0x7fee92a7d770>"
            ]
          },
          "metadata": {
            "tags": []
          },
          "execution_count": 17
        }
      ]
    },
    {
      "cell_type": "markdown",
      "metadata": {
        "id": "ba_I8sSUOzh_"
      },
      "source": [
        "## Load Data\n",
        "\n",
        "Load Google file system\n"
      ]
    },
    {
      "cell_type": "code",
      "metadata": {
        "id": "Pgaz1EanjJ9Z"
      },
      "source": [
        "# load Google cloud storage\n",
        "gcs = gcsfs.GCSFileSystem(token='anon')"
      ],
      "execution_count": null,
      "outputs": []
    },
    {
      "cell_type": "markdown",
      "metadata": {
        "id": "t4wZnv7uLSin"
      },
      "source": [
        "Loop through zstore links, use zarr to open\n"
      ]
    },
    {
      "cell_type": "code",
      "metadata": {
        "id": "MkCBd3z2-mCX"
      },
      "source": [
        "nm=len(mdls)\n",
        "nf=len(flds)\n",
        "ne=len(expts)"
      ],
      "execution_count": null,
      "outputs": []
    },
    {
      "cell_type": "code",
      "metadata": {
        "colab": {
          "base_uri": "https://localhost:8080/",
          "height": 435
        },
        "id": "zGB4t5rGLmqf",
        "outputId": "2ae7edb7-f861-416b-ed38-7564da421dfa"
      },
      "source": [
        "\n",
        "if readdata:\n",
        "  out = display(progress(0, 1), display_id=True)\n",
        "  dsall=[]\n",
        "  for i,df_ta in enumerate(df_all):\n",
        "    dsm=[]\n",
        "    for j,df in enumerate(df_ta):\n",
        "      ds=[]\n",
        "      print(expts[i]+','+flds[j])\n",
        "      for index, item in enumerate(df.zstore.values, start=0):\n",
        "        mapper=gcs.get_mapper(item)\n",
        "        ds.append(xr.open_zarr(mapper, decode_times=False))\n",
        "        out.update(progress(index+j*nm+i*nm*nf, ne*nm*nf))\n",
        "      dsm.append(ds)\n",
        "    dsall.append(dsm)  "
      ],
      "execution_count": null,
      "outputs": [
        {
          "output_type": "display_data",
          "data": {
            "text/html": [
              "\n",
              "        <progress\n",
              "            value='815'\n",
              "            max='816',\n",
              "            style='width: 100%'\n",
              "        >\n",
              "            815\n",
              "        </progress>\n",
              "    "
            ],
            "text/plain": [
              "<IPython.core.display.HTML object>"
            ]
          },
          "metadata": {
            "tags": []
          }
        },
        {
          "output_type": "stream",
          "text": [
            "1pctCO2,tas\n",
            "1pctCO2,rsut\n",
            "1pctCO2,rlut\n",
            "1pctCO2,rsdt\n",
            "abrupt-4xCO2,tas\n",
            "abrupt-4xCO2,rsut\n",
            "abrupt-4xCO2,rlut\n",
            "abrupt-4xCO2,rsdt\n",
            "piControl,tas\n",
            "piControl,rsut\n",
            "piControl,rlut\n",
            "piControl,rsdt\n",
            "historical,tas\n",
            "historical,rsut\n",
            "historical,rlut\n",
            "historical,rsdt\n",
            "ssp126,tas\n",
            "ssp126,rsut\n",
            "ssp126,rlut\n",
            "ssp126,rsdt\n",
            "ssp585,tas\n",
            "ssp585,rsut\n",
            "ssp585,rlut\n",
            "ssp585,rsdt\n"
          ],
          "name": "stdout"
        }
      ]
    },
    {
      "cell_type": "markdown",
      "metadata": {
        "id": "FJa7zj5MHbDX"
      },
      "source": [
        "concatenated dataarrays for ts, global mean\n"
      ]
    },
    {
      "cell_type": "code",
      "metadata": {
        "colab": {
          "base_uri": "https://localhost:8080/",
          "height": 736
        },
        "id": "nWZFFT8fNoVB",
        "outputId": "93f83652-8ad9-4bd8-e01f-851883b0441e"
      },
      "source": [
        " \n",
        "if readdata:\n",
        "  dall=[]\n",
        "  out = display(progress(0, 1), display_id=True)\n",
        "  for i,ds in enumerate(dsall,start=0):\n",
        "    dexp=[]\n",
        "    for j,dm in enumerate(ds):\n",
        "      print(expts[i]+','+flds[j])\n",
        "      for index, dd in enumerate(dm, start=0):\n",
        "          if 'longitude' in dd.keys():\n",
        "            dd=dd.rename({'longitude': 'lon','latitude': 'lat'})\n",
        "          if 'latitude' in dd.coords:\n",
        "            dd=dd.drop('latitude')  \n",
        "            dd=dd.drop_dims('latitude')\n",
        "       \n",
        "          tmp=dd[flds[j]][:4800,:,:].interp(lon=lon_out,lat=lat_out, kwargs={\"fill_value\": \"extrapolate\"})\n",
        "          if calstrt[i]:\n",
        "            tmp.coords['time']=pd.date_range('1850-01-01', periods=tmp['time'].values.shape[0],freq='M')\n",
        "          if tmp['time'].dtype=='float64' or  tmp['time'].dtype=='int64':\n",
        "            tmp.coords['time']=num2date(tmp['time'].values,tmp['time'].units)\n",
        "#          if 'historical' in expts[i]:\n",
        "##            tmpf=dsall[expts.index('ssp585')][j][index][flds[j]].interp(lon=lon_out,lat=lat_out, kwargs={\"fill_value\": \"extrapolate\"})\n",
        " #           if tmpf['time'].dtype=='float64' or  tmpf['time'].dtype=='int64':\n",
        " ##             tmpf.coords['time']=num2date(tmpf['time'].values,tmpf['time'].units)\n",
        "#            tmp=xr.concat([tmp,tmpf],'time')\n",
        "#            tmp=tmp.where(tmp['time.year'] < 2021, drop=True)\n",
        "#          if 'ssp' in expts[i]:\n",
        "#            tmp=tmp.where(tmp['time.year'] > 2014, drop=True)        \n",
        "          srm=tmp.groupby('time.year').mean('time')\n",
        "          if index==0:\n",
        "            dac=srm\n",
        "          else:\n",
        "            dac=xr.concat([dac,srm],'ens',coords='minimal',compat='override')\n",
        "          out.update(progress(index+j*nm+i*nm*nf, ne*nm*nf))\n",
        "      dexp.append(dac)\n",
        "    dall.append(dexp)"
      ],
      "execution_count": null,
      "outputs": [
        {
          "output_type": "display_data",
          "data": {
            "text/html": [
              "\n",
              "        <progress\n",
              "            value='815'\n",
              "            max='816',\n",
              "            style='width: 100%'\n",
              "        >\n",
              "            815\n",
              "        </progress>\n",
              "    "
            ],
            "text/plain": [
              "<IPython.core.display.HTML object>"
            ]
          },
          "metadata": {
            "tags": []
          }
        },
        {
          "output_type": "stream",
          "text": [
            "1pctCO2,tas\n",
            "1pctCO2,rsut\n"
          ],
          "name": "stdout"
        },
        {
          "output_type": "stream",
          "text": [
            "/usr/local/lib/python3.7/dist-packages/dask/array/core.py:3908: PerformanceWarning: Increasing number of chunks by factor of 14\n",
            "  **blockwise_kwargs,\n"
          ],
          "name": "stderr"
        },
        {
          "output_type": "stream",
          "text": [
            "1pctCO2,rlut\n",
            "1pctCO2,rsdt\n"
          ],
          "name": "stdout"
        },
        {
          "output_type": "stream",
          "text": [
            "/usr/local/lib/python3.7/dist-packages/dask/array/core.py:3908: PerformanceWarning: Increasing number of chunks by factor of 14\n",
            "  **blockwise_kwargs,\n"
          ],
          "name": "stderr"
        },
        {
          "output_type": "stream",
          "text": [
            "abrupt-4xCO2,tas\n",
            "abrupt-4xCO2,rsut\n",
            "abrupt-4xCO2,rlut\n",
            "abrupt-4xCO2,rsdt\n",
            "piControl,tas\n",
            "piControl,rsut\n",
            "piControl,rlut\n",
            "piControl,rsdt\n",
            "historical,tas\n"
          ],
          "name": "stdout"
        },
        {
          "output_type": "stream",
          "text": [
            "/usr/local/lib/python3.7/dist-packages/dask/array/core.py:3908: PerformanceWarning: Increasing number of chunks by factor of 15\n",
            "  **blockwise_kwargs,\n"
          ],
          "name": "stderr"
        },
        {
          "output_type": "stream",
          "text": [
            "historical,rsut\n"
          ],
          "name": "stdout"
        },
        {
          "output_type": "stream",
          "text": [
            "/usr/local/lib/python3.7/dist-packages/dask/array/core.py:3908: PerformanceWarning: Increasing number of chunks by factor of 15\n",
            "  **blockwise_kwargs,\n"
          ],
          "name": "stderr"
        },
        {
          "output_type": "stream",
          "text": [
            "historical,rlut\n"
          ],
          "name": "stdout"
        },
        {
          "output_type": "stream",
          "text": [
            "/usr/local/lib/python3.7/dist-packages/dask/array/core.py:3908: PerformanceWarning: Increasing number of chunks by factor of 15\n",
            "  **blockwise_kwargs,\n"
          ],
          "name": "stderr"
        },
        {
          "output_type": "stream",
          "text": [
            "historical,rsdt\n"
          ],
          "name": "stdout"
        },
        {
          "output_type": "stream",
          "text": [
            "/usr/local/lib/python3.7/dist-packages/dask/array/core.py:3908: PerformanceWarning: Increasing number of chunks by factor of 15\n",
            "  **blockwise_kwargs,\n"
          ],
          "name": "stderr"
        },
        {
          "output_type": "stream",
          "text": [
            "ssp126,tas\n"
          ],
          "name": "stdout"
        },
        {
          "output_type": "stream",
          "text": [
            "/usr/local/lib/python3.7/dist-packages/dask/array/core.py:3908: PerformanceWarning: Increasing number of chunks by factor of 12\n",
            "  **blockwise_kwargs,\n"
          ],
          "name": "stderr"
        },
        {
          "output_type": "stream",
          "text": [
            "ssp126,rsut\n",
            "ssp126,rlut\n",
            "ssp126,rsdt\n",
            "ssp585,tas\n"
          ],
          "name": "stdout"
        },
        {
          "output_type": "stream",
          "text": [
            "/usr/local/lib/python3.7/dist-packages/dask/array/core.py:3908: PerformanceWarning: Increasing number of chunks by factor of 12\n",
            "  **blockwise_kwargs,\n"
          ],
          "name": "stderr"
        },
        {
          "output_type": "stream",
          "text": [
            "ssp585,rsut\n",
            "ssp585,rlut\n"
          ],
          "name": "stdout"
        },
        {
          "output_type": "stream",
          "text": [
            "/usr/local/lib/python3.7/dist-packages/dask/array/core.py:3908: PerformanceWarning: Increasing number of chunks by factor of 29\n",
            "  **blockwise_kwargs,\n"
          ],
          "name": "stderr"
        },
        {
          "output_type": "stream",
          "text": [
            "ssp585,rsdt\n"
          ],
          "name": "stdout"
        }
      ]
    },
    {
      "cell_type": "code",
      "metadata": {
        "id": "KSjQ1sgXcAzo",
        "colab": {
          "base_uri": "https://localhost:8080/",
          "height": 344
        },
        "outputId": "74f5d64e-753f-48cf-84fa-db6c45750ef8"
      },
      "source": [
        "dall[5][0][0]"
      ],
      "execution_count": null,
      "outputs": [
        {
          "output_type": "execute_result",
          "data": {
            "text/html": [
              "<div><svg style=\"position: absolute; width: 0; height: 0; overflow: hidden\">\n",
              "<defs>\n",
              "<symbol id=\"icon-database\" viewBox=\"0 0 32 32\">\n",
              "<path d=\"M16 0c-8.837 0-16 2.239-16 5v4c0 2.761 7.163 5 16 5s16-2.239 16-5v-4c0-2.761-7.163-5-16-5z\"></path>\n",
              "<path d=\"M16 17c-8.837 0-16-2.239-16-5v6c0 2.761 7.163 5 16 5s16-2.239 16-5v-6c0 2.761-7.163 5-16 5z\"></path>\n",
              "<path d=\"M16 26c-8.837 0-16-2.239-16-5v6c0 2.761 7.163 5 16 5s16-2.239 16-5v-6c0 2.761-7.163 5-16 5z\"></path>\n",
              "</symbol>\n",
              "<symbol id=\"icon-file-text2\" viewBox=\"0 0 32 32\">\n",
              "<path d=\"M28.681 7.159c-0.694-0.947-1.662-2.053-2.724-3.116s-2.169-2.030-3.116-2.724c-1.612-1.182-2.393-1.319-2.841-1.319h-15.5c-1.378 0-2.5 1.121-2.5 2.5v27c0 1.378 1.122 2.5 2.5 2.5h23c1.378 0 2.5-1.122 2.5-2.5v-19.5c0-0.448-0.137-1.23-1.319-2.841zM24.543 5.457c0.959 0.959 1.712 1.825 2.268 2.543h-4.811v-4.811c0.718 0.556 1.584 1.309 2.543 2.268zM28 29.5c0 0.271-0.229 0.5-0.5 0.5h-23c-0.271 0-0.5-0.229-0.5-0.5v-27c0-0.271 0.229-0.5 0.5-0.5 0 0 15.499-0 15.5 0v7c0 0.552 0.448 1 1 1h7v19.5z\"></path>\n",
              "<path d=\"M23 26h-14c-0.552 0-1-0.448-1-1s0.448-1 1-1h14c0.552 0 1 0.448 1 1s-0.448 1-1 1z\"></path>\n",
              "<path d=\"M23 22h-14c-0.552 0-1-0.448-1-1s0.448-1 1-1h14c0.552 0 1 0.448 1 1s-0.448 1-1 1z\"></path>\n",
              "<path d=\"M23 18h-14c-0.552 0-1-0.448-1-1s0.448-1 1-1h14c0.552 0 1 0.448 1 1s-0.448 1-1 1z\"></path>\n",
              "</symbol>\n",
              "</defs>\n",
              "</svg>\n",
              "<style>/* CSS stylesheet for displaying xarray objects in jupyterlab.\n",
              " *\n",
              " */\n",
              "\n",
              ":root {\n",
              "  --xr-font-color0: var(--jp-content-font-color0, rgba(0, 0, 0, 1));\n",
              "  --xr-font-color2: var(--jp-content-font-color2, rgba(0, 0, 0, 0.54));\n",
              "  --xr-font-color3: var(--jp-content-font-color3, rgba(0, 0, 0, 0.38));\n",
              "  --xr-border-color: var(--jp-border-color2, #e0e0e0);\n",
              "  --xr-disabled-color: var(--jp-layout-color3, #bdbdbd);\n",
              "  --xr-background-color: var(--jp-layout-color0, white);\n",
              "  --xr-background-color-row-even: var(--jp-layout-color1, white);\n",
              "  --xr-background-color-row-odd: var(--jp-layout-color2, #eeeeee);\n",
              "}\n",
              "\n",
              "html[theme=dark],\n",
              "body.vscode-dark {\n",
              "  --xr-font-color0: rgba(255, 255, 255, 1);\n",
              "  --xr-font-color2: rgba(255, 255, 255, 0.54);\n",
              "  --xr-font-color3: rgba(255, 255, 255, 0.38);\n",
              "  --xr-border-color: #1F1F1F;\n",
              "  --xr-disabled-color: #515151;\n",
              "  --xr-background-color: #111111;\n",
              "  --xr-background-color-row-even: #111111;\n",
              "  --xr-background-color-row-odd: #313131;\n",
              "}\n",
              "\n",
              ".xr-wrap {\n",
              "  display: block;\n",
              "  min-width: 300px;\n",
              "  max-width: 700px;\n",
              "}\n",
              "\n",
              ".xr-text-repr-fallback {\n",
              "  /* fallback to plain text repr when CSS is not injected (untrusted notebook) */\n",
              "  display: none;\n",
              "}\n",
              "\n",
              ".xr-header {\n",
              "  padding-top: 6px;\n",
              "  padding-bottom: 6px;\n",
              "  margin-bottom: 4px;\n",
              "  border-bottom: solid 1px var(--xr-border-color);\n",
              "}\n",
              "\n",
              ".xr-header > div,\n",
              ".xr-header > ul {\n",
              "  display: inline;\n",
              "  margin-top: 0;\n",
              "  margin-bottom: 0;\n",
              "}\n",
              "\n",
              ".xr-obj-type,\n",
              ".xr-array-name {\n",
              "  margin-left: 2px;\n",
              "  margin-right: 10px;\n",
              "}\n",
              "\n",
              ".xr-obj-type {\n",
              "  color: var(--xr-font-color2);\n",
              "}\n",
              "\n",
              ".xr-sections {\n",
              "  padding-left: 0 !important;\n",
              "  display: grid;\n",
              "  grid-template-columns: 150px auto auto 1fr 20px 20px;\n",
              "}\n",
              "\n",
              ".xr-section-item {\n",
              "  display: contents;\n",
              "}\n",
              "\n",
              ".xr-section-item input {\n",
              "  display: none;\n",
              "}\n",
              "\n",
              ".xr-section-item input + label {\n",
              "  color: var(--xr-disabled-color);\n",
              "}\n",
              "\n",
              ".xr-section-item input:enabled + label {\n",
              "  cursor: pointer;\n",
              "  color: var(--xr-font-color2);\n",
              "}\n",
              "\n",
              ".xr-section-item input:enabled + label:hover {\n",
              "  color: var(--xr-font-color0);\n",
              "}\n",
              "\n",
              ".xr-section-summary {\n",
              "  grid-column: 1;\n",
              "  color: var(--xr-font-color2);\n",
              "  font-weight: 500;\n",
              "}\n",
              "\n",
              ".xr-section-summary > span {\n",
              "  display: inline-block;\n",
              "  padding-left: 0.5em;\n",
              "}\n",
              "\n",
              ".xr-section-summary-in:disabled + label {\n",
              "  color: var(--xr-font-color2);\n",
              "}\n",
              "\n",
              ".xr-section-summary-in + label:before {\n",
              "  display: inline-block;\n",
              "  content: '►';\n",
              "  font-size: 11px;\n",
              "  width: 15px;\n",
              "  text-align: center;\n",
              "}\n",
              "\n",
              ".xr-section-summary-in:disabled + label:before {\n",
              "  color: var(--xr-disabled-color);\n",
              "}\n",
              "\n",
              ".xr-section-summary-in:checked + label:before {\n",
              "  content: '▼';\n",
              "}\n",
              "\n",
              ".xr-section-summary-in:checked + label > span {\n",
              "  display: none;\n",
              "}\n",
              "\n",
              ".xr-section-summary,\n",
              ".xr-section-inline-details {\n",
              "  padding-top: 4px;\n",
              "  padding-bottom: 4px;\n",
              "}\n",
              "\n",
              ".xr-section-inline-details {\n",
              "  grid-column: 2 / -1;\n",
              "}\n",
              "\n",
              ".xr-section-details {\n",
              "  display: none;\n",
              "  grid-column: 1 / -1;\n",
              "  margin-bottom: 5px;\n",
              "}\n",
              "\n",
              ".xr-section-summary-in:checked ~ .xr-section-details {\n",
              "  display: contents;\n",
              "}\n",
              "\n",
              ".xr-array-wrap {\n",
              "  grid-column: 1 / -1;\n",
              "  display: grid;\n",
              "  grid-template-columns: 20px auto;\n",
              "}\n",
              "\n",
              ".xr-array-wrap > label {\n",
              "  grid-column: 1;\n",
              "  vertical-align: top;\n",
              "}\n",
              "\n",
              ".xr-preview {\n",
              "  color: var(--xr-font-color3);\n",
              "}\n",
              "\n",
              ".xr-array-preview,\n",
              ".xr-array-data {\n",
              "  padding: 0 5px !important;\n",
              "  grid-column: 2;\n",
              "}\n",
              "\n",
              ".xr-array-data,\n",
              ".xr-array-in:checked ~ .xr-array-preview {\n",
              "  display: none;\n",
              "}\n",
              "\n",
              ".xr-array-in:checked ~ .xr-array-data,\n",
              ".xr-array-preview {\n",
              "  display: inline-block;\n",
              "}\n",
              "\n",
              ".xr-dim-list {\n",
              "  display: inline-block !important;\n",
              "  list-style: none;\n",
              "  padding: 0 !important;\n",
              "  margin: 0;\n",
              "}\n",
              "\n",
              ".xr-dim-list li {\n",
              "  display: inline-block;\n",
              "  padding: 0;\n",
              "  margin: 0;\n",
              "}\n",
              "\n",
              ".xr-dim-list:before {\n",
              "  content: '(';\n",
              "}\n",
              "\n",
              ".xr-dim-list:after {\n",
              "  content: ')';\n",
              "}\n",
              "\n",
              ".xr-dim-list li:not(:last-child):after {\n",
              "  content: ',';\n",
              "  padding-right: 5px;\n",
              "}\n",
              "\n",
              ".xr-has-index {\n",
              "  font-weight: bold;\n",
              "}\n",
              "\n",
              ".xr-var-list,\n",
              ".xr-var-item {\n",
              "  display: contents;\n",
              "}\n",
              "\n",
              ".xr-var-item > div,\n",
              ".xr-var-item label,\n",
              ".xr-var-item > .xr-var-name span {\n",
              "  background-color: var(--xr-background-color-row-even);\n",
              "  margin-bottom: 0;\n",
              "}\n",
              "\n",
              ".xr-var-item > .xr-var-name:hover span {\n",
              "  padding-right: 5px;\n",
              "}\n",
              "\n",
              ".xr-var-list > li:nth-child(odd) > div,\n",
              ".xr-var-list > li:nth-child(odd) > label,\n",
              ".xr-var-list > li:nth-child(odd) > .xr-var-name span {\n",
              "  background-color: var(--xr-background-color-row-odd);\n",
              "}\n",
              "\n",
              ".xr-var-name {\n",
              "  grid-column: 1;\n",
              "}\n",
              "\n",
              ".xr-var-dims {\n",
              "  grid-column: 2;\n",
              "}\n",
              "\n",
              ".xr-var-dtype {\n",
              "  grid-column: 3;\n",
              "  text-align: right;\n",
              "  color: var(--xr-font-color2);\n",
              "}\n",
              "\n",
              ".xr-var-preview {\n",
              "  grid-column: 4;\n",
              "}\n",
              "\n",
              ".xr-var-name,\n",
              ".xr-var-dims,\n",
              ".xr-var-dtype,\n",
              ".xr-preview,\n",
              ".xr-attrs dt {\n",
              "  white-space: nowrap;\n",
              "  overflow: hidden;\n",
              "  text-overflow: ellipsis;\n",
              "  padding-right: 10px;\n",
              "}\n",
              "\n",
              ".xr-var-name:hover,\n",
              ".xr-var-dims:hover,\n",
              ".xr-var-dtype:hover,\n",
              ".xr-attrs dt:hover {\n",
              "  overflow: visible;\n",
              "  width: auto;\n",
              "  z-index: 1;\n",
              "}\n",
              "\n",
              ".xr-var-attrs,\n",
              ".xr-var-data {\n",
              "  display: none;\n",
              "  background-color: var(--xr-background-color) !important;\n",
              "  padding-bottom: 5px !important;\n",
              "}\n",
              "\n",
              ".xr-var-attrs-in:checked ~ .xr-var-attrs,\n",
              ".xr-var-data-in:checked ~ .xr-var-data {\n",
              "  display: block;\n",
              "}\n",
              "\n",
              ".xr-var-data > table {\n",
              "  float: right;\n",
              "}\n",
              "\n",
              ".xr-var-name span,\n",
              ".xr-var-data,\n",
              ".xr-attrs {\n",
              "  padding-left: 25px !important;\n",
              "}\n",
              "\n",
              ".xr-attrs,\n",
              ".xr-var-attrs,\n",
              ".xr-var-data {\n",
              "  grid-column: 1 / -1;\n",
              "}\n",
              "\n",
              "dl.xr-attrs {\n",
              "  padding: 0;\n",
              "  margin: 0;\n",
              "  display: grid;\n",
              "  grid-template-columns: 125px auto;\n",
              "}\n",
              "\n",
              ".xr-attrs dt,\n",
              ".xr-attrs dd {\n",
              "  padding: 0;\n",
              "  margin: 0;\n",
              "  float: left;\n",
              "  padding-right: 10px;\n",
              "  width: auto;\n",
              "}\n",
              "\n",
              ".xr-attrs dt {\n",
              "  font-weight: normal;\n",
              "  grid-column: 1;\n",
              "}\n",
              "\n",
              ".xr-attrs dt:hover span {\n",
              "  display: inline-block;\n",
              "  background: var(--xr-background-color);\n",
              "  padding-right: 10px;\n",
              "}\n",
              "\n",
              ".xr-attrs dd {\n",
              "  grid-column: 2;\n",
              "  white-space: pre-wrap;\n",
              "  word-break: break-all;\n",
              "}\n",
              "\n",
              ".xr-icon-database,\n",
              ".xr-icon-file-text2 {\n",
              "  display: inline-block;\n",
              "  vertical-align: middle;\n",
              "  width: 1em;\n",
              "  height: 1.5em !important;\n",
              "  stroke-width: 0;\n",
              "  stroke: currentColor;\n",
              "  fill: currentColor;\n",
              "}\n",
              "</style><pre class='xr-text-repr-fallback'>&lt;xarray.DataArray &#x27;tas&#x27; (year: 87, lat: 89, lon: 179)&gt;\n",
              "dask.array&lt;getitem, shape=(87, 89, 179), dtype=float32, chunksize=(1, 89, 179), chunktype=numpy.ndarray&gt;\n",
              "Coordinates:\n",
              "  * year     (year) int64 2014 2015 2016 2017 2018 ... 2096 2097 2098 2099 2100\n",
              "    height   float64 ...\n",
              "  * lon      (lon) int64 1 3 5 7 9 11 13 15 ... 343 345 347 349 351 353 355 357\n",
              "  * lat      (lat) int64 -89 -87 -85 -83 -81 -79 -77 ... 75 77 79 81 83 85 87</pre><div class='xr-wrap' hidden><div class='xr-header'><div class='xr-obj-type'>xarray.DataArray</div><div class='xr-array-name'>'tas'</div><ul class='xr-dim-list'><li><span class='xr-has-index'>year</span>: 87</li><li><span class='xr-has-index'>lat</span>: 89</li><li><span class='xr-has-index'>lon</span>: 179</li></ul></div><ul class='xr-sections'><li class='xr-section-item'><div class='xr-array-wrap'><input id='section-4dc834c2-99cb-4e3d-b0df-226c105a379b' class='xr-array-in' type='checkbox' checked><label for='section-4dc834c2-99cb-4e3d-b0df-226c105a379b' title='Show/hide data repr'><svg class='icon xr-icon-database'><use xlink:href='#icon-database'></use></svg></label><div class='xr-array-preview xr-preview'><span>dask.array&lt;chunksize=(1, 89, 179), meta=np.ndarray&gt;</span></div><div class='xr-array-data'><table>\n",
              "<tr>\n",
              "<td>\n",
              "<table>\n",
              "  <thead>\n",
              "    <tr><td> </td><th> Array </th><th> Chunk </th></tr>\n",
              "  </thead>\n",
              "  <tbody>\n",
              "    <tr><th> Bytes </th><td> 5.54 MB </td> <td> 63.72 kB </td></tr>\n",
              "    <tr><th> Shape </th><td> (87, 89, 179) </td> <td> (1, 89, 179) </td></tr>\n",
              "    <tr><th> Count </th><td> 81536 Tasks </td><td> 87 Chunks </td></tr>\n",
              "    <tr><th> Type </th><td> float32 </td><td> numpy.ndarray </td></tr>\n",
              "  </tbody>\n",
              "</table>\n",
              "</td>\n",
              "<td>\n",
              "<svg width=\"214\" height=\"143\" style=\"stroke:rgb(0,0,0);stroke-width:1\" >\n",
              "\n",
              "  <!-- Horizontal lines -->\n",
              "  <line x1=\"10\" y1=\"0\" x2=\"44\" y2=\"34\" style=\"stroke-width:2\" />\n",
              "  <line x1=\"10\" y1=\"59\" x2=\"44\" y2=\"93\" style=\"stroke-width:2\" />\n",
              "\n",
              "  <!-- Vertical lines -->\n",
              "  <line x1=\"10\" y1=\"0\" x2=\"10\" y2=\"59\" style=\"stroke-width:2\" />\n",
              "  <line x1=\"10\" y1=\"0\" x2=\"10\" y2=\"60\" />\n",
              "  <line x1=\"10\" y1=\"0\" x2=\"10\" y2=\"60\" />\n",
              "  <line x1=\"11\" y1=\"1\" x2=\"11\" y2=\"60\" />\n",
              "  <line x1=\"11\" y1=\"1\" x2=\"11\" y2=\"61\" />\n",
              "  <line x1=\"11\" y1=\"1\" x2=\"11\" y2=\"61\" />\n",
              "  <line x1=\"12\" y1=\"2\" x2=\"12\" y2=\"62\" />\n",
              "  <line x1=\"12\" y1=\"2\" x2=\"12\" y2=\"62\" />\n",
              "  <line x1=\"13\" y1=\"3\" x2=\"13\" y2=\"62\" />\n",
              "  <line x1=\"13\" y1=\"3\" x2=\"13\" y2=\"63\" />\n",
              "  <line x1=\"13\" y1=\"3\" x2=\"13\" y2=\"63\" />\n",
              "  <line x1=\"14\" y1=\"4\" x2=\"14\" y2=\"64\" />\n",
              "  <line x1=\"14\" y1=\"4\" x2=\"14\" y2=\"64\" />\n",
              "  <line x1=\"15\" y1=\"5\" x2=\"15\" y2=\"64\" />\n",
              "  <line x1=\"15\" y1=\"5\" x2=\"15\" y2=\"65\" />\n",
              "  <line x1=\"15\" y1=\"5\" x2=\"15\" y2=\"65\" />\n",
              "  <line x1=\"16\" y1=\"6\" x2=\"16\" y2=\"65\" />\n",
              "  <line x1=\"16\" y1=\"6\" x2=\"16\" y2=\"66\" />\n",
              "  <line x1=\"17\" y1=\"7\" x2=\"17\" y2=\"66\" />\n",
              "  <line x1=\"17\" y1=\"7\" x2=\"17\" y2=\"67\" />\n",
              "  <line x1=\"17\" y1=\"7\" x2=\"17\" y2=\"67\" />\n",
              "  <line x1=\"18\" y1=\"8\" x2=\"18\" y2=\"67\" />\n",
              "  <line x1=\"18\" y1=\"8\" x2=\"18\" y2=\"68\" />\n",
              "  <line x1=\"19\" y1=\"9\" x2=\"19\" y2=\"68\" />\n",
              "  <line x1=\"19\" y1=\"9\" x2=\"19\" y2=\"69\" />\n",
              "  <line x1=\"19\" y1=\"9\" x2=\"19\" y2=\"69\" />\n",
              "  <line x1=\"20\" y1=\"10\" x2=\"20\" y2=\"69\" />\n",
              "  <line x1=\"20\" y1=\"10\" x2=\"20\" y2=\"70\" />\n",
              "  <line x1=\"21\" y1=\"11\" x2=\"21\" y2=\"70\" />\n",
              "  <line x1=\"21\" y1=\"11\" x2=\"21\" y2=\"71\" />\n",
              "  <line x1=\"21\" y1=\"11\" x2=\"21\" y2=\"71\" />\n",
              "  <line x1=\"22\" y1=\"12\" x2=\"22\" y2=\"71\" />\n",
              "  <line x1=\"22\" y1=\"12\" x2=\"22\" y2=\"72\" />\n",
              "  <line x1=\"23\" y1=\"13\" x2=\"23\" y2=\"72\" />\n",
              "  <line x1=\"23\" y1=\"13\" x2=\"23\" y2=\"73\" />\n",
              "  <line x1=\"23\" y1=\"13\" x2=\"23\" y2=\"73\" />\n",
              "  <line x1=\"24\" y1=\"14\" x2=\"24\" y2=\"73\" />\n",
              "  <line x1=\"24\" y1=\"14\" x2=\"24\" y2=\"74\" />\n",
              "  <line x1=\"24\" y1=\"14\" x2=\"24\" y2=\"74\" />\n",
              "  <line x1=\"25\" y1=\"15\" x2=\"25\" y2=\"75\" />\n",
              "  <line x1=\"25\" y1=\"15\" x2=\"25\" y2=\"75\" />\n",
              "  <line x1=\"26\" y1=\"16\" x2=\"26\" y2=\"75\" />\n",
              "  <line x1=\"26\" y1=\"16\" x2=\"26\" y2=\"76\" />\n",
              "  <line x1=\"26\" y1=\"16\" x2=\"26\" y2=\"76\" />\n",
              "  <line x1=\"27\" y1=\"17\" x2=\"27\" y2=\"77\" />\n",
              "  <line x1=\"27\" y1=\"17\" x2=\"27\" y2=\"77\" />\n",
              "  <line x1=\"28\" y1=\"18\" x2=\"28\" y2=\"77\" />\n",
              "  <line x1=\"28\" y1=\"18\" x2=\"28\" y2=\"78\" />\n",
              "  <line x1=\"28\" y1=\"18\" x2=\"28\" y2=\"78\" />\n",
              "  <line x1=\"29\" y1=\"19\" x2=\"29\" y2=\"78\" />\n",
              "  <line x1=\"29\" y1=\"19\" x2=\"29\" y2=\"79\" />\n",
              "  <line x1=\"30\" y1=\"20\" x2=\"30\" y2=\"79\" />\n",
              "  <line x1=\"30\" y1=\"20\" x2=\"30\" y2=\"80\" />\n",
              "  <line x1=\"30\" y1=\"20\" x2=\"30\" y2=\"80\" />\n",
              "  <line x1=\"31\" y1=\"21\" x2=\"31\" y2=\"80\" />\n",
              "  <line x1=\"31\" y1=\"21\" x2=\"31\" y2=\"81\" />\n",
              "  <line x1=\"32\" y1=\"22\" x2=\"32\" y2=\"81\" />\n",
              "  <line x1=\"32\" y1=\"22\" x2=\"32\" y2=\"82\" />\n",
              "  <line x1=\"32\" y1=\"22\" x2=\"32\" y2=\"82\" />\n",
              "  <line x1=\"33\" y1=\"23\" x2=\"33\" y2=\"82\" />\n",
              "  <line x1=\"33\" y1=\"23\" x2=\"33\" y2=\"83\" />\n",
              "  <line x1=\"34\" y1=\"24\" x2=\"34\" y2=\"83\" />\n",
              "  <line x1=\"34\" y1=\"24\" x2=\"34\" y2=\"84\" />\n",
              "  <line x1=\"34\" y1=\"24\" x2=\"34\" y2=\"84\" />\n",
              "  <line x1=\"35\" y1=\"25\" x2=\"35\" y2=\"84\" />\n",
              "  <line x1=\"35\" y1=\"25\" x2=\"35\" y2=\"85\" />\n",
              "  <line x1=\"36\" y1=\"26\" x2=\"36\" y2=\"85\" />\n",
              "  <line x1=\"36\" y1=\"26\" x2=\"36\" y2=\"86\" />\n",
              "  <line x1=\"36\" y1=\"26\" x2=\"36\" y2=\"86\" />\n",
              "  <line x1=\"37\" y1=\"27\" x2=\"37\" y2=\"86\" />\n",
              "  <line x1=\"37\" y1=\"27\" x2=\"37\" y2=\"87\" />\n",
              "  <line x1=\"37\" y1=\"27\" x2=\"37\" y2=\"87\" />\n",
              "  <line x1=\"38\" y1=\"28\" x2=\"38\" y2=\"88\" />\n",
              "  <line x1=\"38\" y1=\"28\" x2=\"38\" y2=\"88\" />\n",
              "  <line x1=\"39\" y1=\"29\" x2=\"39\" y2=\"88\" />\n",
              "  <line x1=\"39\" y1=\"29\" x2=\"39\" y2=\"89\" />\n",
              "  <line x1=\"39\" y1=\"29\" x2=\"39\" y2=\"89\" />\n",
              "  <line x1=\"40\" y1=\"30\" x2=\"40\" y2=\"90\" />\n",
              "  <line x1=\"40\" y1=\"30\" x2=\"40\" y2=\"90\" />\n",
              "  <line x1=\"41\" y1=\"31\" x2=\"41\" y2=\"90\" />\n",
              "  <line x1=\"41\" y1=\"31\" x2=\"41\" y2=\"91\" />\n",
              "  <line x1=\"41\" y1=\"31\" x2=\"41\" y2=\"91\" />\n",
              "  <line x1=\"42\" y1=\"32\" x2=\"42\" y2=\"92\" />\n",
              "  <line x1=\"42\" y1=\"32\" x2=\"42\" y2=\"92\" />\n",
              "  <line x1=\"43\" y1=\"33\" x2=\"43\" y2=\"92\" />\n",
              "  <line x1=\"43\" y1=\"33\" x2=\"43\" y2=\"93\" />\n",
              "  <line x1=\"43\" y1=\"33\" x2=\"43\" y2=\"93\" />\n",
              "  <line x1=\"44\" y1=\"34\" x2=\"44\" y2=\"93\" style=\"stroke-width:2\" />\n",
              "\n",
              "  <!-- Colored Rectangle -->\n",
              "  <polygon points=\"10.000000,0.000000 44.308248,34.308248 44.308248,93.973053 10.000000,59.664804\" style=\"fill:#ECB172A0;stroke-width:0\"/>\n",
              "\n",
              "  <!-- Horizontal lines -->\n",
              "  <line x1=\"10\" y1=\"0\" x2=\"130\" y2=\"0\" style=\"stroke-width:2\" />\n",
              "  <line x1=\"10\" y1=\"0\" x2=\"130\" y2=\"0\" />\n",
              "  <line x1=\"10\" y1=\"0\" x2=\"130\" y2=\"0\" />\n",
              "  <line x1=\"11\" y1=\"1\" x2=\"131\" y2=\"1\" />\n",
              "  <line x1=\"11\" y1=\"1\" x2=\"131\" y2=\"1\" />\n",
              "  <line x1=\"11\" y1=\"1\" x2=\"131\" y2=\"1\" />\n",
              "  <line x1=\"12\" y1=\"2\" x2=\"132\" y2=\"2\" />\n",
              "  <line x1=\"12\" y1=\"2\" x2=\"132\" y2=\"2\" />\n",
              "  <line x1=\"13\" y1=\"3\" x2=\"133\" y2=\"3\" />\n",
              "  <line x1=\"13\" y1=\"3\" x2=\"133\" y2=\"3\" />\n",
              "  <line x1=\"13\" y1=\"3\" x2=\"133\" y2=\"3\" />\n",
              "  <line x1=\"14\" y1=\"4\" x2=\"134\" y2=\"4\" />\n",
              "  <line x1=\"14\" y1=\"4\" x2=\"134\" y2=\"4\" />\n",
              "  <line x1=\"15\" y1=\"5\" x2=\"135\" y2=\"5\" />\n",
              "  <line x1=\"15\" y1=\"5\" x2=\"135\" y2=\"5\" />\n",
              "  <line x1=\"15\" y1=\"5\" x2=\"135\" y2=\"5\" />\n",
              "  <line x1=\"16\" y1=\"6\" x2=\"136\" y2=\"6\" />\n",
              "  <line x1=\"16\" y1=\"6\" x2=\"136\" y2=\"6\" />\n",
              "  <line x1=\"17\" y1=\"7\" x2=\"137\" y2=\"7\" />\n",
              "  <line x1=\"17\" y1=\"7\" x2=\"137\" y2=\"7\" />\n",
              "  <line x1=\"17\" y1=\"7\" x2=\"137\" y2=\"7\" />\n",
              "  <line x1=\"18\" y1=\"8\" x2=\"138\" y2=\"8\" />\n",
              "  <line x1=\"18\" y1=\"8\" x2=\"138\" y2=\"8\" />\n",
              "  <line x1=\"19\" y1=\"9\" x2=\"139\" y2=\"9\" />\n",
              "  <line x1=\"19\" y1=\"9\" x2=\"139\" y2=\"9\" />\n",
              "  <line x1=\"19\" y1=\"9\" x2=\"139\" y2=\"9\" />\n",
              "  <line x1=\"20\" y1=\"10\" x2=\"140\" y2=\"10\" />\n",
              "  <line x1=\"20\" y1=\"10\" x2=\"140\" y2=\"10\" />\n",
              "  <line x1=\"21\" y1=\"11\" x2=\"141\" y2=\"11\" />\n",
              "  <line x1=\"21\" y1=\"11\" x2=\"141\" y2=\"11\" />\n",
              "  <line x1=\"21\" y1=\"11\" x2=\"141\" y2=\"11\" />\n",
              "  <line x1=\"22\" y1=\"12\" x2=\"142\" y2=\"12\" />\n",
              "  <line x1=\"22\" y1=\"12\" x2=\"142\" y2=\"12\" />\n",
              "  <line x1=\"23\" y1=\"13\" x2=\"143\" y2=\"13\" />\n",
              "  <line x1=\"23\" y1=\"13\" x2=\"143\" y2=\"13\" />\n",
              "  <line x1=\"23\" y1=\"13\" x2=\"143\" y2=\"13\" />\n",
              "  <line x1=\"24\" y1=\"14\" x2=\"144\" y2=\"14\" />\n",
              "  <line x1=\"24\" y1=\"14\" x2=\"144\" y2=\"14\" />\n",
              "  <line x1=\"24\" y1=\"14\" x2=\"144\" y2=\"14\" />\n",
              "  <line x1=\"25\" y1=\"15\" x2=\"145\" y2=\"15\" />\n",
              "  <line x1=\"25\" y1=\"15\" x2=\"145\" y2=\"15\" />\n",
              "  <line x1=\"26\" y1=\"16\" x2=\"146\" y2=\"16\" />\n",
              "  <line x1=\"26\" y1=\"16\" x2=\"146\" y2=\"16\" />\n",
              "  <line x1=\"26\" y1=\"16\" x2=\"146\" y2=\"16\" />\n",
              "  <line x1=\"27\" y1=\"17\" x2=\"147\" y2=\"17\" />\n",
              "  <line x1=\"27\" y1=\"17\" x2=\"147\" y2=\"17\" />\n",
              "  <line x1=\"28\" y1=\"18\" x2=\"148\" y2=\"18\" />\n",
              "  <line x1=\"28\" y1=\"18\" x2=\"148\" y2=\"18\" />\n",
              "  <line x1=\"28\" y1=\"18\" x2=\"148\" y2=\"18\" />\n",
              "  <line x1=\"29\" y1=\"19\" x2=\"149\" y2=\"19\" />\n",
              "  <line x1=\"29\" y1=\"19\" x2=\"149\" y2=\"19\" />\n",
              "  <line x1=\"30\" y1=\"20\" x2=\"150\" y2=\"20\" />\n",
              "  <line x1=\"30\" y1=\"20\" x2=\"150\" y2=\"20\" />\n",
              "  <line x1=\"30\" y1=\"20\" x2=\"150\" y2=\"20\" />\n",
              "  <line x1=\"31\" y1=\"21\" x2=\"151\" y2=\"21\" />\n",
              "  <line x1=\"31\" y1=\"21\" x2=\"151\" y2=\"21\" />\n",
              "  <line x1=\"32\" y1=\"22\" x2=\"152\" y2=\"22\" />\n",
              "  <line x1=\"32\" y1=\"22\" x2=\"152\" y2=\"22\" />\n",
              "  <line x1=\"32\" y1=\"22\" x2=\"152\" y2=\"22\" />\n",
              "  <line x1=\"33\" y1=\"23\" x2=\"153\" y2=\"23\" />\n",
              "  <line x1=\"33\" y1=\"23\" x2=\"153\" y2=\"23\" />\n",
              "  <line x1=\"34\" y1=\"24\" x2=\"154\" y2=\"24\" />\n",
              "  <line x1=\"34\" y1=\"24\" x2=\"154\" y2=\"24\" />\n",
              "  <line x1=\"34\" y1=\"24\" x2=\"154\" y2=\"24\" />\n",
              "  <line x1=\"35\" y1=\"25\" x2=\"155\" y2=\"25\" />\n",
              "  <line x1=\"35\" y1=\"25\" x2=\"155\" y2=\"25\" />\n",
              "  <line x1=\"36\" y1=\"26\" x2=\"156\" y2=\"26\" />\n",
              "  <line x1=\"36\" y1=\"26\" x2=\"156\" y2=\"26\" />\n",
              "  <line x1=\"36\" y1=\"26\" x2=\"156\" y2=\"26\" />\n",
              "  <line x1=\"37\" y1=\"27\" x2=\"157\" y2=\"27\" />\n",
              "  <line x1=\"37\" y1=\"27\" x2=\"157\" y2=\"27\" />\n",
              "  <line x1=\"37\" y1=\"27\" x2=\"157\" y2=\"27\" />\n",
              "  <line x1=\"38\" y1=\"28\" x2=\"158\" y2=\"28\" />\n",
              "  <line x1=\"38\" y1=\"28\" x2=\"158\" y2=\"28\" />\n",
              "  <line x1=\"39\" y1=\"29\" x2=\"159\" y2=\"29\" />\n",
              "  <line x1=\"39\" y1=\"29\" x2=\"159\" y2=\"29\" />\n",
              "  <line x1=\"39\" y1=\"29\" x2=\"159\" y2=\"29\" />\n",
              "  <line x1=\"40\" y1=\"30\" x2=\"160\" y2=\"30\" />\n",
              "  <line x1=\"40\" y1=\"30\" x2=\"160\" y2=\"30\" />\n",
              "  <line x1=\"41\" y1=\"31\" x2=\"161\" y2=\"31\" />\n",
              "  <line x1=\"41\" y1=\"31\" x2=\"161\" y2=\"31\" />\n",
              "  <line x1=\"41\" y1=\"31\" x2=\"161\" y2=\"31\" />\n",
              "  <line x1=\"42\" y1=\"32\" x2=\"162\" y2=\"32\" />\n",
              "  <line x1=\"42\" y1=\"32\" x2=\"162\" y2=\"32\" />\n",
              "  <line x1=\"43\" y1=\"33\" x2=\"163\" y2=\"33\" />\n",
              "  <line x1=\"43\" y1=\"33\" x2=\"163\" y2=\"33\" />\n",
              "  <line x1=\"43\" y1=\"33\" x2=\"163\" y2=\"33\" />\n",
              "  <line x1=\"44\" y1=\"34\" x2=\"164\" y2=\"34\" style=\"stroke-width:2\" />\n",
              "\n",
              "  <!-- Vertical lines -->\n",
              "  <line x1=\"10\" y1=\"0\" x2=\"44\" y2=\"34\" style=\"stroke-width:2\" />\n",
              "  <line x1=\"130\" y1=\"0\" x2=\"164\" y2=\"34\" style=\"stroke-width:2\" />\n",
              "\n",
              "  <!-- Colored Rectangle -->\n",
              "  <polygon points=\"10.000000,0.000000 130.000000,0.000000 164.308248,34.308248 44.308248,34.308248\" style=\"fill:#ECB172A0;stroke-width:0\"/>\n",
              "\n",
              "  <!-- Horizontal lines -->\n",
              "  <line x1=\"44\" y1=\"34\" x2=\"164\" y2=\"34\" style=\"stroke-width:2\" />\n",
              "  <line x1=\"44\" y1=\"93\" x2=\"164\" y2=\"93\" style=\"stroke-width:2\" />\n",
              "\n",
              "  <!-- Vertical lines -->\n",
              "  <line x1=\"44\" y1=\"34\" x2=\"44\" y2=\"93\" style=\"stroke-width:2\" />\n",
              "  <line x1=\"164\" y1=\"34\" x2=\"164\" y2=\"93\" style=\"stroke-width:2\" />\n",
              "\n",
              "  <!-- Colored Rectangle -->\n",
              "  <polygon points=\"44.308248,34.308248 164.308248,34.308248 164.308248,93.973053 44.308248,93.973053\" style=\"fill:#ECB172A0;stroke-width:0\"/>\n",
              "\n",
              "  <!-- Text -->\n",
              "  <text x=\"104.308248\" y=\"113.973053\" font-size=\"1.0rem\" font-weight=\"100\" text-anchor=\"middle\" >179</text>\n",
              "  <text x=\"184.308248\" y=\"64.140651\" font-size=\"1.0rem\" font-weight=\"100\" text-anchor=\"middle\" transform=\"rotate(0,184.308248,64.140651)\">89</text>\n",
              "  <text x=\"17.154124\" y=\"96.818929\" font-size=\"1.0rem\" font-weight=\"100\" text-anchor=\"middle\" transform=\"rotate(45,17.154124,96.818929)\">87</text>\n",
              "</svg>\n",
              "</td>\n",
              "</tr>\n",
              "</table></div></div></li><li class='xr-section-item'><input id='section-dcc3a75d-6b77-42c2-b133-662680b27b71' class='xr-section-summary-in' type='checkbox'  checked><label for='section-dcc3a75d-6b77-42c2-b133-662680b27b71' class='xr-section-summary' >Coordinates: <span>(4)</span></label><div class='xr-section-inline-details'></div><div class='xr-section-details'><ul class='xr-var-list'><li class='xr-var-item'><div class='xr-var-name'><span class='xr-has-index'>year</span></div><div class='xr-var-dims'>(year)</div><div class='xr-var-dtype'>int64</div><div class='xr-var-preview xr-preview'>2014 2015 2016 ... 2098 2099 2100</div><input id='attrs-e8c91b0b-0095-4eb0-aaab-53611711ba5b' class='xr-var-attrs-in' type='checkbox' disabled><label for='attrs-e8c91b0b-0095-4eb0-aaab-53611711ba5b' title='Show/Hide attributes'><svg class='icon xr-icon-file-text2'><use xlink:href='#icon-file-text2'></use></svg></label><input id='data-b89f7c8a-4bed-4fce-96e2-21adf36778d7' class='xr-var-data-in' type='checkbox'><label for='data-b89f7c8a-4bed-4fce-96e2-21adf36778d7' title='Show/Hide data repr'><svg class='icon xr-icon-database'><use xlink:href='#icon-database'></use></svg></label><div class='xr-var-attrs'><dl class='xr-attrs'></dl></div><div class='xr-var-data'><pre>array([2014, 2015, 2016, 2017, 2018, 2019, 2020, 2021, 2022, 2023, 2024, 2025,\n",
              "       2026, 2027, 2028, 2029, 2030, 2031, 2032, 2033, 2034, 2035, 2036, 2037,\n",
              "       2038, 2039, 2040, 2041, 2042, 2043, 2044, 2045, 2046, 2047, 2048, 2049,\n",
              "       2050, 2051, 2052, 2053, 2054, 2055, 2056, 2057, 2058, 2059, 2060, 2061,\n",
              "       2062, 2063, 2064, 2065, 2066, 2067, 2068, 2069, 2070, 2071, 2072, 2073,\n",
              "       2074, 2075, 2076, 2077, 2078, 2079, 2080, 2081, 2082, 2083, 2084, 2085,\n",
              "       2086, 2087, 2088, 2089, 2090, 2091, 2092, 2093, 2094, 2095, 2096, 2097,\n",
              "       2098, 2099, 2100])</pre></div></li><li class='xr-var-item'><div class='xr-var-name'><span>height</span></div><div class='xr-var-dims'>()</div><div class='xr-var-dtype'>float64</div><div class='xr-var-preview xr-preview'>...</div><input id='attrs-6ec68332-8d1b-433b-a87b-bd50795a124d' class='xr-var-attrs-in' type='checkbox' ><label for='attrs-6ec68332-8d1b-433b-a87b-bd50795a124d' title='Show/Hide attributes'><svg class='icon xr-icon-file-text2'><use xlink:href='#icon-file-text2'></use></svg></label><input id='data-ecf7aa76-3137-4b2a-bdad-2ff277a9cd9b' class='xr-var-data-in' type='checkbox'><label for='data-ecf7aa76-3137-4b2a-bdad-2ff277a9cd9b' title='Show/Hide data repr'><svg class='icon xr-icon-database'><use xlink:href='#icon-database'></use></svg></label><div class='xr-var-attrs'><dl class='xr-attrs'><dt><span>axis :</span></dt><dd>Z</dd><dt><span>long_name :</span></dt><dd>height</dd><dt><span>positive :</span></dt><dd>up</dd><dt><span>standard_name :</span></dt><dd>height</dd><dt><span>units :</span></dt><dd>m</dd></dl></div><div class='xr-var-data'><pre>array(2.)</pre></div></li><li class='xr-var-item'><div class='xr-var-name'><span class='xr-has-index'>lon</span></div><div class='xr-var-dims'>(lon)</div><div class='xr-var-dtype'>int64</div><div class='xr-var-preview xr-preview'>1 3 5 7 9 ... 349 351 353 355 357</div><input id='attrs-c30015ca-84a1-4a75-b28c-ccc8ff756aa1' class='xr-var-attrs-in' type='checkbox' ><label for='attrs-c30015ca-84a1-4a75-b28c-ccc8ff756aa1' title='Show/Hide attributes'><svg class='icon xr-icon-file-text2'><use xlink:href='#icon-file-text2'></use></svg></label><input id='data-eacfcf1e-0711-47f3-8dba-04e05e772885' class='xr-var-data-in' type='checkbox'><label for='data-eacfcf1e-0711-47f3-8dba-04e05e772885' title='Show/Hide data repr'><svg class='icon xr-icon-database'><use xlink:href='#icon-database'></use></svg></label><div class='xr-var-attrs'><dl class='xr-attrs'><dt><span>axis :</span></dt><dd>X</dd><dt><span>bounds :</span></dt><dd>lon_bnds</dd><dt><span>long_name :</span></dt><dd>Longitude</dd><dt><span>standard_name :</span></dt><dd>longitude</dd><dt><span>units :</span></dt><dd>degrees_east</dd></dl></div><div class='xr-var-data'><pre>array([  1,   3,   5,   7,   9,  11,  13,  15,  17,  19,  21,  23,  25,  27,\n",
              "        29,  31,  33,  35,  37,  39,  41,  43,  45,  47,  49,  51,  53,  55,\n",
              "        57,  59,  61,  63,  65,  67,  69,  71,  73,  75,  77,  79,  81,  83,\n",
              "        85,  87,  89,  91,  93,  95,  97,  99, 101, 103, 105, 107, 109, 111,\n",
              "       113, 115, 117, 119, 121, 123, 125, 127, 129, 131, 133, 135, 137, 139,\n",
              "       141, 143, 145, 147, 149, 151, 153, 155, 157, 159, 161, 163, 165, 167,\n",
              "       169, 171, 173, 175, 177, 179, 181, 183, 185, 187, 189, 191, 193, 195,\n",
              "       197, 199, 201, 203, 205, 207, 209, 211, 213, 215, 217, 219, 221, 223,\n",
              "       225, 227, 229, 231, 233, 235, 237, 239, 241, 243, 245, 247, 249, 251,\n",
              "       253, 255, 257, 259, 261, 263, 265, 267, 269, 271, 273, 275, 277, 279,\n",
              "       281, 283, 285, 287, 289, 291, 293, 295, 297, 299, 301, 303, 305, 307,\n",
              "       309, 311, 313, 315, 317, 319, 321, 323, 325, 327, 329, 331, 333, 335,\n",
              "       337, 339, 341, 343, 345, 347, 349, 351, 353, 355, 357])</pre></div></li><li class='xr-var-item'><div class='xr-var-name'><span class='xr-has-index'>lat</span></div><div class='xr-var-dims'>(lat)</div><div class='xr-var-dtype'>int64</div><div class='xr-var-preview xr-preview'>-89 -87 -85 -83 -81 ... 81 83 85 87</div><input id='attrs-72dec772-7691-4ab1-9789-1dfd16b8e403' class='xr-var-attrs-in' type='checkbox' ><label for='attrs-72dec772-7691-4ab1-9789-1dfd16b8e403' title='Show/Hide attributes'><svg class='icon xr-icon-file-text2'><use xlink:href='#icon-file-text2'></use></svg></label><input id='data-1debd0e9-4e87-4f24-a494-99a49549a510' class='xr-var-data-in' type='checkbox'><label for='data-1debd0e9-4e87-4f24-a494-99a49549a510' title='Show/Hide data repr'><svg class='icon xr-icon-database'><use xlink:href='#icon-database'></use></svg></label><div class='xr-var-attrs'><dl class='xr-attrs'><dt><span>axis :</span></dt><dd>Y</dd><dt><span>bounds :</span></dt><dd>lat_bnds</dd><dt><span>long_name :</span></dt><dd>Latitude</dd><dt><span>standard_name :</span></dt><dd>latitude</dd><dt><span>units :</span></dt><dd>degrees_north</dd></dl></div><div class='xr-var-data'><pre>array([-89, -87, -85, -83, -81, -79, -77, -75, -73, -71, -69, -67, -65, -63,\n",
              "       -61, -59, -57, -55, -53, -51, -49, -47, -45, -43, -41, -39, -37, -35,\n",
              "       -33, -31, -29, -27, -25, -23, -21, -19, -17, -15, -13, -11,  -9,  -7,\n",
              "        -5,  -3,  -1,   1,   3,   5,   7,   9,  11,  13,  15,  17,  19,  21,\n",
              "        23,  25,  27,  29,  31,  33,  35,  37,  39,  41,  43,  45,  47,  49,\n",
              "        51,  53,  55,  57,  59,  61,  63,  65,  67,  69,  71,  73,  75,  77,\n",
              "        79,  81,  83,  85,  87])</pre></div></li></ul></div></li><li class='xr-section-item'><input id='section-b9cf94a9-d0e7-4496-963f-572ea39e9b3c' class='xr-section-summary-in' type='checkbox' disabled ><label for='section-b9cf94a9-d0e7-4496-963f-572ea39e9b3c' class='xr-section-summary'  title='Expand/collapse section'>Attributes: <span>(0)</span></label><div class='xr-section-inline-details'></div><div class='xr-section-details'><dl class='xr-attrs'></dl></div></li></ul></div></div>"
            ],
            "text/plain": [
              "<xarray.DataArray 'tas' (year: 87, lat: 89, lon: 179)>\n",
              "dask.array<getitem, shape=(87, 89, 179), dtype=float32, chunksize=(1, 89, 179), chunktype=numpy.ndarray>\n",
              "Coordinates:\n",
              "  * year     (year) int64 2014 2015 2016 2017 2018 ... 2096 2097 2098 2099 2100\n",
              "    height   float64 ...\n",
              "  * lon      (lon) int64 1 3 5 7 9 11 13 15 ... 343 345 347 349 351 353 355 357\n",
              "  * lat      (lat) int64 -89 -87 -85 -83 -81 -79 -77 ... 75 77 79 81 83 85 87"
            ]
          },
          "metadata": {
            "tags": []
          },
          "execution_count": 23
        }
      ]
    },
    {
      "cell_type": "markdown",
      "metadata": {
        "id": "QdGXa2hCp6tD"
      },
      "source": [
        "Find complete runs\n",
        "\n",
        "\n"
      ]
    },
    {
      "cell_type": "code",
      "metadata": {
        "id": "Q2AYLtYelCCY",
        "colab": {
          "base_uri": "https://localhost:8080/",
          "height": 334
        },
        "outputId": "51c1a681-55dd-4585-e559-76400d4b42f6"
      },
      "source": [
        "\n",
        "if readdata:\n",
        "  out = display(progress(0, 1), display_id=True)\n",
        "  for i,d in enumerate(dall,start=0):\n",
        "    tmp=xr.merge(d[:])\n",
        "    tmp.to_netcdf('/content/drive/MyDrive/colab_4xco2/'+expts[i]+'.nc')\n",
        "    #lat=tmp.tas.lat\n",
        "    #weights = np.cos(np.deg2rad(lat))\n",
        "    #weights.name = \"weights\"\n",
        "    #tmp_gm=tmp.weighted(weights).mean(dim='lat').mean(dim='lon')\n",
        "    #tmp_gm.to_netcdf('/content/drive/MyDrive/colab_4xco2/'+expts[i]+'_gm.nc')\n",
        "    out.update(progress(i,ne))\n",
        "\n"
      ],
      "execution_count": null,
      "outputs": [
        {
          "output_type": "display_data",
          "data": {
            "text/html": [
              "\n",
              "        <progress\n",
              "            value='5'\n",
              "            max='6',\n",
              "            style='width: 100%'\n",
              "        >\n",
              "            5\n",
              "        </progress>\n",
              "    "
            ],
            "text/plain": [
              "<IPython.core.display.HTML object>"
            ]
          },
          "metadata": {
            "tags": []
          }
        },
        {
          "output_type": "stream",
          "text": [
            "/usr/local/lib/python3.7/dist-packages/dask/array/core.py:3908: PerformanceWarning: Increasing number of chunks by factor of 34\n",
            "  **blockwise_kwargs,\n",
            "/usr/local/lib/python3.7/dist-packages/dask/array/core.py:3908: PerformanceWarning: Increasing number of chunks by factor of 34\n",
            "  **blockwise_kwargs,\n",
            "/usr/local/lib/python3.7/dist-packages/dask/array/core.py:3908: PerformanceWarning: Increasing number of chunks by factor of 34\n",
            "  **blockwise_kwargs,\n",
            "/usr/local/lib/python3.7/dist-packages/dask/array/core.py:3908: PerformanceWarning: Increasing number of chunks by factor of 34\n",
            "  **blockwise_kwargs,\n",
            "/usr/local/lib/python3.7/dist-packages/dask/array/core.py:3908: PerformanceWarning: Increasing number of chunks by factor of 34\n",
            "  **blockwise_kwargs,\n",
            "/usr/local/lib/python3.7/dist-packages/dask/array/core.py:3908: PerformanceWarning: Increasing number of chunks by factor of 34\n",
            "  **blockwise_kwargs,\n",
            "/usr/local/lib/python3.7/dist-packages/dask/array/core.py:3908: PerformanceWarning: Increasing number of chunks by factor of 34\n",
            "  **blockwise_kwargs,\n",
            "/usr/local/lib/python3.7/dist-packages/dask/array/core.py:3908: PerformanceWarning: Increasing number of chunks by factor of 34\n",
            "  **blockwise_kwargs,\n",
            "/usr/local/lib/python3.7/dist-packages/dask/array/core.py:3908: PerformanceWarning: Increasing number of chunks by factor of 34\n",
            "  **blockwise_kwargs,\n"
          ],
          "name": "stderr"
        }
      ]
    },
    {
      "cell_type": "code",
      "metadata": {
        "id": "HUN2orjBqEe5",
        "colab": {
          "base_uri": "https://localhost:8080/",
          "height": 33
        },
        "outputId": "5d4f557b-451d-4a76-89af-15a67eaf91c3"
      },
      "source": [
        "\n",
        "  \n",
        "if readdata:\n",
        "  out = display(progress(0, 1), display_id=True)\n",
        "  for i,d in enumerate(dall,start=0):\n",
        "    tmp=xr.open_dataset('/content/drive/MyDrive/colab_4xco2/'+expts[i]+'.nc')\n",
        "    lat=tmp.tas.lat\n",
        "    weights = np.cos(np.deg2rad(lat))\n",
        "    weights.name = \"weights\"\n",
        "    tmp_gm=tmp.weighted(weights).mean(dim='lat').mean(dim='lon')\n",
        "    tmp_gm.to_netcdf('/content/drive/MyDrive/colab_4xco2/'+expts[i]+'_gm.nc')\n",
        "    out.update(progress(i,ne))\n"
      ],
      "execution_count": null,
      "outputs": [
        {
          "output_type": "display_data",
          "data": {
            "text/html": [
              "\n",
              "        <progress\n",
              "            value='5'\n",
              "            max='6',\n",
              "            style='width: 100%'\n",
              "        >\n",
              "            5\n",
              "        </progress>\n",
              "    "
            ],
            "text/plain": [
              "<IPython.core.display.HTML object>"
            ]
          },
          "metadata": {
            "tags": []
          }
        }
      ]
    }
  ]
}